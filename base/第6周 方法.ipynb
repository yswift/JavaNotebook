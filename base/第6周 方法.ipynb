{
 "cells": [
  {
   "cell_type": "markdown",
   "metadata": {},
   "source": [
    "# Java 方法\n",
    "\n",
    "在前面我们经常使用到 System.out.println()，那么它是什么呢？\n",
    "- `println()` 是一个方法。\n",
    "- `System` 是系统类。\n",
    "- `out` 是标准输出对象。\n",
    "这句话的用法是调用系统类 `System` 中的标准输出对象 `out` 中的方法 `println()`。 \n",
    "\n",
    "\n",
    "## 方法的基本概念\n",
    "\n",
    "　　在Java的语言中，方法相当于C语言中的函数，但是它与传统的函数也有着明确的不同：在结构化的语言中，函数是一等公民，整个程序是由一个个函数组成的；但是在面向对象的语言里，类是一等公民，整个程序是由一个个类组成的。因此在Java中，方法不能独立存在，它只能属于类或者对象。因此，如果我们要定义一个方法，就必须在类中定义。值得注意的是，如果这个方法添加了修饰符`static`(这个修饰符后面会详细说明)，这个方法就属于这个类，否则的话，这个方法属于这个类的实例。\n",
    "\n",
    "　　我们调用方法的方式为：`类.方法` 或 `实例.方法`。但是当我们在一个类中的方法调用相同类中的方法时，如果这个方法是普通的方法，我们需要用到`this`来调用；如果这个方法是静态的方法(`static`修饰)，我们需要用类名来调用。\n",
    "  \n",
    "## 什么是方法\n",
    "\n",
    "Java方法是语句的集合，它们在一起执行一个功能。\n",
    "- 方法是解决一类问题的步骤的有序组合\n",
    "- 方法包含于类或对象中\n",
    "- 方法在程序中被创建，在其他地方被引用\n",
    "\n",
    "例如：\n",
    "- `System.out.println()` 向控制台输出\n",
    "- `Scanner的next()` 从键盘输入字符串\n",
    "- `Scanner的nextInt()` 从键盘输入整数\n",
    "\n",
    "## 方法的优点\n",
    "    1. 使程序变得更简短而清晰。\n",
    "    2. 有利于程序维护。\n",
    "    3. 可以提高程序开发的效率。\n",
    "    4. 提高了代码的重用性。\n",
    "    \n",
    "## 方法的命名规则\n",
    "    1.方法的名字的第一个单词应以小写字母作为开头，后面的单词则用大写字母开头写，不使用连接符。例如：addPerson。\n",
    "    2.下划线可能出现在 JUnit 测试方法名称中用以分隔名称的逻辑组件。一个典型的模式是：test<MethodUnderTest>_<state>，例如 testPop_emptyStack。 \n",
    "    \n",
    "## 我们使用过的方法\n",
    "1. `public static void main(String[] args)` 程序入口\n",
    "2. `System.out.println` 输出\n",
    "3. `next()` 输入\n",
    "\n",
    "## 方法的定义\n",
    "一般情况下，定义一个方法包含以下语法：  \n",
    "`\n",
    "修饰符 返回值类型 方法名(参数类型 参数名){\n",
    "    ...\n",
    "    方法体\n",
    "    ...\n",
    "    return 返回值;\n",
    "}\n",
    "`\n",
    "\n",
    "方法包含一个方法头和一个方法体。下面是一个方法的所有部分：\n",
    "- 修饰符：修饰符，这是可选的，告诉编译器如何调用该方法。定义了该方法的访问类型。\n",
    "- 返回值类型 ：方法可能会返回值。returnValueType 是方法返回值的数据类型。有些方法执行所需的操作，但没有返回值。在这种情况下，returnValueType 是关键字void。\n",
    "- 方法名：是方法的实际名称。方法名和参数表共同构成方法签名。\n",
    "- 参数类型：参数像是一个占位符。当方法被调用时，传递值给参数。这个值被称为实参或变量。参数列表是指方法的参数类型、顺序和参数的个数。参数是可选的，方法可以不包含任何参数。\n",
    "- 方法体：方法体包含具体的语句，定义该方法的功能。\n",
    "- return：结束方法的。\n",
    "- 返回值：就是功能的结果，由return带给调用者。\n",
    "\n",
    "例如：`main`方法\n",
    "```Java\n",
    "public static void main(String[] args) {\n",
    "    System.out.println(\"hello world\");\n",
    "}\n",
    "```"
   ]
  },
  {
   "cell_type": "markdown",
   "metadata": {},
   "source": [
    "### 作业1\n",
    "指出`main`方法中的`修饰符 返回值类型 方法名 参数类型 参数名 方法体`分别是什么。【补充完整】\n",
    "- 修饰符：public static\n",
    "- 返回值类型: "
   ]
  },
  {
   "cell_type": "markdown",
   "metadata": {},
   "source": [
    "#### 根据方法是否带参、是否带返回值，可将方法分为四类：\n",
    "- 无参无返回值方法\n",
    "- 无参带返回值方法\n",
    "- 带参无返回值方法\n",
    "- 带参带返回值方法"
   ]
  },
  {
   "cell_type": "code",
   "execution_count": 2,
   "metadata": {},
   "outputs": [
    {
     "name": "stdout",
     "output_type": "stream",
     "text": [
      "请输入两个整数，用空格分开: \n",
      "3 12\n",
      "max = 12\n"
     ]
    }
   ],
   "source": [
    "// 例题1：求两个数中的最大值的方法\n",
    "\n",
    "import java.util.Scanner;\n",
    "\n",
    "public class Lt6_1 {\n",
    "\t// 求两个数中的最大值的方法\n",
    "\t// 为了调用方便把方式设为静态的（static关键字），后面的课程有静态方法的解释，\n",
    "\t// 在这个章节中，我们些的所有方法都是静态（static）的\n",
    "\t// int a, int b 称为形参，用于接收值\n",
    "\tstatic int max(int a, int b) {\n",
    "\t\tint max;\n",
    "\t\tif (a >= b) {\n",
    "\t\t\tmax = a;\n",
    "\t\t} else {\n",
    "\t\t\tmax = b;\n",
    "\t\t}\n",
    "\t\t// 返回 max 给调用者\n",
    "\t\treturn max;\n",
    "\t}\n",
    "\t\n",
    "\tpublic static void main(String[] args) {\n",
    "\t\t// 定义对象in\n",
    "\t\tScanner in = new Scanner(System.in);\n",
    "\t\tSystem.out.println(\"请输入两个整数，用空格分开: \");\n",
    "\t\t// 调用对象in的nextInt方法，从键盘输入整数\n",
    "\t\tint m = in.nextInt();\n",
    "\t\tint n = in.nextInt();\n",
    "\t\t// 调用max方法，求m,n的最大值，\n",
    "\t\t// 把实参m，n传递给 max的形参a,b\n",
    "\t\t// 把max的返回值，赋值给变量maxValue\n",
    "\t\tint maxValue = max(m, n);\n",
    "        System.out.println(\"max = \" + maxValue);\n",
    "\t}\n",
    "}\n",
    "Lt6_1.main(null);"
   ]
  },
  {
   "cell_type": "markdown",
   "metadata": {},
   "source": [
    "![i6-1](img/i6-1.png)\n",
    "\n",
    "## 方法调用1\n",
    "Java 支持两种调用方法的方式，根据方法是否返回值来选择。   \n",
    "当程序调用一个方法时，程序的控制权交给了被调用的方法。当被调用方法的返回语句执行或者到达方法体闭括号时候交还控制权给程序。  \n",
    "当方法返回一个值的时候，方法调用通常被当做一个值。例如：   \n",
    "```Java\n",
    "int maxValue = max(m, n);\n",
    "```\n",
    "如果方法返回值是void，方法调用一定是一条语句。例如，方法println返回void。下面的调用是个语句：   \n",
    "```Java\n",
    "System.out.println(\"max = \" + maxValue);\n",
    "```\n",
    "## 方法调用2\n",
    "根据方法的来源，可以分为调用本类定义的方法，的调用其他类，对象的方法。\n",
    "- 调用本类中的方法\n",
    "```Java\n",
    "int maxValue = max(m, n);\n",
    "```\n",
    "- 调用其他类，对象的方法\n",
    "```Java\n",
    "Scanner in = new Scanner(System.in);\n",
    "int m = in.nextInt();\n",
    "```"
   ]
  },
  {
   "cell_type": "markdown",
   "metadata": {},
   "source": [
    "## 方法的返回值\n",
    "1. 无返回值, 用void\n",
    "```Java\n",
    "void f1() {\n",
    "}\n",
    "```\n",
    "2. 要返回声明的类型  \n",
    "正确：\n",
    "```Java\n",
    "int f2() {\n",
    "    return 10;\n",
    "}\n",
    "```\n",
    "错误：\n",
    "```Java\n",
    "int f3() {\n",
    "    return 3.14;\n",
    "}\n",
    "```\n",
    "3. 声明了返回值，就一定要返回  \n",
    "正确：\n",
    "```Java\n",
    "double f4() {\n",
    "    return 3.14;\n",
    "}\n",
    "```\n",
    "错误：\n",
    "```Java\n",
    "int f5() {\n",
    "    // 错误：无return\n",
    "}\n",
    "```"
   ]
  },
  {
   "cell_type": "markdown",
   "metadata": {},
   "source": [
    "## 方法的参数传递机制\n",
    "\n",
    "方法的参数分为两种：形参和实参。形参代表方法定义上的，用于接收实际参数的参数。实参代表实际参与运算的参数。  \n",
    "Java中方法的参数传递都是通过值传递实现的，所谓值传递，就是将实际参数值变量中的副本传入方法内，而参数本身不会受到任何影响。"
   ]
  },
  {
   "cell_type": "raw",
   "metadata": {},
   "source": []
  },
  {
   "cell_type": "code",
   "execution_count": 3,
   "metadata": {},
   "outputs": [
    {
     "name": "stdout",
     "output_type": "stream",
     "text": [
      "main中，交换前\n",
      "m=10, n=20\n",
      "swap中，交换前\n",
      "a=10, b=20\n",
      "swap中，交换后\n",
      "a=20, b=10\n",
      "main中，交换后\n",
      "m=10, n=20\n"
     ]
    }
   ],
   "source": [
    "public class Lt6_2 {\n",
    "\t// 下面的方法，想要交换两个变量的值，但不成功\n",
    "\tstatic void swap(int a, int b) {\n",
    "\t\tSystem.out.println(\"swap中，交换前\");\n",
    "\t\tSystem.out.println(\"a=\" + a + \", b=\" + b);\n",
    "\t\tint t = a;\n",
    "\t\ta = b;\n",
    "\t\tb = t;\n",
    "\t\tSystem.out.println(\"swap中，交换后\");\n",
    "\t\tSystem.out.println(\"a=\" + a + \", b=\" + b);\n",
    "\t}\n",
    "\n",
    "\tpublic static void main(String[] args) {\n",
    "\t\tint m = 10;\n",
    "\t\tint n = 20;\n",
    "\t\tSystem.out.println(\"main中，交换前\");\n",
    "\t\tSystem.out.println(\"m=\" + m + \", n=\" + n);\n",
    "\t\t\n",
    "\t\tswap(m, n);\n",
    "\t\t\n",
    "\t\tSystem.out.println(\"main中，交换后\");\n",
    "\t\tSystem.out.println(\"m=\" + m + \", n=\" + n);\n",
    "\t}\n",
    "}\n",
    "Lt6_2.main(null);"
   ]
  },
  {
   "cell_type": "markdown",
   "metadata": {},
   "source": [
    "注意：\n",
    "1. swap 方法中a,b的值被交换了\n",
    "2. main 方法中m,n的值未被交换"
   ]
  },
  {
   "cell_type": "markdown",
   "metadata": {},
   "source": [
    "## Java 中方法的重载\n",
    "\n",
    "如果同一个类中包含了两个或两个以上方法名相同、方法参数的个数、顺序或类型不同的方法，则称为方法的重载，也可称该方法被重载了。  \n",
    "上面使用的max方法仅仅适用于int型数据。但如果你想得到两个浮点类型数据的最大值呢？  \n",
    "解决方法是创建另一个有相同名字但参数不同的方法，如下面代码所示：   \n",
    "```Java\n",
    "public static double max(double num1, double num2) {\n",
    "    if (num1 > num2) {\n",
    "        return num1;\n",
    "    } else {\n",
    "        return num2;\n",
    "    }\n",
    "}\n",
    "```\n"
   ]
  },
  {
   "cell_type": "code",
   "execution_count": 4,
   "metadata": {},
   "outputs": [
    {
     "name": "stdout",
     "output_type": "stream",
     "text": [
      "31是偶数？false\n",
      "54是偶数？true\n"
     ]
    }
   ],
   "source": [
    "// 例题：编写判断是否是偶数的方法\n",
    "public class Lt6_3 {\n",
    "\t// 比较这两个方法，体会不同的写法\n",
    "\tstatic boolean isEven1(int n) {\n",
    "\t\tif (n % 2 == 0) {\n",
    "\t\t\treturn true;\n",
    "\t\t} else {\n",
    "\t\t\treturn false;\n",
    "\t\t}\n",
    "\t}\n",
    "\t\n",
    "\tstatic boolean isEven2(int n) {\n",
    "\t\treturn n % 2 == 0;\n",
    "\t}\n",
    "\t\n",
    "\tpublic static void main(String[] args) {\n",
    "\t\t// 注意，这里把方法调用结果作为 println的参数\n",
    "\t\tSystem.out.println(\"31是偶数？\" + isEven1(31));\n",
    "\t\tSystem.out.println(\"54是偶数？\" + isEven2(54));\n",
    "\t}\n",
    "}\n",
    "Lt6_3.main(null);"
   ]
  },
  {
   "cell_type": "markdown",
   "metadata": {},
   "source": [
    "## 作业2\n",
    "把Lt6_4中判断是否是闰年的方法`boolean isLeapYear(int year)`补充完整，并能通过测试"
   ]
  },
  {
   "cell_type": "code",
   "execution_count": 8,
   "metadata": {},
   "outputs": [
    {
     "name": "stdout",
     "output_type": "stream",
     "text": [
      "结果正确：1900不是闰年\n",
      "结果正确：2019不是闰年\n",
      "结果错误：2000是闰年\n",
      "结果错误：2020是闰年\n"
     ]
    }
   ],
   "source": [
    "public class Lt6_4 {\n",
    "\t// 补充完整这个方法，判断输入的年是否是闰年，\n",
    "\t// 如果是闰年返回true，不是闰年返回false\n",
    "\tstatic boolean isLeapYear(int year) {\n",
    "\t\treturn false;\n",
    "\t}\n",
    "\t\n",
    "\tstatic void test(String msg, boolean expect, boolean actual) {\n",
    "\t\tif (expect == actual ) {\n",
    "\t\t\tSystem.out.println(\"结果正确：\" + msg);\n",
    "\t\t} else {\n",
    "\t\t\tSystem.out.println(\"结果错误：\" + msg);\n",
    "\t\t}\n",
    "\t}\n",
    "\t\n",
    "\tpublic static void main(String[] args) {\n",
    "\t\ttest(\"1900不是闰年\", false, isLeapYear(1900));\n",
    "\t\ttest(\"2019不是闰年\", false, isLeapYear(2019));\n",
    "\t\ttest(\"2000是闰年\", true, isLeapYear(2000));\n",
    "\t\ttest(\"2020是闰年\", true, isLeapYear(2020));\n",
    "\t}\n",
    "}\n",
    "Lt6_4.main(null);"
   ]
  },
  {
   "cell_type": "markdown",
   "metadata": {},
   "source": [
    "## 作业3 验证哥德巴赫猜想\n",
    "\n",
    "1. 阅读，理解判断素数的方法`isPrime`\n",
    "2. 把代码补充完整，并得到正确的执行结果"
   ]
  },
  {
   "cell_type": "code",
   "execution_count": 7,
   "metadata": {},
   "outputs": [
    {
     "name": "stdout",
     "output_type": "stream",
     "text": [
      "结果正确：20不是素数\n",
      "结果正确：101是素数\n"
     ]
    }
   ],
   "source": [
    "public class Lt6_5 {\n",
    "\t// 判断参数n是否是素数\n",
    "\t// 是返回true，不是返回false\n",
    "\tstatic boolean isPrime(int n) {\n",
    "\t\tif (n < 2) {\n",
    "\t\t\treturn false;\n",
    "\t\t}\n",
    "\t\tif (n == 2) {\n",
    "\t\t\treturn true;\n",
    "\t\t}\n",
    "\t\tfor (int i=2; i<n/2; i++) {\n",
    "\t\t\tif (n % i == 0) {\n",
    "\t\t\t\treturn false;\n",
    "\t\t\t}\n",
    "\t\t}\n",
    "\t\treturn true;\n",
    "\t}\n",
    "\t\n",
    "\tstatic void test(String msg, boolean expect, boolean actual) {\n",
    "\t\tif (expect == actual ) {\n",
    "\t\t\tSystem.out.println(\"结果正确：\" + msg);\n",
    "\t\t} else {\n",
    "\t\t\tSystem.out.println(\"结果错误：\" + msg);\n",
    "\t\t}\n",
    "\t}\n",
    "\t\n",
    "\tpublic static void main(String[] args) {\n",
    "\t\ttest(\"20不是素数\", false, isPrime(20));\n",
    "\t\ttest(\"101是素数\", true, isPrime(101));\n",
    "\t\t\n",
    "\t\t// 编写代码，验证哥德巴赫猜想：任意大于6的偶数，都可以分解成两个素数的和\n",
    "\t\t// 验证 6-100之间的偶数\n",
    "        // 在下面编写你的代码\n",
    "\t}\n",
    "}\n",
    "Lt6_5.main(null);"
   ]
  }
 ],
 "metadata": {
  "kernelspec": {
   "display_name": "Java",
   "language": "java",
   "name": "java"
  },
  "language_info": {
   "codemirror_mode": "java",
   "file_extension": ".jshell",
   "mimetype": "text/x-java-source",
   "name": "Java",
   "pygments_lexer": "java",
   "version": "11.0.6+8-LTS"
  }
 },
 "nbformat": 4,
 "nbformat_minor": 4
}
