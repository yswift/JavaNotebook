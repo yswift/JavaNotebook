{
 "cells": [
  {
   "cell_type": "markdown",
   "metadata": {},
   "source": [
    "# Java 容器，数据处理\n",
    "\n",
    "Java容器在编程中会大量用到，熟练使用合适的容器能给我们的编程带来方便。  \n"
   ]
  },
  {
   "cell_type": "markdown",
   "metadata": {},
   "source": [
    "## 准备测试数据"
   ]
  },
  {
   "cell_type": "code",
   "execution_count": 3,
   "metadata": {},
   "outputs": [],
   "source": [
    "// 引入必要的包\n",
    "import java.util.*;\n",
    "\n",
    "// 本例中用到的数据类\n",
    "public class Person {\n",
    "    // 姓名\n",
    "    String name;\n",
    "    // 性别\n",
    "    String gender;\n",
    "    // 所属部门\n",
    "    String department;\n",
    "    // 年龄\n",
    "    int age;\n",
    "    // 身高\n",
    "    double height;\n",
    "    // 体重\n",
    "    double weight;\n",
    "\n",
    "    public Person(String name, String gender, String department, int age, double height, double weight) {\n",
    "        this.name = name;\n",
    "        this.gender = gender;\n",
    "        this.department = department;\n",
    "        this.age = age;\n",
    "        this.height = height;\n",
    "        this.weight = weight;\n",
    "    }\n",
    "    \n",
    "    @Override\n",
    "    public String toString() {\n",
    "        return \"\\nPerson{\" +\n",
    "                \"name='\" + name + '\\'' +\n",
    "                \", gender='\" + gender + '\\'' +\n",
    "                \", department='\" + department + '\\'' +\n",
    "                \", age=\" + age +\n",
    "                \", height=\" + height +\n",
    "                \", weight=\" + weight +\n",
    "                '}';\n",
    "    }\n",
    "}\n",
    " \n",
    "// 测试用的数据\n",
    "Person[] persons = {\n",
    "        new Person(\"赵一\", \"男\", \"计科\", 30, 1.7, 55),\n",
    "        new Person(\"钱二\", \"女\",\"计科\", 33, 1.77, 65),\n",
    "        new Person(\"孙三\", \"女\",\"电气\", 34, 1.73, 75),\n",
    "        new Person(\"李四\", \"男\",\"电气\", 35, 1.84, 62),\n",
    "        new Person(\"赵五\", \"女\",\"计科\", 27, 1.71, 69),\n",
    "        new Person(\"赵六\", \"男\",\"计科\", 26, 1.66, 67),\n",
    "        new Person(\"钱七\", \"女\",\"通信\", 40, 1.68, 58),\n",
    "        new Person(\"李八\", \"女\",\"计科\", 44, 1.69, 53),\n",
    "        new Person(\"孙九\", \"男\",\"通信\", 43, 1.88, 52),\n",
    "        new Person(\"李十\", \"男\",\"计科\", 45, 1.72, 59),\n",
    "};\n",
    "List<Person> personList = Arrays.asList(persons);"
   ]
  },
  {
   "cell_type": "code",
   "execution_count": 2,
   "metadata": {},
   "outputs": [
    {
     "name": "stdout",
     "output_type": "stream",
     "text": [
      "\n",
      "Person{name='赵一', gender='男', department='计科', age=30, height=1.7, weight=55.0}\n",
      "Person{name='钱二', gender='女', department='计科', age=33, height=1.77, weight=65.0}\n",
      "Person{name='孙三', gender='女', department='电气', age=34, height=1.73, weight=75.0}\n",
      "Person{name='李四', gender='男', department='电气', age=35, height=1.84, weight=62.0}\n",
      "Person{name='赵五', gender='女', department='计科', age=27, height=1.71, weight=69.0}\n",
      "Person{name='赵六', gender='男', department='计科', age=26, height=1.66, weight=67.0}\n",
      "Person{name='钱七', gender='女', department='通信', age=40, height=1.68, weight=58.0}\n",
      "Person{name='李八', gender='女', department='计科', age=44, height=1.69, weight=53.0}\n",
      "Person{name='孙九', gender='男', department='通信', age=43, height=1.88, weight=52.0}\n",
      "Person{name='李十', gender='男', department='计科', age=45, height=1.72, weight=59.0}"
     ]
    }
   ],
   "source": [
    "// 使用准备好的数据, 输出\n",
    "for (Person p : persons) {\n",
    "    System.out.print(p);\n",
    "}"
   ]
  },
  {
   "cell_type": "markdown",
   "metadata": {},
   "source": [
    "---\n",
    "### 按条件过滤、筛选数据\n",
    "#### 找出所有姓钱的人"
   ]
  },
  {
   "cell_type": "code",
   "execution_count": 3,
   "metadata": {},
   "outputs": [
    {
     "name": "stdout",
     "output_type": "stream",
     "text": [
      "\n",
      "Person{name='钱二', gender='女', department='计科', age=33, height=1.77, weight=65.0}\n",
      "Person{name='钱七', gender='女', department='通信', age=40, height=1.68, weight=58.0}"
     ]
    }
   ],
   "source": [
    "// 找出所有姓钱的人\n",
    "for (Person p : persons) {\n",
    "    if (p.name.startsWith(\"钱\")) {\n",
    "        System.out.print(p);\n",
    "    }\n",
    "}"
   ]
  },
  {
   "cell_type": "markdown",
   "metadata": {},
   "source": [
    "将上述代码放入方法中，以便重复使用"
   ]
  },
  {
   "cell_type": "code",
   "execution_count": 4,
   "metadata": {},
   "outputs": [],
   "source": [
    "// 找出plist中所有姓为lastName的人，返回满足条件的List\n",
    "List<Person> getPersonsByLastName(List<Person> plist, String lastName) {\n",
    "    ArrayList<Person> ps = new ArrayList<>();\n",
    "    for (Person p : plist) {\n",
    "        if (p.name.startsWith(lastName)) {\n",
    "            ps.add(p);\n",
    "        }\n",
    "    }\n",
    "    return ps;\n",
    "}"
   ]
  },
  {
   "cell_type": "markdown",
   "metadata": {},
   "source": [
    "验证编写getPersonsByLastName方法"
   ]
  },
  {
   "cell_type": "code",
   "execution_count": 5,
   "metadata": {},
   "outputs": [
    {
     "name": "stdout",
     "output_type": "stream",
     "text": [
      "输出所有姓钱的人\n",
      "[\n",
      "Person{name='钱二', gender='女', department='计科', age=33, height=1.77, weight=65.0}, \n",
      "Person{name='钱七', gender='女', department='通信', age=40, height=1.68, weight=58.0}]\n"
     ]
    }
   ],
   "source": [
    "System.out.println(\"输出所有姓钱的人\");\n",
    "List<Person> qians = getPersonsByLastName(personList, \"钱\");\n",
    "System.out.println(qians);"
   ]
  },
  {
   "cell_type": "code",
   "execution_count": 6,
   "metadata": {},
   "outputs": [
    {
     "name": "stdout",
     "output_type": "stream",
     "text": [
      "输出所有姓孙的人\n",
      "[\n",
      "Person{name='孙三', gender='女', department='电气', age=34, height=1.73, weight=75.0}, \n",
      "Person{name='孙九', gender='男', department='通信', age=43, height=1.88, weight=52.0}]\n"
     ]
    }
   ],
   "source": [
    "System.out.println(\"输出所有姓孙的人\");\n",
    "List<Person> qians = getPersonsByLastName(personList, \"孙\");\n",
    "System.out.println(qians);"
   ]
  },
  {
   "cell_type": "markdown",
   "metadata": {},
   "source": [
    "#### 作业1\n",
    "仿照`getPersonsByLastName`方法，编写如下方法\n",
    "1. 获取给定参数 `List<Person> plist` 中所有男性的方法\n",
    "1. 获取给定参数 `List<Person> plist` 中所有所有年龄在40-49岁中的所有人的方法\n",
    "1. 获取给定参数 `List<Person> plist` 中所有所有身高在 1.7m 以上的所有人的方法"
   ]
  },
  {
   "cell_type": "markdown",
   "metadata": {},
   "source": [
    "---\n",
    "### 对数据进行简单统计\n",
    "\n",
    "计算给定人员的平均体重"
   ]
  },
  {
   "cell_type": "code",
   "execution_count": 7,
   "metadata": {},
   "outputs": [
    {
     "name": "stdout",
     "output_type": "stream",
     "text": [
      "平均体重： 61.5\n"
     ]
    }
   ],
   "source": [
    "double sum = 0;\n",
    "for (Person p : persons) {\n",
    "    sum += p.weight;\n",
    "}\n",
    "double avg = sum / persons.length;\n",
    "System.out.println(\"平均体重： \" + avg);"
   ]
  },
  {
   "cell_type": "code",
   "execution_count": 8,
   "metadata": {},
   "outputs": [
    {
     "name": "stdout",
     "output_type": "stream",
     "text": [
      "\n",
      "Person{name='钱二', gender='女', department='计科', age=33, height=1.77, weight=65.0}\n",
      "Person{name='孙三', gender='女', department='电气', age=34, height=1.73, weight=75.0}\n",
      "Person{name='李四', gender='男', department='电气', age=35, height=1.84, weight=62.0}\n",
      "Person{name='赵五', gender='女', department='计科', age=27, height=1.71, weight=69.0}\n",
      "Person{name='赵六', gender='男', department='计科', age=26, height=1.66, weight=67.0}"
     ]
    }
   ],
   "source": [
    "// 输出体重大于平均体重的人\n",
    "for (Person p : persons) {\n",
    "    if (p.weight > avg) {\n",
    "        System.out.print(p);\n",
    "    }\n",
    "}"
   ]
  },
  {
   "cell_type": "markdown",
   "metadata": {},
   "source": [
    "#### 作业2\n",
    "仿照上面的代码，编写代码\n",
    "1. 计算 `persons` 中所有人的平均身高\n",
    "1. 输出`persons` 中身高大于平均身高的人"
   ]
  },
  {
   "cell_type": "markdown",
   "metadata": {},
   "source": [
    "---\n",
    "### 对数据排序\n",
    "\n",
    "对数据排序，主要的是要实现两个对象比较的 Compartor 接口，后使用Arrays.sort, 或 Collections.sort方法执行排序。\n",
    "\n",
    "例1：按姓名排序"
   ]
  },
  {
   "cell_type": "code",
   "execution_count": 9,
   "metadata": {},
   "outputs": [
    {
     "name": "stdout",
     "output_type": "stream",
     "text": [
      "数组排序\n",
      "[\n",
      "Person{name='孙三', gender='女', department='电气', age=34, height=1.73, weight=75.0}, \n",
      "Person{name='孙九', gender='男', department='通信', age=43, height=1.88, weight=52.0}, \n",
      "Person{name='李八', gender='女', department='计科', age=44, height=1.69, weight=53.0}, \n",
      "Person{name='李十', gender='男', department='计科', age=45, height=1.72, weight=59.0}, \n",
      "Person{name='李四', gender='男', department='电气', age=35, height=1.84, weight=62.0}, \n",
      "Person{name='赵一', gender='男', department='计科', age=30, height=1.7, weight=55.0}, \n",
      "Person{name='赵五', gender='女', department='计科', age=27, height=1.71, weight=69.0}, \n",
      "Person{name='赵六', gender='男', department='计科', age=26, height=1.66, weight=67.0}, \n",
      "Person{name='钱七', gender='女', department='通信', age=40, height=1.68, weight=58.0}, \n",
      "Person{name='钱二', gender='女', department='计科', age=33, height=1.77, weight=65.0}]\n",
      "List排序\n",
      "[\n",
      "Person{name='孙三', gender='女', department='电气', age=34, height=1.73, weight=75.0}, \n",
      "Person{name='孙九', gender='男', department='通信', age=43, height=1.88, weight=52.0}, \n",
      "Person{name='李八', gender='女', department='计科', age=44, height=1.69, weight=53.0}, \n",
      "Person{name='李十', gender='男', department='计科', age=45, height=1.72, weight=59.0}, \n",
      "Person{name='李四', gender='男', department='电气', age=35, height=1.84, weight=62.0}, \n",
      "Person{name='赵一', gender='男', department='计科', age=30, height=1.7, weight=55.0}, \n",
      "Person{name='赵五', gender='女', department='计科', age=27, height=1.71, weight=69.0}, \n",
      "Person{name='赵六', gender='男', department='计科', age=26, height=1.66, weight=67.0}, \n",
      "Person{name='钱七', gender='女', department='通信', age=40, height=1.68, weight=58.0}, \n",
      "Person{name='钱二', gender='女', department='计科', age=33, height=1.77, weight=65.0}]\n"
     ]
    }
   ],
   "source": [
    "// 通过实现两个对象比较的 Compartor 接口，定义比较器。\n",
    "Comparator<Person> nameComparator = new Comparator<Person>() {\n",
    "    @Override\n",
    "    public int compare(Person o1, Person o2) {\n",
    "        return o1.name.compareTo(o2.name);\n",
    "    }\n",
    "};\n",
    "// 使用nameComparator对数组，和List排序\n",
    "System.out.println(\"数组排序\");\n",
    "Arrays.sort(persons, nameComparator);\n",
    "System.out.println(Arrays.asList(persons));\n",
    "\n",
    "System.out.println(\"List排序\");\n",
    "Collections.sort(personList, nameComparator);\n",
    "System.out.println(Arrays.asList(persons));"
   ]
  },
  {
   "cell_type": "markdown",
   "metadata": {},
   "source": [
    "例2：按年龄排序"
   ]
  },
  {
   "cell_type": "code",
   "execution_count": 4,
   "metadata": {},
   "outputs": [
    {
     "name": "stdout",
     "output_type": "stream",
     "text": [
      "按年龄数组排序\n",
      "[\n",
      "Person{name='赵六', gender='男', department='计科', age=26, height=1.66, weight=67.0}, \n",
      "Person{name='赵五', gender='女', department='计科', age=27, height=1.71, weight=69.0}, \n",
      "Person{name='赵一', gender='男', department='计科', age=30, height=1.7, weight=55.0}, \n",
      "Person{name='钱二', gender='女', department='计科', age=33, height=1.77, weight=65.0}, \n",
      "Person{name='孙三', gender='女', department='电气', age=34, height=1.73, weight=75.0}, \n",
      "Person{name='李四', gender='男', department='电气', age=35, height=1.84, weight=62.0}, \n",
      "Person{name='钱七', gender='女', department='通信', age=40, height=1.68, weight=58.0}, \n",
      "Person{name='孙九', gender='男', department='通信', age=43, height=1.88, weight=52.0}, \n",
      "Person{name='李八', gender='女', department='计科', age=44, height=1.69, weight=53.0}, \n",
      "Person{name='李十', gender='男', department='计科', age=45, height=1.72, weight=59.0}]\n"
     ]
    }
   ],
   "source": [
    "// 通过实现两个对象比较的 Compartor 接口，定义比较器。\n",
    "Comparator<Person> ageComparator = new Comparator<Person>() {\n",
    "    @Override\n",
    "    public int compare(Person o1, Person o2) {\n",
    "        return o1.age - o2.age;\n",
    "    }\n",
    "};\n",
    "// 使用ageComparator对数组\n",
    "System.out.println(\"按年龄数组排序\");\n",
    "Arrays.sort(persons, ageComparator);\n",
    "System.out.println(Arrays.asList(persons));"
   ]
  },
  {
   "cell_type": "markdown",
   "metadata": {},
   "source": [
    "#### 作业3\n",
    "仿照上面的代码，编写代码\n",
    "1. 按年龄的逆序排序\n",
    "1. 按身高排序"
   ]
  },
  {
   "cell_type": "markdown",
   "metadata": {},
   "source": [
    "---\n",
    "### 分组\n",
    "\n",
    "分组，是为了把具有某种相同特性的对象分配到一个组中，一般使用 `HashMap` 存储分组后的数据, `key`代表特性，`value` 中是具有特性的对象列表\n",
    "\n",
    "\n",
    "例1：按姓分组"
   ]
  },
  {
   "cell_type": "code",
   "execution_count": 10,
   "metadata": {},
   "outputs": [
    {
     "name": "stdout",
     "output_type": "stream",
     "text": [
      "姓: 钱\n",
      "[\n",
      "Person{name='钱七', gender='女', department='通信', age=40, height=1.68, weight=58.0}, \n",
      "Person{name='钱二', gender='女', department='计科', age=33, height=1.77, weight=65.0}]\n",
      "姓: 赵\n",
      "[\n",
      "Person{name='赵一', gender='男', department='计科', age=30, height=1.7, weight=55.0}, \n",
      "Person{name='赵五', gender='女', department='计科', age=27, height=1.71, weight=69.0}, \n",
      "Person{name='赵六', gender='男', department='计科', age=26, height=1.66, weight=67.0}]\n",
      "姓: 孙\n",
      "[\n",
      "Person{name='孙三', gender='女', department='电气', age=34, height=1.73, weight=75.0}, \n",
      "Person{name='孙九', gender='男', department='通信', age=43, height=1.88, weight=52.0}]\n",
      "姓: 李\n",
      "[\n",
      "Person{name='李八', gender='女', department='计科', age=44, height=1.69, weight=53.0}, \n",
      "Person{name='李十', gender='男', department='计科', age=45, height=1.72, weight=59.0}, \n",
      "Person{name='李四', gender='男', department='电气', age=35, height=1.84, weight=62.0}]\n"
     ]
    }
   ],
   "source": [
    "Map<String, List<Person>> group = new HashMap<>();\n",
    "for (Person p : personList) {\n",
    "    List<Person> gs = group.get(p.name.substring(0, 1));\n",
    "    if (gs == null) {\n",
    "        gs = new ArrayList<>();\n",
    "        group.put(p.name.substring(0, 1), gs);\n",
    "    }\n",
    "    gs.add(p);\n",
    "}\n",
    "\n",
    "// 输出分组数据\n",
    "for (var e : group.entrySet()) {\n",
    "    System.out.println(\"姓: \" + e.getKey());\n",
    "    System.out.println(e.getValue());\n",
    "}"
   ]
  },
  {
   "cell_type": "markdown",
   "metadata": {},
   "source": [
    "#### 作业4\n",
    "仿照上面的代码，编写代码\n",
    "1. 按所在部门分组\n",
    "1. 按性别分组"
   ]
  }
 ],
 "metadata": {
  "kernelspec": {
   "display_name": "Java",
   "language": "java",
   "name": "java"
  },
  "language_info": {
   "codemirror_mode": "java",
   "file_extension": ".jshell",
   "mimetype": "text/x-java-source",
   "name": "Java",
   "pygments_lexer": "java",
   "version": "11.0.6+8-LTS"
  }
 },
 "nbformat": 4,
 "nbformat_minor": 4
}
