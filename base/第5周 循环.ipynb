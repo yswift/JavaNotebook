{
 "cells": [
  {
   "cell_type": "markdown",
   "metadata": {},
   "source": [
    "# Java 循环结构\n",
    "\n",
    "顺序结构的程序语句只能被执行一次。如果您想要同样的操作执行多次,，就需要使用循环结构。\n",
    "\n",
    "Java中有三种主要的循环结构：\n",
    "- `while` 循环\n",
    "- `do…while` 循环\n",
    "- `for` 循环\n"
   ]
  },
  {
   "cell_type": "markdown",
   "metadata": {},
   "source": [
    "## while 循环\n",
    "\n",
    "while是最基本的循环，它的结构为：\n",
    "```Java\n",
    "while( 布尔表达式 ) {\n",
    "  //循环内容\n",
    "}\n",
    "```\n",
    "执行次序:\n",
    "1. 判断“布尔表达式”，值为真时，执行循环体`{}`中的代码，值为假，结束循环\n",
    "2. 循环体`{}`中的代码执行完成后，转到第一步。\n",
    "\n",
    "注意: \n",
    "- “布尔表达式”称为“循环执行条件”\n",
    "- 一般需要在循环体中，修改某些变量的值，使得再次判断“循环执行条件”时，“循环执行条件”的值为假，以结束循环\n",
    "- `while (布尔表达式)`和`{`的中间没有分号`；` \n",
    "- `布尔表达式` 计算结果为布尔值(`boolean`)的表达式，即计算结果为`真`或`假`的表达式。\n",
    "流程图如下所示\n",
    "![while](img/while.png)\n"
   ]
  },
  {
   "cell_type": "code",
   "execution_count": 2,
   "metadata": {},
   "outputs": [
    {
     "name": "stdout",
     "output_type": "stream",
     "text": [
      "1, 2, 3, 4, 5, 6, 7, 8, 9, 10, \n"
     ]
    }
   ],
   "source": [
    "public class Lt5_1 {\n",
    "\tpublic static void main(String[] args) {\n",
    "\t\t// 输出1-10\n",
    "\t\tint i = 1;\n",
    "\t\twhile (i<=10) {\n",
    "\t\t\tSystem.out.print(i + \", \");\n",
    "\t\t\ti = i + 1;\n",
    "\t\t}\n",
    "\t\tSystem.out.println();\n",
    "\t}\n",
    "}\n",
    "Lt5_1.main(null);"
   ]
  },
  {
   "cell_type": "markdown",
   "metadata": {},
   "source": [
    "解释：\n",
    "1. `while (i<=10)`中的布尔表达式`i<=10`为循环执行条件，当`i<=10`的结果为`真`时执行循环体\n",
    "1. `{}`中的语句为循环体\n",
    "2. `System.out.print(i + \", \");`需要重复执行的语句\n",
    "3. `i = i + 1`取出变量`i`的值，加上`1`后，再赋值给变量`i`，注意和数学表达式的区别\n",
    "4. `i = i + 1`可以简写成`i += 1`, `i++`, `++i`"
   ]
  },
  {
   "cell_type": "code",
   "execution_count": 3,
   "metadata": {},
   "outputs": [
    {
     "name": "stdout",
     "output_type": "stream",
     "text": [
      "sum = 55\n"
     ]
    }
   ],
   "source": [
    "public class Lt5_2 {\n",
    "\tpublic static void main(String[] args) {\n",
    "\t\t// 计算1+2+...+10的和\n",
    "\t\tint i = 1;\n",
    "\t\tint sum = 0;\n",
    "\t\twhile (i<=10) {\n",
    "\t\t\tsum += i;\n",
    "\t\t\ti++;\n",
    "\t\t}\n",
    "\t\tSystem.out.println(\"sum = \" + sum);\n",
    "\t}\n",
    "}\n",
    "Lt5_2.main(null);"
   ]
  },
  {
   "cell_type": "markdown",
   "metadata": {},
   "source": [
    "## do while 循环\n",
    "\n",
    "do while它的结构为：\n",
    "```Java\n",
    "do {\n",
    "  //循环内容\n",
    "} while( 布尔表达式 );\n",
    "```\n",
    "执行次序:\n",
    "1. 先执行循环体，\n",
    "2. 判断“布尔表达式”，值为真时，转到第一步，值为假，结束循环\n",
    "\n",
    "注意: \n",
    "- do while循环的循环体至少被执行一次\n",
    "- 一般需要在循环体中，修改某些变量的值，使得再次判断“循环执行条件”时，“循环执行条件”的值为假，以结束循环\n",
    "- `while( 布尔表达式 );`最后有结束的分号`；` \n",
    "\n",
    "流程图如下所示\n",
    "![do_while](img/do_while.png)\n"
   ]
  },
  {
   "cell_type": "code",
   "execution_count": 4,
   "metadata": {},
   "outputs": [
    {
     "name": "stdout",
     "output_type": "stream",
     "text": [
      "sum = 55\n"
     ]
    }
   ],
   "source": [
    "public class Lt5_3 {\n",
    "\tpublic static void main(String[] args) {\n",
    "\t\t// 计算1+2+...+10的和\n",
    "\t\tint i = 1;\n",
    "\t\tint sum = 0;\n",
    "\t\tdo {\n",
    "\t\t\tsum += i;\n",
    "\t\t\ti++;\n",
    "\t\t} while (i<=10);\n",
    "\t\tSystem.out.println(\"sum = \" + sum);\n",
    "\t}\n",
    "}\n",
    "Lt5_3.main(null);"
   ]
  },
  {
   "cell_type": "markdown",
   "metadata": {},
   "source": [
    "## for 循环\n",
    "\n",
    "是Java三个循环语句中功能较强、使用较广泛的一个\n",
    "```Java\n",
    "for (表达式1; 表达式2; 表达式3) {\n",
    "    循环体\n",
    "}\n",
    "```\n",
    "执行次序:\n",
    "1. 先执行`表达式1`, 一般`表达式1`为赋值表达式，完成循环变量和其他变量的初始化工作\n",
    "2. 判断`表达式2`，值为真时，执行循环体，值为假，结束循环\n",
    "3. 循环体执行完毕后，执行`表达式3`, 跳转到第2步\n",
    "\n",
    "注意: \n",
    "- `表达式1`完成循环变量和其他变量的初始化工作\n",
    "- `表达式2`是返回布尔值的条件表达式，用于判断循环是否继续\n",
    "- `表达式3`用来修整循环变量，改变循环条件\n",
    "- 三个表达式之间用分号隔开\n",
    "- `表达式3`后没有分号\n",
    "- `for ()`和`{`的中间没有分号`；` \n",
    "\n",
    "流程图如下所示\n",
    "![for](img/for.png)\n"
   ]
  },
  {
   "cell_type": "markdown",
   "metadata": {},
   "source": [
    "#### 以下是使用for循环的几个例子，请仔细阅读、执行程序，理解循环的用法"
   ]
  },
  {
   "cell_type": "code",
   "execution_count": 5,
   "metadata": {},
   "outputs": [
    {
     "name": "stdout",
     "output_type": "stream",
     "text": [
      "sum = 55\n"
     ]
    }
   ],
   "source": [
    "public class Lt5_4 {\n",
    "\tpublic static void main(String[] args) {\n",
    "\t\t// 计算1+2+...+10的和\n",
    "\t\tint sum = 0;\n",
    "\t\tfor (int i=1; i<=10; i++) {\n",
    "\t\t\tsum += i;\n",
    "\t\t}\n",
    "\t\tSystem.out.println(\"sum = \" + sum);\n",
    "\t}\n",
    "}\n",
    "Lt5_4.main(null);"
   ]
  },
  {
   "cell_type": "code",
   "execution_count": 6,
   "metadata": {},
   "outputs": [
    {
     "name": "stdout",
     "output_type": "stream",
     "text": [
      "  1*1=1\n",
      "  2*1=2  2*2=4\n",
      "  3*1=3  3*2=6  3*3=9\n",
      "  4*1=4  4*2=8  4*3=12  4*4=16\n",
      "  5*1=5  5*2=10  5*3=15  5*4=20  5*5=25\n",
      "  6*1=6  6*2=12  6*3=18  6*4=24  6*5=30  6*6=36\n",
      "  7*1=7  7*2=14  7*3=21  7*4=28  7*5=35  7*6=42  7*7=49\n",
      "  8*1=8  8*2=16  8*3=24  8*4=32  8*5=40  8*6=48  8*7=56  8*8=64\n",
      "  9*1=9  9*2=18  9*3=27  9*4=36  9*5=45  9*6=54  9*7=63  9*8=72  9*9=81\n"
     ]
    }
   ],
   "source": [
    "public class Lt5_5 {\n",
    "\tpublic static void main(String[] args) {\n",
    "\t\t// 打印九九乘法表\n",
    "\t\tfor (int i = 1; i <= 9; i++) {\n",
    "\t\t\tfor (int j = 1; j <= i; j++) {\n",
    "\t\t\t\tSystem.out.print(\"  \" + i + \"*\" + j + \"=\" + i * j);\n",
    "\t\t\t}\n",
    "\t\t\tSystem.out.println();\n",
    "\t\t}\n",
    "\t}\n",
    "}\n",
    "Lt5_5.main(null);"
   ]
  },
  {
   "cell_type": "code",
   "execution_count": 7,
   "metadata": {},
   "outputs": [
    {
     "name": "stdout",
     "output_type": "stream",
     "text": [
      "请输入一个整数: 123\n",
      "321"
     ]
    }
   ],
   "source": [
    "import java.util.Scanner;\n",
    "\n",
    "// 输入一个整数，然后输出它的翻转形式\n",
    "// 例如：输入1234, 输出4321\n",
    "public class Lt5_6 {\n",
    "\tpublic static void main(String[] args) {\n",
    "\t\tScanner input = new Scanner(System.in);\n",
    "\t\tSystem.out.print(\"请输入一个整数: \");\n",
    "\t\tint n = input.nextInt();\n",
    "\t\tfor (; n!=0; n/=10) {\n",
    "\t\t\tint v = n % 10;\n",
    "\t\t\tSystem.out.print(v);\n",
    "\t\t}\n",
    "\t}\n",
    "}\n",
    "Lt5_6.main(null);"
   ]
  },
  {
   "cell_type": "markdown",
   "metadata": {},
   "source": [
    "## break语句\n",
    "\n",
    "### 功能\n",
    "跳出循环，不再执行剩余部分\n",
    "### 适用场合\n",
    "- 在switch 结构中，用来终止switch语句的执行\n",
    "- 在for循环及while循环结构中，用于终止break语句所在的最内层循环；与标号一同使用时，将跳出标号所标识的循环\n",
    "- 也可用在代码块中，用于跳出它所指定的块\n"
   ]
  },
  {
   "cell_type": "code",
   "execution_count": 8,
   "metadata": {},
   "outputs": [
    {
     "name": "stdout",
     "output_type": "stream",
     "text": [
      "1 2 3 4 \n",
      "Broke out of loop at i = 5\n"
     ]
    }
   ],
   "source": [
    "// 简单break应用举例\n",
    "public class Lt_break1 {\n",
    "\tpublic static void main( String args[] ) { \t\n",
    " \t\tString output = \"\";\n",
    " \t\tint i;    \n",
    "   \t\tfor ( i = 1; i <= 10; i++ ) {\n",
    "      \t     if ( i == 5 )    break; // break loop only if count == 5\n",
    "      \t     output += i + \" \";\n",
    "        }    \n",
    "        output += \"\\nBroke out of loop at i = \" + i;\n",
    "        System.out.println(output); \n",
    "     } \n",
    "}\n",
    "Lt_break1.main(null);"
   ]
  },
  {
   "cell_type": "markdown",
   "metadata": {},
   "source": [
    "解释：执行break语句时，程序流程跳出for循环"
   ]
  },
  {
   "cell_type": "code",
   "execution_count": 9,
   "metadata": {},
   "outputs": [
    {
     "name": "stdout",
     "output_type": "stream",
     "text": [
      "请输入一个正整数\n",
      "23\n",
      "23是素数\n"
     ]
    }
   ],
   "source": [
    "import java.util.Scanner;\n",
    "\n",
    "public class Lt_break2 {\n",
    "\tpublic static void main(String[] args) {\n",
    "\t\t// 输入一个正整数，判断这个数是否是素数\n",
    "\t\t// 素数只能被1和它本身整除的数\n",
    "\t\tScanner input = new Scanner(System.in);\n",
    "\t\tSystem.out.println(\"请输入一个正整数\");\n",
    "\t\tint n = input.nextInt();\n",
    "\t\tinput.close();\n",
    "\t\t// 是否素数的标志，先默认是素数\n",
    "\t\tboolean isPrime = true;\n",
    "\t\tfor (int i=2; i<n; i++) {\n",
    "\t\t\t// 如果n能被2-(n-1)中的某个数整除，n就不是素数\n",
    "\t\t\tif (n % i == 0) {\n",
    "\t\t\t\tisPrime = false;\n",
    "\t\t\t\t// 已经确定不是素数，后面的不需要判断了，可以结束循环\n",
    "\t\t\t\tbreak; \n",
    "\t\t\t}\n",
    "\t\t}\n",
    "\t\tSystem.out.println(n + (isPrime ? \"是素数\" : \"不是素数\"));\n",
    "\t}\n",
    "\n",
    "}\n",
    "Lt_break2.main(null);"
   ]
  },
  {
   "cell_type": "markdown",
   "metadata": {},
   "source": [
    "解释: \n",
    "1. 判断`n`是否是素数, 就是用`2~(n-1)`去除`n`，如果发现某个数能整除`n`，`n`就不是素数\n",
    "2. `isPrime ? \"是素数\" : \"不是素数\"`表达式：判断`isPrime`，如果为`true`,结果为`是素数`, 为`false`,结果为`不是素数`"
   ]
  },
  {
   "cell_type": "markdown",
   "metadata": {},
   "source": [
    "## continue语句\n",
    "\n",
    "continue语句\n",
    "- 必须用于循环结构中\n",
    "- 停止本次迭代，回到循环起始处，开始下一次迭代过程\n"
   ]
  },
  {
   "cell_type": "code",
   "execution_count": 11,
   "metadata": {},
   "outputs": [
    {
     "name": "stdout",
     "output_type": "stream",
     "text": [
      "方法1\n",
      "3\n",
      "6\n",
      "9\n",
      "方法2，使用continue\n",
      "3\n",
      "6\n",
      "9\n"
     ]
    }
   ],
   "source": [
    "// 用两种方法输出1-10中3的倍数\n",
    "public class Lt_continue {\n",
    "\tpublic static void main(String[] args) {\n",
    "\t\t// 用两种方法输出1-10中3的倍数\n",
    "\t\tSystem.out.println(\"方法1\");\n",
    "\t\tfor (int i=1; i<=10; i++) {\n",
    "\t\t\tif (i % 3 == 0) {\n",
    "\t\t\t\tSystem.out.println(i);\n",
    "\t\t\t}\n",
    "\t\t}\n",
    "\t\tSystem.out.println(\"方法2，使用continue\");\n",
    "\t\tfor (int i=1; i<=10; i++) {\n",
    "\t\t\tif (i % 3 != 0) {\n",
    "\t\t\t\tcontinue;\n",
    "\t\t\t}\n",
    "\t\t\tSystem.out.println(i);\n",
    "\t\t}\n",
    "\t}\n",
    "}\n",
    "Lt_continue.main(null);"
   ]
  },
  {
   "cell_type": "markdown",
   "metadata": {},
   "source": [
    "## 作业\n",
    "1. 编写程序，分别使用`while, do while, for`循环计算 $ \\sum_{n=0}^{100} n $\n",
    "2. 编程解决百鸡问题, 输出所有的购买组合   \n",
    "    古代《张邱建算经》中的“百鸡问题”是一道很有名的算题。题目内容是：用100元买100只鸡，大公鸡5元1只，母鸡3元1只，小鸡1元3只。问各能买多少只？"
   ]
  }
 ],
 "metadata": {
  "kernelspec": {
   "display_name": "Java",
   "language": "java",
   "name": "java"
  },
  "language_info": {
   "codemirror_mode": "java",
   "file_extension": ".jshell",
   "mimetype": "text/x-java-source",
   "name": "Java",
   "pygments_lexer": "java",
   "version": "11.0.6+8-LTS"
  }
 },
 "nbformat": 4,
 "nbformat_minor": 4
}
