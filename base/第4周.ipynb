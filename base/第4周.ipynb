{
 "cells": [
  {
   "cell_type": "markdown",
   "metadata": {},
   "source": [
    "## 选择/分支结构\n",
    "\n",
    "我们前面所编写的程序都是按编写时的顺序执行的，这种结构称之为“顺序结构”。  \n",
    "\n",
    "Java中的流程控制结构主要有三种!\n",
    "1. 顺序结构\n",
    "2. 选择/分支结构\n",
    " - if语句（二路选择结构）\n",
    " - switch语句（多路选择结构）\n",
    "3. 循环结构\n",
    "\n",
    "\n",
    "这次我们学习选择/分支结构，即根据条件的不同，要执行不同的代码，输出不同的信息\n",
    "\n",
    "### 语法形式\n",
    "1. 只有if分支，没有else分支\n",
    "```Java\n",
    "if (boolean-expression)  {\n",
    "   // statement1; \n",
    " }\n",
    "```\n",
    "2. if-else语句\n",
    "```Java\n",
    "if (boolean-expression)  {\n",
    "    // statement1 ;  \n",
    "}\n",
    "else {  \n",
    "// statement2 ; \n",
    "}\n",
    "```\n",
    "3. if-else语句的特殊形式\n",
    "```Java\n",
    "if (boolean expression) {\n",
    "    //statement1;\n",
    "}\n",
    "else if (boolean expression) {\n",
    "    //statement2; \n",
    "}\n",
    "else if (boolean expression){\n",
    "    //statement; \n",
    "} \n",
    "…\n",
    "else {    \n",
    "    //statement;\n",
    "}\n",
    "```\n"
   ]
  },
  {
   "cell_type": "markdown",
   "metadata": {},
   "source": [
    "#### 例1：输入一个数，判断它是否是偶数\n",
    "偶数：能被2整除的数"
   ]
  },
  {
   "cell_type": "code",
   "execution_count": 1,
   "metadata": {},
   "outputs": [
    {
     "name": "stdout",
     "output_type": "stream",
     "text": [
      "请输入一个整数: 2020\n",
      "2020是偶数\n"
     ]
    }
   ],
   "source": [
    "import java.util.Scanner;\n",
    "\n",
    "public class Lt4_1 {\n",
    "\tpublic static void main(String[] args) {\n",
    "\t\tScanner input = new Scanner(System.in);\n",
    "\t\tSystem.out.print(\"请输入一个整数: \");\n",
    "\t\tint n = input.nextInt();\n",
    "\t\t\n",
    "\t\tif (n % 2 == 0) {\n",
    "\t\t\tSystem.out.println(n + \"是偶数\");\n",
    "\t\t} else {\n",
    "\t\t\tSystem.out.println(n + \"是奇数\");\n",
    "\t\t}\n",
    "\t\tinput.close();\n",
    "\t}\n",
    "\n",
    "}\n",
    "Lt4_1.main(null);"
   ]
  },
  {
   "cell_type": "markdown",
   "metadata": {},
   "source": [
    "#### 例2：输入一个数，判断它是否是偶数，使用默认值"
   ]
  },
  {
   "cell_type": "code",
   "execution_count": 2,
   "metadata": {},
   "outputs": [
    {
     "name": "stdout",
     "output_type": "stream",
     "text": [
      "请输入一个整数: 20\n",
      "20是偶数\n"
     ]
    }
   ],
   "source": [
    "import java.util.Scanner;\n",
    "\n",
    "public class Lt4_2 {\n",
    "\tpublic static void main(String[] args) {\n",
    "\t\tScanner input = new Scanner(System.in);\n",
    "\t\tSystem.out.print(\"请输入一个整数: \");\n",
    "\t\tint n = input.nextInt();\n",
    "\t\tString result = \"是奇数\"; // 给result赋初值\n",
    "\t\tif (n % 2 == 0) {\n",
    "\t\t\tresult = \"是偶数\"; // 当满足某个条件时，修改result的值\n",
    "\t\t}\n",
    "\t\tSystem.out.println(n + result);\n",
    "\t\tinput.close();\n",
    "\t}\n",
    "}\n",
    "Lt4_2.main(null);"
   ]
  },
  {
   "cell_type": "markdown",
   "metadata": {},
   "source": [
    "#### 例3：输入一个年份，判断它是不是闰年。\n",
    "闰年: 能被4整除但不能被100整除，或者能被400整除"
   ]
  },
  {
   "cell_type": "code",
   "execution_count": 3,
   "metadata": {},
   "outputs": [
    {
     "name": "stdout",
     "output_type": "stream",
     "text": [
      "请输入年份: 2020\n",
      "2020是闰年\n"
     ]
    }
   ],
   "source": [
    "import java.util.Scanner;\n",
    "\n",
    "public class Lt4_3 {\n",
    "\tpublic static void main(String[] args) {\n",
    "\t\tScanner input = new Scanner(System.in);\n",
    "\t\tSystem.out.print(\"请输入年份: \");\n",
    "\t\tint year = input.nextInt();\n",
    "\t\t\n",
    "\t\tif ((year % 400 == 0) || (year % 4 == 0 && year % 100 != 0)) {\n",
    "\t\t\tSystem.out.println(year + \"是闰年\");\n",
    "\t\t} else {\n",
    "\t\t\tSystem.out.println(year + \"不是闰年\");\n",
    "\t\t}\n",
    "\t\tinput.close();\n",
    "\t}\n",
    "\n",
    "}\n",
    "Lt4_3.main(null);"
   ]
  },
  {
   "cell_type": "markdown",
   "metadata": {},
   "source": [
    "#### 例4：计算某个月的天数\n",
    "输入月份，输出这个月有多少天。没考虑闰年问题"
   ]
  },
  {
   "cell_type": "code",
   "execution_count": 4,
   "metadata": {},
   "outputs": [
    {
     "name": "stdout",
     "output_type": "stream",
     "text": [
      "请输入月份: 2\n",
      "2月份有28天\n"
     ]
    }
   ],
   "source": [
    "import java.util.Scanner;\n",
    "\n",
    "public class Lt4_4 {\n",
    "\tpublic static void main(String[] args) {\n",
    "\t\tScanner input = new Scanner(System.in);\n",
    "\t\tSystem.out.print(\"请输入月份: \");\n",
    "\t\tint month = input.nextInt();\n",
    "\t\t\n",
    "\t\tint days;\n",
    "\t\tif (month == 2) {\n",
    "\t\t\tdays = 28; // 暂时不考虑是否闰年\n",
    "\t\t} else if (month==2 || month==4 || month==6 || month==9 || month==11) {\n",
    "\t\t\tdays = 30;\n",
    "\t\t} else {\n",
    "\t\t\tdays = 31;\n",
    "\t\t}\n",
    "\t\tSystem.out.println(month + \"月份有\" + days + \"天\");\n",
    "\t\tinput.close();\n",
    "\t}\n",
    "\n",
    "}\n",
    "Lt4_4.main(null);"
   ]
  },
  {
   "cell_type": "markdown",
   "metadata": {},
   "source": [
    "## switch选择结构\n",
    "switch语句是多分支的选择结构\n",
    "### 语法如下\n",
    "```Java\n",
    "switch (switch-expression) { \n",
    "    case value1:   statements for case1; break; \n",
    "    case value2:   statements for case2; break; \n",
    "    ... \n",
    "    case valueN:   statements for caseN; break; \n",
    "    default:       statements for default case; break; \n",
    "}\n",
    "```\n",
    "### 注意问题\n",
    "- switch-expression、常量值value1到valueN必须是整形或字符型，Java 1.7 以后支持String类型\n",
    "- 如果表达式的值和某个case后面的值相同，则从该case之后开始执行，直到break语句为止\n",
    "- default是可有可无的，若没有一个常量与表达式的值相同，则从default之后开始执行"
   ]
  },
  {
   "cell_type": "markdown",
   "metadata": {},
   "source": [
    "#### 例5：用switch计算某个月的天数\n",
    "输入月份，输出这个月有多少天。没考虑闰年问题"
   ]
  },
  {
   "cell_type": "code",
   "execution_count": 5,
   "metadata": {},
   "outputs": [
    {
     "name": "stdout",
     "output_type": "stream",
     "text": [
      "请输入月份: 5\n",
      "5月份有31天\n"
     ]
    }
   ],
   "source": [
    "import java.util.Scanner;\n",
    "\n",
    "public class Lt4_5 {\n",
    "\tpublic static void main(String[] args) {\n",
    "\t\tScanner input = new Scanner(System.in);\n",
    "\t\tSystem.out.print(\"请输入月份: \");\n",
    "\t\tint month = input.nextInt();\n",
    "\t\t\n",
    "\t\tint days;\n",
    "\t\tswitch (month) {\n",
    "\t\tcase 2:\n",
    "\t\t\tdays = 28; break; // 注意，这里要有break,结束switch\n",
    "\t\tcase 4: // 这里没有break，已满足条件，后续的条件不再判断，直到break结束switch\n",
    "\t\tcase 6:\n",
    "\t\tcase 9:\n",
    "\t\tcase 11:\n",
    "\t\t\tdays = 30; break;\n",
    "\t\tdefault:\n",
    "\t\t\tdays = 31;\t\n",
    "\t\t}\n",
    "\t\tSystem.out.println(month + \"月份有\" + days + \"天\");\n",
    "\t\tinput.close();\n",
    "\t}\n",
    "\n",
    "}\n",
    "Lt4_5.main(null);"
   ]
  },
  {
   "cell_type": "markdown",
   "metadata": {},
   "source": [
    "## 作业\n",
    "\n",
    "1. 修改例题4或例题5，增加年的处理，即输入年和月，输出该月份有几天\n",
    "2. 编写程序: 输入一个学生的分数，给出其分数等级。90-100分为Ａ级；80-89分为B级；70-79分为Ｃ级；60-69分为D级；0-59分为E级"
   ]
  }
 ],
 "metadata": {
  "kernelspec": {
   "display_name": "Java",
   "language": "java",
   "name": "java"
  },
  "language_info": {
   "codemirror_mode": "java",
   "file_extension": ".jshell",
   "mimetype": "text/x-java-source",
   "name": "Java",
   "pygments_lexer": "java",
   "version": "11.0.6+8-LTS"
  }
 },
 "nbformat": 4,
 "nbformat_minor": 4
}
