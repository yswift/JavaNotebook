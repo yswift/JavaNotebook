{
 "cells": [
  {
   "cell_type": "markdown",
   "metadata": {},
   "source": [
    "# Java IO\n",
    "\n",
    "## 1. 流的概念和作用\n",
    "> 流：代表任何有能力产出数据的数据源对象或者是有能力接受数据的接收端对象    \n",
    "> 流的本质:数据传输，根据数据传输特性将流抽象为各种类，方便更直观的进行数据操作。 \n",
    "> 流的作用：为数据源和目的地建立一个输送通道。\n",
    "\n",
    "\n",
    "Java中将输入输出抽象称为流，就好像水管，将两个容器连接起来。流是一组有顺序的，有起点和终点的字节集合，是对数据传输的总称或抽象。即数据在两设备间的传输称为流.\n",
    "\n",
    "流(stream)的概念源于UNIX中管道(pipe)的概念。在UNIX中，管道是一条不间断的字节流，用来实现程序或进程间的通信，或读写外围设备、外部文件等。    \n",
    "一个流，必有源端和目的端，它们可以是计算机内存的某些区域，也可以是磁盘文件，甚至可以是Internet上的某个URL。\n",
    "\n",
    "## 2. Java IO所采用的模型  \n",
    "Java的IO模型设计非常优秀，它使用Decorator(装饰者)模式，按功能划分Stream，您可以动态装配这些Stream，以便获得您需要的功能。    \n",
    "例如，您需要一个具有缓冲的文件输入流，则应当组合使用FileInputStream和BufferedInputStream。 \n",
    "       \n",
    "在整个Java.io包中最重要的就是5个类和一个接口。  \n",
    "- 5个类指的是File、OutputStream、InputStream、Writer、Reader；  \n",
    "- 一个接口指的是Serializable    \n",
    "\n",
    "掌握了这些IO的核心操作那么对于Java中的IO体系也就有了一个初步的认识了\n",
    "\n",
    "#### 流的两个分类，一个桥接\n",
    "\n",
    "## 流的分类\n",
    "### 1. 按输入、输出分\n",
    "根据流的方向，流可分：\n",
    "- 输入流(InputStream, Reader)\n",
    "- 输出流(OutputStream, Writer)\n",
    "\n",
    "用户可以从输入流中读取信息，但不能写它。相反，对输出流，只能往输入流写，而不能读它。    \n",
    "流的源端和目的端可简单地看成是字节的生产者和消费者，对输入流，可不必关心它的源端是什么，只要简单地从流中读数据，而对输出流，也可不知道它的目的端，只是简单地往流中写数据。\n",
    "\n",
    "### 2. 按操作数据分\n",
    "按操作数据分为：\n",
    "- 字节流（InputStream、OutputStream）: 数据流中最小的数据单元是字节, 可以看作未经加工的原始二进制数据。\n",
    "- 字符流（Reader、Writer）:数据流中最小的数据单元是字符，经一定编码处理后符合某种格式规定的特定数据，Java内部的字符是Unicode编码，在输入、输出时需要做编码转换。\n",
    "\n",
    "### 一个桥接\n",
    "是字节流通向字符流的桥梁：它使用指定的 charset 读取/写入字节并将其解码为字符。把字节流桥接未字符流。一般在网络通信或文件读写中，得到的是字节流，用桥接把字节流转换为字符流。\n",
    "- InputStreamReader\n",
    "- OutputStreamWriter\n",
    "\n",
    "![javaio](io_img/java_io.png)"
   ]
  },
  {
   "cell_type": "markdown",
   "metadata": {},
   "source": [
    "# 3. 输入字节流InputStream\n",
    "\n",
    "![input_stream](io_img/input_stream.png)\n",
    "\n",
    "IO 中输入字节流的继承图可见上图，可以看出：\n",
    "1. InputStream是所有的输入字节流的父类，它是一个抽象类。\n",
    "2. ByteArrayInputStream、StringBufferInputStream(上图的StreamBufferInputStream)、FileInputStream是三种基本的介质流，它们分别从Byte数组、StringBuffer、和本地文件中读取数据。\n",
    "3. PipedInputStream是从与其它线程共用的管道中读取数据.\n",
    "4. ObjectInputStream和所有FilterInputStream的子类都是装饰流（装饰器模式的主角）。\n",
    "\n",
    "InputStream中的三个基本的读方法    \n",
    "```abstract int read()``` ：读取一个字节数据，并返回读到的数据，如果返回-1，表示读到了输入流的末尾。    \n",
    "```intread(byte[]?b)``` ：将数据读入一个字节数组，同时返回实际读取的字节数。如果返回-1，表示读到了输入流的末尾。    \n",
    "```intread(byte[]?b, int?off, int?len)``` ：将数据读入一个字节数组，同时返回实际读取的字节数。如果返回-1，表示读到了输入流的末尾。off指定在数组b中存放数据的起始偏移位置；len指定读取的最大字节数。    "
   ]
  },
  {
   "cell_type": "markdown",
   "metadata": {},
   "source": [
    "# 4. 输出字节流\n",
    "\n",
    "![output_stream](io_img/output_stream.png)\n",
    "IO 中输出字节流的继承图可见上图，可以看出：\n",
    "1. OutputStream是所有的输出字节流的父类，它是一个抽象类。\n",
    "2. ByteArrayOutputStream、FileOutputStream是两种基本的介质流，它们分别向Byte数组、和本地文件中写入数据。PipedOutputStream是向与其它线程共用的管道中写入数据。\n",
    "3. ObjectOutputStream和所有FilterOutputStream的子类都是装饰流。\n",
    "\n",
    "outputStream中的三个基本的写方法 \\\n",
    "```abstract void write(int?b)```：往输出流中写入一个字节。    \n",
    "```void write(byte[]?b)``` ：往输出流中写入数组b中的所有字节。    \n",
    "```void write(byte[]?b, int?off, int?len)``` ：往输出流中写入数组b中从偏移量off开始的len个字节的数据。    \n",
    "其它方法  \n",
    "```void flush()``` ：刷新输出流，强制缓冲区中的输出字节被写出。  \n",
    "```void close()``` ：关闭输出流，释放和这个流相关的系统资源。  \n"
   ]
  },
  {
   "cell_type": "code",
   "execution_count": 8,
   "metadata": {},
   "outputs": [
    {
     "name": "stdout",
     "output_type": "stream",
     "text": [
      "AC, ED, 00, 05, 77, 28, 00, 00, 00, 2B, \n",
      "00, 00, 00, 3E, 00, 00, 00, 4B, 00, 00, \n",
      "00, 38, 00, 00, 00, 12, 00, 00, 00, 2D, \n",
      "00, 00, 00, 23, 00, 00, 00, 62, 00, 00, \n",
      "00, 22, 00, 00, 00, 61, \n"
     ]
    }
   ],
   "source": [
    "// 例1：生成10个随机数，写入流中\n",
    "public ByteArrayOutputStream generage10Random() throws IOException {\n",
    "    ByteArrayOutputStream bos = new ByteArrayOutputStream();\n",
    "    ObjectOutputStream oos = new ObjectOutputStream(bos);\n",
    "    for (int i=0; i<10; i++) {\n",
    "        int r = (int)(Math.random() * 100);\n",
    "        oos.writeInt(r);\n",
    "    }\n",
    "    oos.flush();\n",
    "    oos.close();\n",
    "    return bos;\n",
    "}\n",
    "public void printBytes(byte[] data) {\n",
    "    for (int i=0; i<data.length; i++) {\n",
    "        System.out.printf(\"%02X, \", (data[i] & 0xff));\n",
    "        if ((i+1) % 10 == 0) System.out.println();\n",
    "    }\n",
    "    System.out.println();\n",
    "}\n",
    "// 写入流，流中的数据如下（按16进制显示）\n",
    "ByteArrayOutputStream bos = generage10Random();\n",
    "byte[] data = bos.toByteArray();\n",
    "bos.close();\n",
    "printBytes(data);"
   ]
  },
  {
   "cell_type": "markdown",
   "metadata": {},
   "source": [
    "前6个字节```(AC, ED, 00, 05, 77, 28)```，是OjbectStream的头部, 后面的每4个字节存储一个int型数据"
   ]
  },
  {
   "cell_type": "code",
   "execution_count": 9,
   "metadata": {},
   "outputs": [
    {
     "name": "stdout",
     "output_type": "stream",
     "text": [
      "[43, 62, 75, 56, 18, 45, 35, 98, 34, 97]\n"
     ]
    }
   ],
   "source": [
    "// 例2，从输入流中读取例1中写入的数\n",
    "public ArrayList<Integer> readInt(InputStream is) throws IOException {\n",
    "    ObjectInputStream ois = new ObjectInputStream(is);\n",
    "    ArrayList<Integer> values = new ArrayList<Integer>();\n",
    "    while (ois.available() > 0) {\n",
    "        int v = ois.readInt();\n",
    "        values.add(v);\n",
    "    }\n",
    "    return values;\n",
    "}\n",
    "ByteArrayInputStream bis = new ByteArrayInputStream(data);\n",
    "List<Integer> values = readInt(bis);\n",
    "bis.close();\n",
    "System.out.println(values);"
   ]
  },
  {
   "cell_type": "markdown",
   "metadata": {},
   "source": [
    "# 5. 字符输入流Reader\n",
    "\n",
    "![reader](io_img/reader.png)\n",
    "在上面的继承关系图中可以看出：\n",
    "1. ```Reader```是所有的输入字符流的父类，它是一个抽象类。\n",
    "2. ```CharReader、StringReader```是两种基本的介质流，它们分别将```Char```数组、```String```中读取数据。`PipedReader`是从与其它线程共用的管道中读取数据。\n",
    "3. `BufferedReader`很明显就是一个装饰器，它和其子类负责装饰其它`Reader`对象。\n",
    "4. `FilterReader`是所有自定义具体装饰流的父类，其子类`PushbackReader`对`Reader`对象进行装饰，会增加一个行号。\n",
    "5. `InputStreamReader`是一个连接字节流和字符流的桥梁，它将字节流转变为字符流。`FileReader`可以说是一个达到此功能、常用的工具类，在其源代码中明显使用了将`FileInputStream`转变为`Reader`的方法。我们可以从这个类中得到一定的技巧。`Reader`中各个类的用途和使用方法基本和`InputStream`中的类使用一致。后面会有`Reader`与`InputStream`的对应关系。\n",
    "\n",
    "主要方法：\\\n",
    "1) `public int read() throws IOException`; 读取一个字符，返回值为读取的字符 \\\n",
    "2) `public int read(char cbuf[]) throws IOException`; 读取一系列字符到数组`cbuf[]`中，返回值为实际读取的字符的数量 \\\n",
    "3) `public abstract int read(char cbuf[],int off,int len) throws IOException`; \n",
    "读取`len`个字符，从数组`cbuf[]`的下标`off`处开始存放，返回值为实际读取的字符数量，该方法必须由子类实现 "
   ]
  },
  {
   "cell_type": "markdown",
   "metadata": {},
   "source": [
    "# 6. 字符输出流Writer\n",
    "\n",
    "![writer](io_img/writer.png)\n",
    "在上面的关系图中可以看出：\n",
    "1. `Writer`是所有的输出字符流的父类，它是一个抽象类。\n",
    "2. `CharArrayWriter、StringWriter`是两种基本的介质流，它们分别向`Char`数组、`String`中写入数据。`PipedWriter`是向与其它线程共用的管道中写入数据，\n",
    "3. `BufferedWriter`是一个装饰器为Writer提供缓冲功能。\n",
    "4. `PrintWriter`和`PrintStream`极其类似，功能和使用也非常相似。\n",
    "5. `OutputStreamWriter`是`OutputStream`到`Writer`转换的桥梁，它的子类`FileWriter`其实就是一个实现此功能的具体类（具体可以研究一`SourceCode`）。功能和使用和`OutputStream`极其类似."
   ]
  },
  {
   "cell_type": "code",
   "execution_count": 27,
   "metadata": {},
   "outputs": [
    {
     "name": "stdout",
     "output_type": "stream",
     "text": [
      "如果输入了汉字你会看到乱\n",
      "已把[濡傛灉杈撳叆浜嗘眽瀛椾綘浼氱湅鍒颁贡], 写入文件:D:\\Work\\JavaNotebook\\network\\tmp.txt\n"
     ]
    }
   ],
   "source": [
    "// 例3: 键盘输入字符串，写入tmp.txt文件中\n",
    "File f = new File(\"tmp.txt\");\n",
    "FileWriter fw = new FileWriter(f);\n",
    "Scanner input = new Scanner(System.in); \n",
    "String s = input.next();\n",
    "fw.write(s);\n",
    "fw.close();\n",
    "System.out.println(\"已把[\" + s + \"], 写入文件:\" + f.getAbsolutePath());"
   ]
  },
  {
   "cell_type": "markdown",
   "metadata": {},
   "source": [
    "如果输入了汉字你会看到乱码，这是因为字符转换错误的原因\n",
    "你用\n",
    "```Java\n",
    "Scanner input = new Scanner(System.in, \"UTF-8\");\n",
    "```\n",
    "替换上面的\n",
    "```Java\n",
    "Scanner input = new Scanner(System.in);\n",
    "```\n",
    "再执行试试，尝试分析乱码出现的原因"
   ]
  },
  {
   "cell_type": "code",
   "execution_count": 28,
   "metadata": {},
   "outputs": [
    {
     "name": "stdout",
     "output_type": "stream",
     "text": [
      "濡傛灉杈撳叆浜嗘眽瀛椾綘浼氱湅鍒颁贡\n"
     ]
    }
   ],
   "source": [
    "// 例4，读取刚才写入的文件tmp.txt\n",
    "import java.nio.charset.Charset;\n",
    "\n",
    "FileReader fr = new FileReader(f); \n",
    "BufferedReader br = new BufferedReader(fr);\n",
    "String rs = br.readLine();\n",
    "fr.close();\n",
    "System.out.println(rs);"
   ]
  },
  {
   "cell_type": "code",
   "execution_count": 31,
   "metadata": {},
   "outputs": [
    {
     "name": "stdout",
     "output_type": "stream",
     "text": [
      "濡傛灉杈撳叆浜嗘眽瀛椾綘浼氱湅鍒颁贡\n"
     ]
    }
   ],
   "source": [
    "// 例5，把流包在try catch块中，保证流能正确关闭\n",
    "// 一般流都需要显示的close, 即调用close()方法，若出现异常，流可能不会被正常关闭\n",
    "// 这是，需要把流放在try catch 块中，以保证正确关闭\n",
    "// 这是对 例4 的重写, 注意try的用法\n",
    "\n",
    "try (BufferedReader br = new BufferedReader(new FileReader(f))) {\n",
    "    String rs = br.readLine();\n",
    "    System.out.println(rs);\n",
    "}\n",
    "// 注意: 这里结束try后，br能正常的被关闭"
   ]
  },
  {
   "cell_type": "markdown",
   "metadata": {},
   "source": [
    "### 作业1\n",
    "编写代码，读取并显示`io_img/GBK.txt, io_img/UTF8.txt`文件内容，文件使用的编码方式如文件名所示。"
   ]
  },
  {
   "cell_type": "markdown",
   "metadata": {},
   "source": [
    "# 7. 非流式文件类--File类\n",
    "\n",
    "从定义看，File类是Object的直接子类，同时它继承了Comparable接口可以进行数组的排序。  \n",
    "File类的操作包括文件的创建、删除、重命名、得到路径、创建时间等  \n",
    "File类是对文件系统中文件以及文件夹进行封装的对象，可以通过对象的思想来操作文件和文件夹。File类保存文件或目录的各种元数据信息，包括文件名、文件长度、最后修改时间、是否可读、获取当前文件的路径名，判断指定文件是否存在、获得当前目录中的文件列表，创建、删除文件和目录等方法。 \n",
    "  \n",
    "File类共提供了三个不同的构造函数，以不同的参数形式灵活地接收文件和目录名信息。  \n",
    "\n",
    "构造函数：  \n",
    "1）`File (String   pathname) `    \n",
    "     例:`File  f1=new File(\"FileTest1.txt\");` //创建文件对象f1，f1所指的文件是在当前目录下创建的FileTest1.txt  \n",
    "2）`File (String  parent  ,  String child)`  \n",
    "     例:`File f2=new  File(“D:\\\\dir1\",\"FileTest2.txt\");` 注意：D:\\\\dir1目录事先必须存在，否则异常  \n",
    "3）`File (File    parent  , String child)`  \n",
    "     例:`File  f4=new File(\"\\\\dir3\");`  \n",
    "          `File  f5=new File(f4,\"FileTest5.txt\");`  //在如果 \\\\dir3目录不存在使用f4.mkdir()先创建 \n",
    "\n",
    "一个对应于某磁盘文件或目录的File对象一经创建， 就可以通过调用它的方法来获得文件或目录的属性。      \n",
    "1）`public boolean exists()` 判断文件或目录是否存在  \n",
    "2）`public boolean isFile()` 判断是文件还是目录   \n",
    "3）`public boolean isDirectory()` 判断是文件还是目录  \n",
    "4）`public String getName()` 返回文件名或目录名  \n",
    "5）`public String getPath()` 返回文件或目录的路径。  \n",
    "6）`public long length()` 获取文件的长度   \n",
    "7）`public String[] list ()` 将目录中所有文件名保存在字符串数组中返回。   \n",
    "`File`类中还定义了一些对文件或目录进行管理、操作的方法，常用的方法有：  \n",
    "1）`public boolean renameTo(File newFile);`    重命名文件  \n",
    "2）`public void delete();`   删除文件  \n",
    "3）`public boolean mkdir();` 创建目录  "
   ]
  },
  {
   "cell_type": "code",
   "execution_count": 29,
   "metadata": {},
   "outputs": [
    {
     "name": "stdout",
     "output_type": "stream",
     "text": [
      ".ipynb_checkpoints\n",
      "1、Java 容器，数据处理.ipynb\n",
      "2、Lambda表达式.ipynb\n",
      "3、Stream.ipynb\n",
      "4、Java 容器，数据处理(Stream).ipynb\n",
      "5、IO.ipynb\n",
      "io_img\n",
      "stream_img\n",
      "tmp.txt\n"
     ]
    }
   ],
   "source": [
    "// 例6：列出当前文件夹中的所有文件\n",
    "File currentFolder = new File(\".\");\n",
    "File[] fs = currentFolder.listFiles();\n",
    "for (File f : fs) {\n",
    "    System.out.println(f.getName());\n",
    "}"
   ]
  },
  {
   "cell_type": "markdown",
   "metadata": {},
   "source": [
    "# 8. RandomAccessFile类\n",
    "该对象并不是流体系中的一员，其封装了字节流，同时还封装了一个缓冲区（字符数组），通过内部的指针来操作字符数组中的数据。该对象特点：  \n",
    "1. 该对象只能操作文件，所以构造函数接收两种类型的参数：a.字符串文件路径；b.File对象。\n",
    "2. 该对象既可以对文件进行读操作，也能进行写操作，在进行对象实例化时可指定操作模式(r,rw)  \n",
    "注意：该对象在实例化时，如果要操作的文件不存在，会自动创建；如果文件存在，写数据未指定位置，会从头开始写，即覆盖原有的内容。 "
   ]
  },
  {
   "cell_type": "markdown",
   "metadata": {},
   "source": [
    "# 9. System类对IO的支持\n",
    "\n",
    "针对一些频繁的设备交互，Java语言系统预定了3个可以直接使用的流对象，分别是：\n",
    "\n",
    "- `System.in`（标准输入），通常代表键盘输入。\n",
    "- `System.out`（标准输出）：通常写往显示器。\n",
    "- `System.err`（标准错误输出）：通常写往显示器。\n",
    "\n",
    "1) 标准输出流 `System.out`  \n",
    "   `System.out`向标准输出设备输出数据，其数据类型为`PrintStream`。方法：  \n",
    "   `Void print(参数)`  \n",
    "   `Void println(参数)`  \n",
    "2)标准输入流 `System.in`  \n",
    "   `System.in`读取标准输入设备数据（从标准输入获取数据，一般是键盘），其数 据类型为`InputStream`。  \n",
    "3)标准错误流  \n",
    "   `System.err`输出标准错误，其数据类型为`PrintStream`。"
   ]
  },
  {
   "cell_type": "markdown",
   "metadata": {},
   "source": [
    "# 10. 附加：\n",
    "\n",
    "IOException异常类的子类\n",
    "1. `public class EOFException` ：   非正常到达文件尾或输入流尾时，抛出这种类型的异常。    \n",
    "2. `public class FileNotFoundException`：   当文件找不到时，抛出的异常。\n",
    "3. `public class InterruptedIOException`： 当I/O操作被中断时，抛出这种类型的异常。"
   ]
  },
  {
   "cell_type": "markdown",
   "metadata": {},
   "source": [
    "# 11. 总结上面几种流的应用场景：\n",
    "\n",
    "- `FileInputStream/FileOutputStream`  需要逐个字节处理原始二进制流的时候使用，效率低下\n",
    "- `FileReader/FileWriter` 需要组个字符处理的时候使用\n",
    "- `StringReader/StringWriter` 需要处理字符串的时候，可以将字符串保存为字符数组\n",
    "- `PrintStream/PrintWriter` 用来包装`FileOutputStream` 对象，方便直接将`String`字符串写入文件 \n",
    "- `Scanner`用来包装`System.in`流，很方便地将输入的`String`字符串转换成需要的数据类型\n",
    "- `InputStreamReader/OutputStreamReader` ,  字节和字符的转换桥梁，在网络通信或者处理键盘输入的时候用\n",
    "- `BufferedReader/BufferedWriter ， BufferedInputStream/BufferedOutputStream` ， 缓冲流用来包装字节流后者字符流，提升IO性能，`BufferedReader`还可以方便地读取一行，简化编程。\n"
   ]
  }
 ],
 "metadata": {
  "kernelspec": {
   "display_name": "Java",
   "language": "java",
   "name": "java"
  },
  "language_info": {
   "codemirror_mode": "java",
   "file_extension": ".jshell",
   "mimetype": "text/x-java-source",
   "name": "Java",
   "pygments_lexer": "java",
   "version": "11.0.6+8-LTS"
  }
 },
 "nbformat": 4,
 "nbformat_minor": 4
}
