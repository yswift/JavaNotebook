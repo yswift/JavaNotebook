{
 "cells": [
  {
   "cell_type": "markdown",
   "metadata": {},
   "source": [
    "# 泛型\n",
    "\n",
    "## 1. 概述\n",
    "\n",
    "Java泛型是J2SE1.5中引入的一个新特性，其本质是参数化类型，也就是说所操作的数据类型被指定为一个参数（type parameter）这种参数类型可以用在类、接口和方法的创建中，分别称为泛型类、泛型接口、泛型方法。\n",
    "\n",
    "## 2. 没有泛型会怎样\n"
   ]
  },
  {
   "cell_type": "code",
   "execution_count": 3,
   "metadata": {},
   "outputs": [
    {
     "name": "stderr",
     "output_type": "stream",
     "text": [
      "泛型测试, item = string\n"
     ]
    },
    {
     "ename": "EvalException",
     "evalue": "class java.lang.Double cannot be cast to class java.lang.String (java.lang.Double and java.lang.String are in module java.base of loader 'bootstrap')",
     "output_type": "error",
     "traceback": [
      "\u001b[1m\u001b[31m---------------------------------------------------------------------------\u001b[0m",
      "\u001b[1m\u001b[31mjava.lang.ClassCastException: class java.lang.Double cannot be cast to class java.lang.String (java.lang.Double and java.lang.String are in module java.base of loader 'bootstrap')\u001b[0m",
      "\u001b[1m\u001b[31m\tat .(#21:1)\u001b[0m"
     ]
    }
   ],
   "source": [
    "List arrayList = new ArrayList();\n",
    "// 可以向arrayList中加入任意类型的对象\n",
    "arrayList.add(\"string\");\n",
    "arrayList.add(3.14);\n",
    "\n",
    "for(int i = 0; i< arrayList.size();i++){\n",
    "    // 在取值时做强制转换\n",
    "    String item = (String)arrayList.get(i);\n",
    "    System.err.println(\"泛型测试, item = \" + item);\n",
    "}"
   ]
  },
  {
   "cell_type": "markdown",
   "metadata": {},
   "source": [
    "毫无疑问，程序的运行结果会以崩溃结束\n",
    "\n",
    "`ArrayList`可以存放任意类型，例子中添加了一个`String`类型，添加了一个`Double`类型，再使用时都以`String`的方式使用，因此程序崩溃了。为了解决类似这样的问题（在编译阶段就可以解决），泛型应运而生。\n",
    "\n",
    "我们将第一行声明初始化list的代码更改一下，编译器会在编译阶段就能够帮我们发现类似这样的问题。"
   ]
  },
  {
   "cell_type": "code",
   "execution_count": 4,
   "metadata": {},
   "outputs": [
    {
     "ename": "CompilationException",
     "evalue": "",
     "output_type": "error",
     "traceback": [
      "\u001b[1m\u001b[30m|   \u001b[1m\u001b[30marrayList.add(\u001b[0m\u001b[1m\u001b[30m\u001b[41m3.14\u001b[0m\u001b[1m\u001b[30m);\u001b[0m",
      "\u001b[1m\u001b[31m不兼容的类型: double无法转换为java.lang.String\u001b[0m",
      ""
     ]
    }
   ],
   "source": [
    "List<String> arrayList = new ArrayList<>();\n",
    "arrayList.add(\"string\");\n",
    "arrayList.add(3.14); // 编译器报错，你不能加入 double 类型的数据"
   ]
  },
  {
   "cell_type": "markdown",
   "metadata": {},
   "source": [
    "## 3. 泛型只在编译阶段有效\n",
    "\n",
    "泛型只在编译阶段有效，即编译后还是没有泛型，泛型只是语法糖。看下面的代码："
   ]
  },
  {
   "cell_type": "code",
   "execution_count": 6,
   "metadata": {},
   "outputs": [
    {
     "name": "stdout",
     "output_type": "stream",
     "text": [
      "stringArrayList.getClass() == integerArrayList.getClass() ? true\n"
     ]
    }
   ],
   "source": [
    "List<String> stringArrayList = new ArrayList<String>();\n",
    "List<Integer> integerArrayList = new ArrayList<Integer>();\n",
    "System.out.println(\"stringArrayList.getClass() == integerArrayList.getClass() ? \" \n",
    "    + (stringArrayList.getClass() == integerArrayList.getClass()));"
   ]
  },
  {
   "cell_type": "markdown",
   "metadata": {},
   "source": [
    "执行，你会发现比较相等的结果是 **true**"
   ]
  },
  {
   "cell_type": "markdown",
   "metadata": {},
   "source": [
    "## 4. 泛型的使用\n",
    "\n",
    "### 4.1 泛型类\n",
    "\n",
    "一个泛型类，就是具有一个或多个类型变量的类。我们使用一个简单的Pair类作为例子。"
   ]
  },
  {
   "cell_type": "code",
   "execution_count": 8,
   "metadata": {},
   "outputs": [],
   "source": [
    "public class Pair<T> {\n",
    "    private T first;\n",
    "    private T second;\n",
    "\n",
    "    public Pair() {\n",
    "    }\n",
    "\n",
    "    public Pair(T first, T second) {\n",
    "        this.first = first;\n",
    "        this.second = second;\n",
    "    }\n",
    "\n",
    "    public T getFirst() {\n",
    "        return first;\n",
    "    }\n",
    "\n",
    "    public void setFirst(T first) {\n",
    "        this.first = first;\n",
    "    }\n",
    "\n",
    "    public T getSecond() {\n",
    "        return second;\n",
    "    }\n",
    "\n",
    "    public void setSecond(T second) {\n",
    "        this.second = second;\n",
    "    }\n",
    "}"
   ]
  },
  {
   "cell_type": "markdown",
   "metadata": {},
   "source": [
    "Pair类引入了一个类型变量T，使用尖括号（<>）括起来，放在类名的后面。  \n",
    "泛型类可以引入多个类型变量，例如，Pair的第一个实例变量和第二个实例变量的类型可以不同:\n",
    "```Java\n",
    "public class Pair<T, U> { }\n",
    "```\n",
    "类定义中的**类型变量**可以用来定义**实例变量, 方法的返回值类型，方法参数，局部变量**\n",
    "```Java\n",
    "private T first;\n",
    "```"
   ]
  },
  {
   "cell_type": "markdown",
   "metadata": {},
   "source": [
    "**注意**:\n",
    "> 类型变量使用大写字母，并且比较短。一般的，在Java库中:\n",
    "> - E表示集合的元素类型，\n",
    "> - K和V分别表示哈希表的关键字和值的类型\n",
    "> - T(或U, S)表示任意类型"
   ]
  },
  {
   "cell_type": "markdown",
   "metadata": {},
   "source": [
    "使用Pair<T>时，用具体的类型替换类型变量实例化泛型类，例如：\n",
    "```Java\n",
    "Pair<String>\n",
    "```\n",
    "可以将结果想象成如下的普通类\n",
    "```Java\n",
    "Pair<String>()\n",
    "String getFirst()\n",
    "void setFirst(String)\n",
    "```"
   ]
  },
  {
   "cell_type": "markdown",
   "metadata": {},
   "source": [
    "下面的代码使用`Pair`类，静态方法`minmax`找出数组中的最大、最小值，用`Pair`对象返回两个结果。"
   ]
  },
  {
   "cell_type": "code",
   "execution_count": 9,
   "metadata": {},
   "outputs": [],
   "source": [
    "public class ArrayAlg {\n",
    "    // 得到数组a中的最大值和最小值\n",
    "    public static Pair<String> minmax(String[] a) {\n",
    "        if (a==null || a.length==0) {\n",
    "            return null;\n",
    "        }\n",
    "        String min = a[0];\n",
    "        String max = a[0];\n",
    "        for (String s : a) {\n",
    "            if (min.compareTo(s) > 0) {\n",
    "                min = s;\n",
    "            }\n",
    "            if (max.compareTo(s) < 0) {\n",
    "                max = s;\n",
    "            }\n",
    "        }\n",
    "        return new Pair<>(min, max);\n",
    "    }\n",
    "}"
   ]
  },
  {
   "cell_type": "code",
   "execution_count": 10,
   "metadata": {},
   "outputs": [],
   "source": [
    "public class PairTest1 {\n",
    "    public static void main(String[] args) {\n",
    "        String[] words = {\"Mary\", \"had\", \"a\", \"little\", \"lamb\"};\n",
    "        Pair<String> mm = ArrayAlg.minmax(words);\n",
    "        System.out.println(\"min = \" + mm.getFirst());\n",
    "        System.out.println(\"max = \" + mm.getSecond());\n",
    "    }\n",
    "}"
   ]
  },
  {
   "cell_type": "code",
   "execution_count": 12,
   "metadata": {},
   "outputs": [
    {
     "name": "stdout",
     "output_type": "stream",
     "text": [
      "min = Mary\n",
      "max = little\n"
     ]
    }
   ],
   "source": [
    "// 执行 PairTest1\n",
    "PairTest1.main(null);"
   ]
  },
  {
   "cell_type": "markdown",
   "metadata": {},
   "source": [
    "### 4.2 泛型方法\n",
    "\n",
    "泛型方法可以在泛型类中定义，也可以在普通类中。   \n",
    "如下，定义了一个泛型方法`getMiddle`"
   ]
  },
  {
   "cell_type": "code",
   "execution_count": 13,
   "metadata": {},
   "outputs": [],
   "source": [
    "public class ArrayAlg {\n",
    "    // 得到数组中的中间值\n",
    "    public static <T> T getMiddle(T... a) {\n",
    "        return a[a.length / 2];\n",
    "    }\n",
    "}"
   ]
  },
  {
   "cell_type": "code",
   "execution_count": 14,
   "metadata": {},
   "outputs": [
    {
     "name": "stdout",
     "output_type": "stream",
     "text": [
      "m1 = Q\n",
      "m2 = Q\n"
     ]
    }
   ],
   "source": [
    "// 当调用泛型方法时，在方法前的<>中放入具体类型\n",
    "String m1 = ArrayAlg.<String>getMiddle(\"John\", \"Q\", \"Public\");\n",
    "System.out.println(\"m1 = \" + m1);\n",
    "// 也可以省略<String>类型参数，编译器能推断出所调用的方法\n",
    "String m2 = ArrayAlg.getMiddle(\"John\", \"Q\", \"Public\");\n",
    "System.out.println(\"m2 = \" + m2);"
   ]
  },
  {
   "cell_type": "markdown",
   "metadata": {},
   "source": [
    "但有时候编译器也会提示推断也会出错，如下的代码编译器就不能正确推断\n",
    "```Java\n",
    "double m3 = ArrayAlg.getMiddle(3.14, 100, 0);\n",
    "```"
   ]
  },
  {
   "cell_type": "markdown",
   "metadata": {},
   "source": [
    "### 4.3 变量类型的限定\n",
    "\n",
    "有时，类或方法需要对类型的变量加以约束。例如，我们需要得到数组中的最小元素\n",
    "```Java\n",
    "public class ArrayAlg {\n",
    "    public static <T> T min(T[] a) {\n",
    "        if (a == null || a.length == 0) {\n",
    "            return null;\n",
    "        }\n",
    "        T min = a[0];\n",
    "        for (T v : a) {\n",
    "            if (min.compareTo(v) > 0) {\n",
    "                min = v;\n",
    "            }\n",
    "        }\n",
    "        return min;\n",
    "    }\n",
    "}\n",
    "```\n",
    "代码有一个问题，变量`min`的类型为T，意味着它可以是任意一种类型，怎么才能确保T所属的类有compareTo方法呢？   \n",
    "解决的办法就是将T限制为实现了`Comparable`接口的类，如下所示。"
   ]
  },
  {
   "cell_type": "code",
   "execution_count": 15,
   "metadata": {},
   "outputs": [],
   "source": [
    "public class ArrayAlg {\n",
    "    public static <T extends Comparable> T min(T[] a) {\n",
    "        if (a == null || a.length == 0) {\n",
    "            return null;\n",
    "        }\n",
    "        T min = a[0];\n",
    "        for (T v : a) {\n",
    "            if (min.compareTo(v) > 0) {\n",
    "                min = v;\n",
    "            }\n",
    "        }\n",
    "        return min;\n",
    "    }\n",
    "}"
   ]
  },
  {
   "cell_type": "code",
   "execution_count": 19,
   "metadata": {},
   "outputs": [],
   "source": [
    "import java.time.LocalDate;\n",
    "public class PairTest3 {\n",
    "    public static void main(String[] args) {\n",
    "        LocalDate[] birthdays = {\n",
    "                LocalDate.of(1919, 5, 4),\n",
    "                LocalDate.of(1927, 8, 1),\n",
    "                LocalDate.of(1949, 10, 1),\n",
    "        };\n",
    "        LocalDate min = ArrayAlg.min(birthdays);\n",
    "        System.out.println(\"min = \" + min);\n",
    "    }\n",
    "}"
   ]
  },
  {
   "cell_type": "code",
   "execution_count": 20,
   "metadata": {},
   "outputs": [
    {
     "name": "stdout",
     "output_type": "stream",
     "text": [
      "min = 1919-05-04\n"
     ]
    }
   ],
   "source": [
    "// 执行\n",
    "PairTest3.main(null);"
   ]
  },
  {
   "cell_type": "markdown",
   "metadata": {},
   "source": [
    "类型变量限制语法：\n",
    "```Java\n",
    "<T extends BoundingType>\n",
    "```\n",
    "表示`T`应该是`BoundingType`的子类型，`T`和`BoundingType`可以是类，也可以是接口，选择关键字`extends`的原因是更接近子类的概念。  \n",
    "一个类型变量可以有多个限定，例如：\n",
    "```Java\n",
    "T extends Comarable & Serializable\n",
    "```\n",
    "限定类型用&分开，而逗号用来分隔类型变量。"
   ]
  },
  {
   "cell_type": "markdown",
   "metadata": {},
   "source": [
    "### 4.4 泛型使用约束和局限性\n",
    "\n",
    "#### 4.4.1 不能使用primitive主数据类型\n",
    "    不能使用primitive主数据类型。因此，没有`Pair<double>`, 只有`Pair<Double>`。\n",
    "\n",
    "#### 4.4.2 不能创建初始化类型的数组\n",
    "```Java\n",
    "Pair<String>[] aa = new Pair<String>[10]; // error\n",
    "```\n",
    "但可以使用ArrayList\n",
    "```Java\n",
    "ArrayList<Pair<String>> list = new ArrayList<>();\n",
    "```\n",
    "\n",
    "#### 4.4.3 不能实例化类型变量\n",
    "    不能使用`new T(), new T[]`这样的代码\n",
    "```Java\n",
    "public Pair() { first = new T(); second = new T(); } // error\n",
    "```\n",
    "要这样:\n",
    "```Java\n",
    "public static <T> Pair<T> makePair(Class<T> clazz) {\n",
    "    try {\n",
    "        return new Pair<>(clazz.newInstance(),clazz.newInstance());\n",
    "    } catch (Exception e) {\n",
    "        e.printStackTrace();\n",
    "        return null;\n",
    "    }\n",
    "}\n",
    "```"
   ]
  },
  {
   "cell_type": "markdown",
   "metadata": {},
   "source": [
    "### 4.5 泛型类型的继承规则\n",
    "\n",
    "回忆之前学过的动物继承树"
   ]
  },
  {
   "cell_type": "code",
   "execution_count": 21,
   "metadata": {},
   "outputs": [],
   "source": [
    "public abstract class Animal {\n",
    "    public abstract void sleep();\n",
    "    public abstract void roam();\n",
    "    public abstract void eat();\n",
    "    public abstract void makeNoise();\n",
    "}"
   ]
  },
  {
   "cell_type": "code",
   "execution_count": 22,
   "metadata": {},
   "outputs": [],
   "source": [
    "public class Dog extends Animal {\n",
    "    @Override\n",
    "    public void sleep() {\n",
    "        System.out.println(\"Dog sleep\");\n",
    "    }\n",
    "\n",
    "    @Override\n",
    "    public void roam() {\n",
    "        System.out.println(\"Dog roam\");\n",
    "    }\n",
    "\n",
    "    @Override\n",
    "    public void eat() {\n",
    "        System.out.println(\"Dog eat\");\n",
    "    }\n",
    "\n",
    "    @Override\n",
    "    public void makeNoise() {\n",
    "        System.out.println(\"Dog makeNoise\");\n",
    "    }\n",
    "}"
   ]
  },
  {
   "cell_type": "markdown",
   "metadata": {},
   "source": [
    "思考问题，`Pair<Animal>`和`Pair<Dog>`是什么关系，你肯定以为`Pair<Dog>`是`Pair<Animal>`的子类，但并不是，`Pair<Animal>`和`Pair<Dog>`**没有继承关系**。\n",
    "下面的代码是错误的："
   ]
  },
  {
   "cell_type": "code",
   "execution_count": 23,
   "metadata": {},
   "outputs": [
    {
     "ename": "CompilationException",
     "evalue": "",
     "output_type": "error",
     "traceback": [
      "\u001b[1m\u001b[30m|   \u001b[1m\u001b[30mPair<Animal> as = \u001b[0m\u001b[1m\u001b[30m\u001b[41mds\u001b[0m\u001b[1m\u001b[30m;\u001b[0m",
      "\u001b[1m\u001b[31m不兼容的类型: Pair<Dog>无法转换为Pair<Animal>\u001b[0m",
      ""
     ]
    }
   ],
   "source": [
    "Pair<Dog> ds = new Pair();\n",
    "Pair<Animal> as = ds;"
   ]
  },
  {
   "cell_type": "markdown",
   "metadata": {},
   "source": [
    " ## 4.6 泛型通配符\n",
    " \n",
    "为了解决上面的问题，Java设计者发明了一种巧妙的“解决方案”：通配符类型。\n",
    "\n",
    "### 4.6.1 通配符子类限定\n",
    "\n",
    "通配符类型中，允许参数变化，例如：\n",
    "```Java\n",
    "Pair<? extends Animal>\n",
    "```\n",
    "表示任何泛型Pair类型，它的类型参数是`Animal`的子类，如`Pair<Dog>`，但不是`Pair<String>`。\n",
    "\n",
    "例题：假设有一个动物园类`Zoo`，可以成批量添加动物。"
   ]
  },
  {
   "cell_type": "code",
   "execution_count": 25,
   "metadata": {},
   "outputs": [],
   "source": [
    "public class Zoo {\n",
    "    ArrayList<Animal> list = new ArrayList<>();\n",
    "\n",
    "    // 向动物园中添加动物\n",
    "    public void addAnimals(List<? extends Animal> as) {\n",
    "        for (Animal a : as) {\n",
    "            list.add(a);\n",
    "        }\n",
    "    }\n",
    "\n",
    "    // 动物数量\n",
    "    public int animalCount() {\n",
    "        return list.size();\n",
    "    }\n",
    "}"
   ]
  },
  {
   "cell_type": "code",
   "execution_count": 26,
   "metadata": {},
   "outputs": [],
   "source": [
    "public class ZooTest {\n",
    "    public static void main(String[] args) {\n",
    "        Zoo zoo = new Zoo();\n",
    "        System.out.println(\"before add animal, count = \" + zoo.animalCount());\n",
    "        // 创建dog list 放入两只狗\n",
    "        List<Dog> dogs = Arrays.asList(new Dog(), new Dog());\n",
    "        // 加到动物园\n",
    "        zoo.addAnimals(dogs);\n",
    "        System.out.println(\"after add animal, count = \" + zoo.animalCount());\n",
    "    }\n",
    "}"
   ]
  },
  {
   "cell_type": "code",
   "execution_count": 27,
   "metadata": {},
   "outputs": [
    {
     "name": "stdout",
     "output_type": "stream",
     "text": [
      "before add animal, count = 0\n",
      "after add animal, count = 2\n"
     ]
    }
   ],
   "source": [
    "// 执行\n",
    "ZooTest.main(null);"
   ]
  },
  {
   "cell_type": "markdown",
   "metadata": {},
   "source": [
    "注意：使用`List<? extends Animal>`定义的变量，不能再加入元素，考虑如下的代码\n",
    "```Java\n",
    "List<? extends Animal> as = new ArrayList<Dog>();\n",
    "as.add(new Wolf()); // 向ArrayList<Dog>中加入Wolf对象是错误的\n",
    "```"
   ]
  },
  {
   "cell_type": "markdown",
   "metadata": {},
   "source": [
    "### 4.6.1 通配符超类限定\n",
    "\n",
    "\n",
    "超类限定和子类限定类似，如下：\n",
    "```Java\n",
    "? super Dog\n",
    "```\n",
    "这个通配符限制为`Dog`的所有超类，它的作用是可以写入值，但不能读取值。如下的代码\n",
    "```Java\n",
    "List<? super Animal> as = new ArrayList<Animal>();\n",
    "as.add(new Dog()); // 正确\n",
    "as.add(new Wolf()); // 正确\n",
    "Animal a = as.get(0); // 错误\n",
    "```\n",
    "\n",
    "回顾前面的求最小值的方法头部\n",
    "```Java\n",
    "public static <T extends Comparable> T min(T[] a);\n",
    "```\n",
    "这里`Comparable`本身就是一个泛型接口，接口定义如下:\n",
    "```Java\n",
    "public interface Comaprable<T> {\n",
    "    public int compareTo(T other);\n",
    "}\n",
    "```\n",
    "也许，我们可以把`min`方法的头部修改为:\n",
    "```Java\n",
    "public static <T extends Comparable<T>> T min(T[] a);\n",
    "```\n",
    "但修改后发现，原有的代码有语法错误\n",
    "```Java\n",
    "LocalDate min = ArrayAlg.min(birthdays);\n",
    "```\n",
    "这是因为，`LocalDate`实现了`ChronoLocalDate`, 而`ChronoLocalDate`扩展了`Comparable<ChronoLocalDate>`，因此`LocalDate`实现的是`Comparable<ChronoLocalDate>`而不是`Comparable<LocalDate>`   \n",
    "\n",
    "为解决这个问题，可以使用超类限定   \n",
    "```Java\n",
    "public static <T extends Comparable<? super T>> T min(T[] a)\n",
    "```"
   ]
  },
  {
   "cell_type": "markdown",
   "metadata": {},
   "source": [
    "### 通配符限定小节\n",
    "\n",
    "- 带有超类限定的通配符可以向泛型对象写入\n",
    "- 带有子类限定的通配符可以从泛型对象读取\n"
   ]
  },
  {
   "cell_type": "markdown",
   "metadata": {},
   "source": [
    "### 作业\n",
    "\n",
    "实现下面的方法\n",
    "```Java\n",
    "public class ArrayAlg {\n",
    "    // 作业，实现此泛型方法\n",
    "    public static <T extends Comparable<? super T>> Pair<T> minmax(T[] a) {\n",
    "        return null;\n",
    "    }\n",
    "}\n",
    "```\n",
    "要求：运行通过单元测试`UTminmax`"
   ]
  }
 ],
 "metadata": {
  "kernelspec": {
   "display_name": "Java",
   "language": "java",
   "name": "java"
  },
  "language_info": {
   "codemirror_mode": "java",
   "file_extension": ".jshell",
   "mimetype": "text/x-java-source",
   "name": "Java",
   "pygments_lexer": "java",
   "version": "11.0.6+8-LTS"
  }
 },
 "nbformat": 4,
 "nbformat_minor": 4
}
