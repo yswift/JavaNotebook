{
 "cells": [
  {
   "cell_type": "markdown",
   "metadata": {},
   "source": [
    "# 数组\n",
    "\n",
    "数组是最常见的一种数据结构，它是相同类型的用一个标识符封装到一起的基本类型数据序列或者对象序列。数组使用一个统一的数组名和不同的下标来唯一确定数组中的元素。实质上，数组是一个简单的线性序列，因此访问速度很快。\n",
    "\n",
    "## Java数组简介\n",
    "\n",
    "在某些情况下，虽然可以使用单个变量来存储信息，但是如果需要存储的信息较多（例如存储 50 名学生的成绩），这时再依次创建变量声明并赋值显得非常麻烦。\n",
    "\n",
    "随着处理的信息量越来越大，工作也就越来越烦琐，这时可以使用数组或集合来存储信息。通过使用数组，可以在很大程度上缩短和简化程序代码，从而提高应用程序的效率。\n",
    "\n",
    "数组（array）是一种最简单的复合数据类型，它是有序数据的集合，数组中的每个元素具有相同的数据类型，可以用一个统一的数组名和不同的下标来确定数组中唯一的元素。根据数组的维度，可以将其分为一维数组、二维数组和多维数组等。\n",
    "\n",
    "## Java一维数组的定义、赋值和初始化\n",
    "\n",
    "当数组中每个元素都只带有一个下标时，这种数组就是“一维数组”。一维数组（one-dimensional array）实质上是一组相同类型数据的线性集合，是数组中最简单的一种数组。\n",
    "\n",
    "### 创建一维数组\n",
    "\n",
    "为了在程序中使用一个数组，必须声明一个引用该数组的变量，并指明整个变量可以引用的数组类型。声明一维数组的语法格式为：\n",
    "```Java\n",
    "type[] arrayName;    // 数据类型[] 数组名;\n",
    "```\n",
    "例如\n",
    "```Java\n",
    "int[] score;    // 存储学生的成绩，类型为整型\n",
    "double[] price;    // 存储商品的价格，类型为浮点型\n",
    "String[] name;    // 存储商品名称，类型为字符串型\n",
    "```\n",
    "\n",
    "### 分配空间\n",
    "\n",
    "声明了数组，只是得到了一个存放数组的变量，并没有为数组元素分配内存空间，不能使用。因此要为数组分配内存空间，这样数组的每一个元素才有一个空间进行存储。\n",
    "\n",
    "简单地说，分配空间就是要告诉计算机在内存中为它分配几个连续的位置来存储数据。在 Java 中可以使用 new 关键字来给数组分配空间。分配空间的语法格式如下：\n",
    "```Java\n",
    "arrayName = new type[size];    // 数组名 = new 数据类型[数组长度];\n",
    "```\n",
    "其中，数组长度就是数组中能存放的元素个数，显然应该为大于 0 的整数，例如：\n",
    "```Java\n",
    "score = new int[10];\n",
    "price = new double[30];\n",
    "name = new String[20];\n",
    "```\n",
    "这里的 score 是已经声明过的 int[] 类型的变量，当然也可以在声明数组时就给它分配空间，语法格式如下：\n",
    "```Java\n",
    "type[] arrayName = new type[size];    // 数据类型[] 数组名 = new 数据类型[数组长度];\n",
    "```\n",
    "\n",
    "例 1\n",
    "例如，声明并分配一个长度为 5 的 int 类型数组 arr，代码如下：\n",
    "```Java\n",
    "    int[] arr = new int[5];\n",
    "```\n",
    "\n",
    "### 初始化一维数组\n",
    "\n",
    "Java 语言中数组必须先初始化，然后才可以使用。所谓初始化，就是为数组的数组元素分配内存空间，并为每个数组元素赋初始值。\n",
    "\n",
    "能不能只分配内存空间，不赋初始值呢？\n",
    "\n",
    "不行，一旦为数组的每个数组元素分配了内存空间，每个内存空间里存储的内容就是该数组元素的值，即使这个内存空间存储的内容为空，这个空也是一个值（null）。不管以哪种方式来初始化数组，只要为数组元素分配了内存空间，数组元素就具有了初始值。初始值的获得有两种形式，一种由系统自动分配，另一种由程序员指定。\n",
    "\n",
    "数组在初始化数组的同时，可以指定数组的大小，也可以分别初始化数组中的每一个元素。在 Java 语言中，初始化数组有以下 3 种方式。\n",
    "1）使用 new 指定数组大小后进行初始化\n",
    "使用 new 关键字创建数组，在创建时指定数组的大小。语法如下：\n",
    "```Java\n",
    "type[] arrayName = new int[size];\n",
    "```\n",
    "创建数组之后，元素的值并不确定，需要为每一个数组的元素进行赋值，其下标从 0 开始。\n",
    "例 2\n",
    "创建包含 5 个元素的 int 类型的数组，然后分别将元素的值设置为 1、2、3、5 和 8。代码如下：\n",
    "```Java\n",
    "    int[] number = new int[5];\n",
    "    number[0] = 1;\n",
    "    number[1] = 2;\n",
    "    number[2] = 3;\n",
    "    number[3] = 5;\n",
    "    number[4] = 8;\n",
    "```\n",
    "\n",
    "如果程序员只指定了数组的长度，那么系统将负责为这些数组元素分配初始值。指定初始值时，系统按如下规则分配初始值。\n",
    "\n",
    "    数组元素的类型是基本类型中的整数类型（byte、short、int 和 long），则数组元素的值是 0。\n",
    "    数组元素的类型是基本类型中的浮点类型（float、double），则数组元素的值是 0.0。\n",
    "    数组元素的类型是基本类型中的字符类型（char），则数组元素的值是‘\\u0000’。\n",
    "    数组元素的类型是基本类型中的布尔类型（boolean），则数组元素的值是 false。\n",
    "    数组元素的类型是引用类型（类、接口和数组），则数组元素的值是 null。\n",
    "\n",
    "2）使用 new 指定数组元素的值\n",
    "使用上述方式初始化数组时，只有在为元素赋值时才确定值。可以不使用上述方式，而是在初始化时就已经确定值。语法如下：\n",
    "```Java\n",
    "type[] arrayName = new type[]{值 1,值 2,值 3,值 4,• • •,值 n};\n",
    "```\n",
    "例 3\n",
    "更改例 2 中的代码，使用 new 直接指定数组元素的值。代码如下：\n",
    "```Java\n",
    "    int[] number = new int[]{1, 2, 3, 5, 8};\n",
    "```\n",
    "上述代码的效果等价于例 2 的效果。\n",
    "\n",
    "注意：不要在进行数组初始化时，既指定数组的长度，也为每个数组元素分配初始值，这样会造成代码错误。例如下面代码：\n",
    "```Java\n",
    "    int[] number = new int [5] {1,2,3,4,5};\n",
    "```\n",
    "3）直接指定数组元素的值\n",
    "在上述两种方式的语法中，type 可以省略，如果已经声明数组变量，那么直接使用这两种方式进行初始化。如果不想使用上述两种方式，那么可以不使用 new 直接指定数组元素的值。语法如下：\n",
    "```Java\n",
    "type[] arrayName = {值 1,值 2,值 3,...,值 n};\n",
    "```\n",
    "例 4\n",
    "在前面例子的基础上更改代码，直接使用上述语法实现 number 数组的初始化。代码如下：\n",
    "```Java\n",
    "    int[] number = {1,2,3,5,8};\n",
    "```\n",
    "使用这种方式时，数组的声明和初始化操作要同步，即不能省略数组变量的类型。如下的代码就是错误的：\n",
    "```Java\n",
    "    int[] number;\n",
    "    number = {1,2,3,5,8};\n",
    "```\n",
    "获取单个元素\n",
    "获取单个元素是指获取数组中的一个元素，如第一个元素或最后一个元素。获取单个元素的方法非常简单，指定元素所在数组的下标即可。语法如下：\n",
    "```Java\n",
    "arrayName[index];\n",
    "```\n",
    "其中，arrayName 表示数组变量，index 表示下标，下标为 0 表示获取第一个元素，下标为 array.length-1 表示获取最后一个元素。当指定的下标值超出数组的总长度时，会拋出 ArraylndexOutOfBoundsException 异常。\n",
    "例 5\n",
    "获取 number 数组中的第一个元素、最后一个元素和第六个元素，并将元素的值输出。代码如下："
   ]
  },
  {
   "cell_type": "code",
   "execution_count": 1,
   "metadata": {},
   "outputs": [
    {
     "name": "stdout",
     "output_type": "stream",
     "text": [
      "获取第一个元素：1\n",
      "获取最后一个元素：8\n"
     ]
    },
    {
     "ename": "EvalException",
     "evalue": "Index 5 out of bounds for length 5",
     "output_type": "error",
     "traceback": [
      "\u001b[1m\u001b[31m---------------------------------------------------------------------------\u001b[0m",
      "\u001b[1m\u001b[31mjava.lang.ArrayIndexOutOfBoundsException: Index 5 out of bounds for length 5\u001b[0m",
      "\u001b[1m\u001b[31m\tat .(#15:1)\u001b[0m"
     ]
    }
   ],
   "source": [
    "int[] number = {1,2,3,5,8};\n",
    "System.out.println(\"获取第一个元素：\"+number[0]);\n",
    "System.out.println(\"获取最后一个元素：\"+number[number.length-1]);\n",
    "System.out.println(\"获取第6个元素：\"+number[5]);"
   ]
  },
  {
   "cell_type": "markdown",
   "metadata": {},
   "source": [
    "我们一共存入了 5 个值，所以下标的取值为 0~4。因为 number[5] 取出的内容超过了这个下标，所以输出结果会提示数组索引超出绑定异常（ArrayIndexOutOfBoundsException）。这一点是在使用数组中是经常出现的问题，大家在编写程序时应该引起注意。 "
   ]
  },
  {
   "cell_type": "markdown",
   "metadata": {},
   "source": [
    "例6：生成10个0-100的随机数，保存到数组中，求这10个数的和，并输出"
   ]
  },
  {
   "cell_type": "code",
   "execution_count": 3,
   "metadata": {},
   "outputs": [
    {
     "name": "stdout",
     "output_type": "stream",
     "text": [
      "46, 93, 65, 50, 76, 62, 30, 19, 83, 78, \n",
      "sum = 602\n"
     ]
    }
   ],
   "source": [
    "public class Lt7_6 {\n",
    "\tpublic static void main(String[] args) {\n",
    "\t\t// 生成10个0-100的随机数，保存到数组中，求这10个数的和，并输出\n",
    "\t\t\n",
    "\t\t\n",
    "\t\t// 定义随机数对象\n",
    "\t\tRandom r = new Random();\n",
    "\t\t// 定义10个元素的数组\n",
    "\t\tint[] num = new int[10];\n",
    "\t\t// 生成10个0-100的随机数\n",
    "\t\tfor (int i=0; i<num.length; i++) {\n",
    "\t\t\t// 0-100的随机数,赋值给数组\n",
    "\t\t\tnum[i] = r.nextInt(100);\n",
    "\t\t}\n",
    "\t\t// 显示这10个随机数\n",
    "\t\tfor (int i=0; i<num.length; i++) {\n",
    "\t\t\tSystem.out.print(num[i] + \", \");\n",
    "\t\t}\n",
    "\t\tSystem.out.println();\n",
    "\t\t// 求数组元素的和\n",
    "\t\tint sum = 0;\n",
    "\t\tfor (int i=0; i<num.length; i++) {\n",
    "\t\t\tsum += num[i];\n",
    "\t\t}\n",
    "\t\tSystem.out.println(\"sum = \" + sum);\n",
    "\t}\n",
    "}\n",
    "Lt7_6.main(null);"
   ]
  },
  {
   "cell_type": "markdown",
   "metadata": {},
   "source": [
    "例7：生成10个Person对象，用随机数给年龄赋值，保存到数组中，求平均年龄，并输出"
   ]
  },
  {
   "cell_type": "code",
   "execution_count": 5,
   "metadata": {},
   "outputs": [
    {
     "name": "stdout",
     "output_type": "stream",
     "text": [
      "30, 36, 31, 38, 38, 35, 39, 36, 33, 34, \n",
      "平均年龄: 35.0\n"
     ]
    }
   ],
   "source": [
    "public class Person {\n",
    "\tString name;\n",
    "\tint age;\n",
    "}\n",
    "\n",
    "public class Lt7_7 {\n",
    "\t// 生成10个Person对象，用随机数给年龄赋值，保存到数组中，求平均年龄，并输出\n",
    "\tpublic static void main(String[] args) {\n",
    "\t\t// 定义随机数对象\n",
    "\t\tRandom r = new Random();\n",
    "\t\t// 定义Person对象数组\n",
    "\t\tPerson[] persons = new Person[10];\n",
    "\t\t// 生成10个Person对象，用随机数给年龄赋值\n",
    "\t\tfor (int i=0; i<persons.length; i++) {\n",
    "\t\t\t// 注意，必须创建对象并放入数组\n",
    "\t\t\tpersons[i] = new Person();\n",
    "\t\t\t// 年龄范围20-40\n",
    "\t\t\tpersons[i].age = 20 + r.nextInt(20);\n",
    "\t\t}\n",
    "\t\t// 输出年龄\n",
    "\t\tfor (int i=0; i<persons.length; i++) {\n",
    "\t\t\tPerson p = persons[i];\n",
    "\t\t\tSystem.out.print(p.age + \", \");\n",
    "\t\t}\n",
    "\t\tSystem.out.println();\n",
    "\t\t// 求年龄合计\n",
    "\t\tint sum = 0;\n",
    "\t\t// 注意新的for循环格式，与输出年龄的for循环对比，理解新的格式\n",
    "\t\tfor (Person p : persons) {\n",
    "\t\t\tsum += p.age;\n",
    "\t\t}\n",
    "\t\tdouble avg = sum * 1.0 / persons.length;\n",
    "\t\tSystem.out.println(\"平均年龄: \" + avg);\n",
    "\t}\n",
    "}\n",
    "Lt7_7.main(null);"
   ]
  },
  {
   "cell_type": "markdown",
   "metadata": {},
   "source": [
    "### 作业3\n",
    "1. 给Person类中加入**身高属性**, 代码如下：\n",
    "```Java\n",
    "public class Person {\n",
    "    ...\n",
    "\tdouble height;\n",
    "    ...\n",
    "}\n",
    "```\n",
    "2. 参考例7，生成10个Person对象，用随机数给**身高**赋值，保存到数组中，求**平均身高**，并输出"
   ]
  }
 ],
 "metadata": {
  "kernelspec": {
   "display_name": "Java",
   "language": "java",
   "name": "java"
  },
  "language_info": {
   "codemirror_mode": "java",
   "file_extension": ".jshell",
   "mimetype": "text/x-java-source",
   "name": "Java",
   "pygments_lexer": "java",
   "version": "11.0.6+8-LTS"
  }
 },
 "nbformat": 4,
 "nbformat_minor": 4
}
