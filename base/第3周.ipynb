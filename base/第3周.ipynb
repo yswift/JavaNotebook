{
 "cells": [
  {
   "attachments": {},
   "cell_type": "markdown",
   "metadata": {},
   "source": [
    "# 目标\n",
    "\n",
    "1. 掌握java基本数据类型：\n",
    "byte, short, int, long, float, double, Boolean\n",
    "2. 掌握变量的概念和用法\n",
    "3. 掌握java中各种运算符：\n",
    "赋值、数学、关系运算、逻辑（布尔）运算\n",
    "4. 掌握表达式的概念，以及使用表达式完成需要的计算\n",
    "5. 掌握程序的顺序结构，即程序按编写的次序运行。\n",
    "6. 掌握 Scanner 的用法\n"
   ]
  },
  {
   "attachments": {},
   "cell_type": "markdown",
   "metadata": {},
   "source": [
    "## 练习1：\n",
    "> 重点内容：  \n",
    "> 1）输入整数  \n",
    "> 2）输入小数（浮点数）  \n",
    "> 3）输入字符串  \n"
   ]
  },
  {
   "cell_type": "code",
   "execution_count": 2,
   "metadata": {},
   "outputs": [
    {
     "name": "stdout",
     "output_type": "stream",
     "text": [
      "请输入你的姓名：zhangsan\n",
      "请输入你年龄：11\n",
      "请输入你身高：1.2\n",
      "你好，zhangsan\n",
      "你的年龄是：11\n",
      "你的身高是：1.2\n"
     ]
    }
   ],
   "source": [
    "import java.util.Scanner;\n",
    "\n",
    "public class Lt3_1 {\n",
    "\tpublic static void main(String[] args) {\n",
    "\t\tScanner in = new Scanner(System.in);\n",
    "\t\t\n",
    "\t\tSystem.out.print(\"请输入你的姓名：\");\n",
    "\t\tString name = in.next(); \n",
    "\t\tSystem.out.print(\"请输入你年龄：\");\n",
    "\t\tint age = in.nextInt(); \n",
    "\t\tSystem.out.print(\"请输入你身高：\");\n",
    "\t\tdouble height = in.nextDouble();\n",
    "\t\t\n",
    "\t\tSystem.out.println(\"你好，\" + name);\n",
    "\t\tSystem.out.println(\"你的年龄是：\" + age);\n",
    "\t\tSystem.out.println(\"你的身高是：\" + height);\n",
    "        \n",
    "        // TODO \n",
    "        // 作业1: 添加输入、输出体重的代码\n",
    "\t\t\n",
    "\t\tin.close();\n",
    "\t}\n",
    "}\n",
    "Lt3_1.main(null);"
   ]
  },
  {
   "attachments": {},
   "cell_type": "markdown",
   "metadata": {},
   "source": [
    "## 练习2：数学运算\n",
    "\n",
    "> 注意不同数据类型对运算结果的影响"
   ]
  },
  {
   "cell_type": "code",
   "execution_count": 4,
   "metadata": {},
   "outputs": [
    {
     "name": "stdout",
     "output_type": "stream",
     "text": [
      "x + y = 13.0\n",
      "x - y = 7.0\n",
      "x * y = 30.0\n",
      "x / y = 3.3333333333333335\n",
      "x % y = 1.0\n"
     ]
    }
   ],
   "source": [
    "public class Lt3_2 {\n",
    "\tpublic static void main(String[] args) {\n",
    "\t\tint x = 10;\n",
    "\t\tint y = 3;\n",
    "        // TODO 作业2\n",
    "        // 1）把变量x, y 都改为double类型，再次运行程序，观察结果有什么不同\n",
    "        // 2）把变量x, y 中的某一个改为double类型，再次运行程序，观察结果有什么不同\n",
    "\t\tSystem.out.println(\"x + y = \" + (x + y));\n",
    "\t\tSystem.out.println(\"x - y = \" + (x - y));\n",
    "\t\tSystem.out.println(\"x * y = \" + (x * y));\n",
    "\t\tSystem.out.println(\"x / y = \" + (x / y));\n",
    "\t\tSystem.out.println(\"x % y = \" + (x % y)); \n",
    "\t}\n",
    "}\n",
    "Lt3_2.main(null);"
   ]
  },
  {
   "attachments": {},
   "cell_type": "markdown",
   "metadata": {},
   "source": [
    "## 练习3：关系运算"
   ]
  },
  {
   "cell_type": "code",
   "execution_count": 5,
   "metadata": {},
   "outputs": [
    {
     "name": "stdout",
     "output_type": "stream",
     "text": [
      "请输入一个整数：3\n",
      "你输入的是：3\n",
      "这个数大于5：false\n",
      "这个数小于100：true\n",
      "这个数是偶数：false\n"
     ]
    }
   ],
   "source": [
    "import java.util.Scanner;\n",
    "\n",
    "public class Lt3_3 {\n",
    "\tpublic static void main(String[] args) {\n",
    "\t\tScanner in = new Scanner(System.in);\n",
    "\t\t\n",
    "\t\tSystem.out.print(\"请输入一个整数：\");\n",
    "\t\tint n = in.nextInt(); \n",
    "\t\t\n",
    "\t\tSystem.out.println(\"你输入的是：\" + n);\n",
    "\t\tSystem.out.println(\"这个数大于5：\" + (n > 5));\n",
    "\t\tSystem.out.println(\"这个数小于100：\" + (n < 100));\n",
    "\t\tSystem.out.println(\"这个数是偶数：\" + (n % 2 == 0));\n",
    "        \n",
    "        // TODO 作业3\n",
    "        // 判断输入的数是否能被3整除\n",
    "\t}\n",
    "}\n",
    "Lt3_3.main(null)"
   ]
  },
  {
   "attachments": {},
   "cell_type": "markdown",
   "metadata": {},
   "source": [
    "## 练习4：逻辑运算"
   ]
  },
  {
   "cell_type": "code",
   "execution_count": 6,
   "metadata": {},
   "outputs": [
    {
     "name": "stdout",
     "output_type": "stream",
     "text": [
      "请输入年：20000\n",
      "是闰年：true\n"
     ]
    }
   ],
   "source": [
    "import java.util.Scanner;\n",
    "\n",
    "public class Lt3_4 {\n",
    "\tpublic static void main(String[] args) {\n",
    "\t\tScanner in = new Scanner(System.in);\n",
    "\t\t\n",
    "\t\tSystem.out.print(\"请输入年：\");\n",
    "\t\tint year = in.nextInt();\n",
    "\t\tboolean isLeapYear = (year % 4 == 0);\n",
    "\t\t// TODO 作业4\n",
    "\t\t// 上面的代码有bug，1900不是闰年，但结果是闰年，\n",
    "\t\t// 请修改代码，让计算结果正确\n",
    "\t\tSystem.out.println(\"是闰年：\" + isLeapYear);\n",
    "\t}\n",
    "}\n",
    "Lt3_4.main(null);"
   ]
  }
 ],
 "metadata": {
  "kernelspec": {
   "display_name": "Java",
   "language": "java",
   "name": "java"
  },
  "language_info": {
   "codemirror_mode": "java",
   "file_extension": ".jshell",
   "mimetype": "text/x-java-source",
   "name": "Java",
   "pygments_lexer": "java",
   "version": "11.0.6+8-LTS"
  }
 },
 "nbformat": 4,
 "nbformat_minor": 4
}
