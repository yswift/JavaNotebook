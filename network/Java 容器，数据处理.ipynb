{
 "cells": [
  {
   "cell_type": "markdown",
   "metadata": {},
   "source": [
    "# Java 容器，数据处理\n",
    "\n",
    "Java容器在编程中会大量用到，熟练使用合适的容器能给我们的编程带来方便。  \n"
   ]
  },
  {
   "cell_type": "code",
   "execution_count": 2,
   "metadata": {},
   "outputs": [],
   "source": [
    "// 本例中用到的数据类\n",
    "public class Person {\n",
    "    // 姓名\n",
    "    String name;\n",
    "    // 性别\n",
    "    String gender;\n",
    "    // 所属部门\n",
    "    String department;\n",
    "    // 年龄\n",
    "    int age;\n",
    "    // 身高\n",
    "    double height;\n",
    "    // 体重\n",
    "    double weight;\n",
    "\n",
    "    public Person(String name, String gender, String department, int age, double height, double weight) {\n",
    "        this.name = name;\n",
    "        this.gender = gender;\n",
    "        this.department = department;\n",
    "        this.age = age;\n",
    "        this.height = height;\n",
    "        this.weight = weight;\n",
    "    }\n",
    "    \n",
    "    @Override\n",
    "    public String toString() {\n",
    "        return \"\\nPerson{\" +\n",
    "                \"name='\" + name + '\\'' +\n",
    "                \", gender='\" + gender + '\\'' +\n",
    "                \", department='\" + department + '\\'' +\n",
    "                \", age=\" + age +\n",
    "                \", height=\" + height +\n",
    "                \", weight=\" + weight +\n",
    "                '}';\n",
    "    }\n",
    "}\n",
    "\n",
    "public class PersonFactory {\n",
    "    // 测试用的数据\n",
    "    public static Person[] persons = {\n",
    "            new Person(\"赵一\", \"男\", \"计科\", 30, 1.7, 55),\n",
    "            new Person(\"钱二\", \"女\",\"计科\", 33, 1.77, 65),\n",
    "            new Person(\"孙三\", \"女\",\"计科\", 34, 1.73, 75),\n",
    "            new Person(\"李四\", \"男\",\"计科\", 35, 1.84, 62),\n",
    "            new Person(\"赵五\", \"女\",\"计科\", 27, 1.71, 69),\n",
    "            new Person(\"赵六\", \"男\",\"计科\", 26, 1.66, 67),\n",
    "            new Person(\"钱七\", \"女\",\"计科\", 40, 1.68, 58),\n",
    "            new Person(\"李八\", \"女\",\"计科\", 44, 1.69, 53),\n",
    "            new Person(\"孙九\", \"男\",\"计科\", 43, 1.88, 52),\n",
    "            new Person(\"李十\", \"男\",\"计科\", 45, 1.72, 59),\n",
    "    };\n",
    "}"
   ]
  },
  {
   "cell_type": "code",
   "execution_count": 2,
   "metadata": {},
   "outputs": [
    {
     "name": "stdout",
     "output_type": "stream",
     "text": [
      "\n",
      "Person{name='赵一', gender='男', department='计科', age=30, height=1.7, weight=55.0}\n",
      "Person{name='钱二', gender='女', department='计科', age=33, height=1.77, weight=65.0}\n",
      "Person{name='孙三', gender='女', department='计科', age=34, height=1.73, weight=75.0}\n",
      "Person{name='李四', gender='男', department='计科', age=35, height=1.84, weight=62.0}\n",
      "Person{name='赵五', gender='女', department='计科', age=27, height=1.71, weight=69.0}\n",
      "Person{name='赵六', gender='男', department='计科', age=26, height=1.66, weight=67.0}\n",
      "Person{name='钱七', gender='女', department='计科', age=40, height=1.68, weight=58.0}\n",
      "Person{name='李八', gender='女', department='计科', age=44, height=1.69, weight=53.0}\n",
      "Person{name='孙九', gender='男', department='计科', age=43, height=1.88, weight=52.0}\n",
      "Person{name='李十', gender='男', department='计科', age=45, height=1.72, weight=59.0}"
     ]
    }
   ],
   "source": [
    "// 使用准备好的数据, 输出\n",
    "for (Person p : PersonFactory.persons) {\n",
    "    System.out.print(p);\n",
    "}"
   ]
  },
  {
   "cell_type": "code",
   "execution_count": 5,
   "metadata": {},
   "outputs": [
    {
     "name": "stdout",
     "output_type": "stream",
     "text": [
      "\n",
      "Person{name='钱二', gender='女', department='计科', age=33, height=1.77, weight=65.0}\n",
      "Person{name='钱七', gender='女', department='计科', age=40, height=1.68, weight=58.0}"
     ]
    }
   ],
   "source": [
    "// 找出所有姓钱的人\n",
    "for (Person p : PersonFactory.persons) {\n",
    "    if (p.name.startsWith(\"钱\")) {\n",
    "        System.out.print(p);\n",
    "    }\n",
    "}"
   ]
  },
  {
   "cell_type": "markdown",
   "metadata": {},
   "source": [
    "使用stream api，上面的4行代码可以简化为一行"
   ]
  },
  {
   "cell_type": "code",
   "execution_count": 3,
   "metadata": {},
   "outputs": [
    {
     "name": "stdout",
     "output_type": "stream",
     "text": [
      "\n",
      "Person{name='钱二', gender='女', department='计科', age=33, height=1.77, weight=65.0}\n",
      "Person{name='钱七', gender='女', department='计科', age=40, height=1.68, weight=58.0}"
     ]
    }
   ],
   "source": [
    "// 使用 stream 达到相同的功能\n",
    "// 引入包\n",
    "import java.util.stream.Stream;\n",
    "// 找出所有姓钱的人\n",
    "Stream.of(PersonFactory.persons).filter(p -> p.name.startsWith(\"钱\")).forEach(p -> System.out.print(p));"
   ]
  },
  {
   "cell_type": "code",
   "execution_count": 5,
   "metadata": {},
   "outputs": [
    {
     "name": "stdout",
     "output_type": "stream",
     "text": [
      "\n",
      "Person{name='赵一', gender='男', department='计科', age=30, height=1.7, weight=55.0}\n",
      "Person{name='钱二', gender='女', department='计科', age=33, height=1.77, weight=65.0}\n",
      "Person{name='孙三', gender='女', department='计科', age=34, height=1.73, weight=75.0}\n",
      "Person{name='李四', gender='男', department='计科', age=35, height=1.84, weight=62.0}\n",
      "Person{name='赵五', gender='女', department='计科', age=27, height=1.71, weight=69.0}\n",
      "Person{name='赵六', gender='男', department='计科', age=26, height=1.66, weight=67.0}\n",
      "Person{name='钱七', gender='女', department='计科', age=40, height=1.68, weight=58.0}\n",
      "Person{name='李八', gender='女', department='计科', age=44, height=1.69, weight=53.0}\n",
      "Person{name='孙九', gender='男', department='计科', age=43, height=1.88, weight=52.0}\n",
      "Person{name='李十', gender='男', department='计科', age=45, height=1.72, weight=59.0}"
     ]
    }
   ],
   "source": [
    "Stream.of(PersonFactory.persons).forEach(System.out::print)"
   ]
  },
  {
   "cell_type": "code",
   "execution_count": null,
   "metadata": {},
   "outputs": [],
   "source": [
    "println aaa;"
   ]
  }
 ],
 "metadata": {
  "kernelspec": {
   "display_name": "Java",
   "language": "java",
   "name": "java"
  },
  "language_info": {
   "codemirror_mode": "java",
   "file_extension": ".jshell",
   "mimetype": "text/x-java-source",
   "name": "Java",
   "pygments_lexer": "java",
   "version": "11.0.6+8-LTS"
  }
 },
 "nbformat": 4,
 "nbformat_minor": 4
}
