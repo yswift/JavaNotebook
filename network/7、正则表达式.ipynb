{
 "cells": [
  {
   "cell_type": "markdown",
   "metadata": {},
   "source": [
    "# 1. 正则表达式\n",
    "\n",
    "## 概念 \n",
    "\n",
    "正则表达式，又称规则表达式。（英语：Regular Expression，在代码中常简写为regex、regexp或RE），计算机科学的一个概念。正则表达式通常被用来检索、替换那些符合某个模式(规则)的文本。  \n",
    "\n",
    "许多程序设计语言都支持利用正则表达式进行字符串操作。例如，在Perl中就内建了一个功能强大的正则表达式引擎。正则表达式这个概念最初是由Unix中的工具软件（例如sed和grep）普及开的。正则表达式通常缩写成“regex”  \n",
    "\n",
    "正则表达式是对字符串操作的一种逻辑公式，就是用事先定义好的一些特定字符、及这些特定字符的组合，组成一个“规则字符串”，这个“规则字符串”用来表达对字符串的一种过滤逻辑。\n",
    "\n",
    "## 使用目的\n",
    "给定一个正则表达式和另一个字符串，我们可以达到如下的目的：\n",
    "1. 给定的字符串是否符合正则表达式的过滤逻辑（称作“匹配”），验证输入\n",
    "2. 可以通过正则表达式，从字符串中获取我们想要的特定部分。\n",
    "\n",
    "## 特点\n",
    "\n",
    "正则表达式的特点是：\n",
    "1. 灵活性、逻辑性和功能性非常强；\n",
    "2. 可以迅速地用极简单的方式达到字符串的复杂控制。\n",
    "3. 对于刚接触的人来说，比较晦涩难懂。  \n",
    "\n",
    "由于正则表达式主要应用对象是文本，因此它在各种文本编辑器场合都有应用，小到著名编辑器EditPlus，大到Microsoft Word、Visual Studio等大型编辑器，都可以使用正则表达式来处理文本内容。\n",
    "\n",
    "## 常用的正则匹配工具 \n",
    "\n",
    "在线匹配工具：\n",
    "\n",
    "1. http://www.regexpal.com/ \n",
    "2. http://rubular.com/ \n",
    "3. https://tool.oschina.net/regex/\n",
    "\n",
    "正则匹配软件\n",
    "  McTracer \n",
    "  \n",
    "## 编写一个正则表达式的模式\n",
    "\n",
    "一个正则表达式模式是由简单的字符所构成的，比如 `abc`；或者是简单和特殊字符的组合，比如 `ab*c` 或 `Chapter (\\d+)\\.\\d*`。最后的例子中用到了括号，它在正则表达式中常用作记忆设备。即这部分所匹配的字符将会被记住以备后续使用，例如使用括号的子字符串匹配。\n",
    "\n",
    "### 使用简单模式\n",
    "\n",
    "简单模式是由你想直接找到的字符构成。比如，`abc` 这个模式就能且仅能匹配 `\"abc\"` 字符按照顺序同时出现的情况。例如在 `\"Hi, do you know your abc's?\"` 和 `\"The latest airplane designs evolved from slabcraft.\"` 中会匹配成功。在上述两个例子中，匹配的子字符串是 `\"abc\"`。但是在 `\"Grab crab\"` 中会匹配失败，因为它虽然包含子字符串 `\"ab c\"`，但并不是准确的 `\"abc\"`。\n",
    "\n",
    "\n",
    "### 使用特殊字符\n",
    "\n",
    "当你需要匹配一个不确定的字符串时，比如寻找一个或多个 `\"b\"`，或者寻找`空格`，可以在模式中使用特殊字符。比如，你可以使用 `ab*c` 去匹配一个单独的 `\"a\"` 后面跟了零个或者多个 `\"b\"`，同时后面跟着 `\"c\"` 的字符串：`*`的意思是前一项出现零次或者多次。在字符串 `\"cbbabbbbcdebc\"` 中，这个模式匹配了子字符串 `\"abbbbc\"`。\n",
    "\n",
    "#### 特殊位置\n",
    "<style> table th:first-of-type { width: 200px; } </style>\n",
    "| 字符 | 含义 |\n",
    "|:-----:|:-------- |\n",
    "| \\ &nbsp; &nbsp; &nbsp; &nbsp; | 依照下列规则匹配：      在非特殊字符之前的反斜杠表示下一个字符是特殊字符，不能按照字面理解。例如，前面没有 \"\\\" 的 \"b\" 通常匹配小写字母 \"b\"，即字符会被作为字面理解，无论它出现在哪里。但如果前面加了 \"\\\"，它将不再匹配任何字符，而是表示一个字符边界。      在特殊字符之前的反斜杠表示下一个字符不是特殊字符，应该按照字面理解。详情请参阅下文中的 \"转义（Escaping）\" 部分。      如果你想将字符串传递给 RegExp 构造函数，不要忘记在字符串字面量中反斜杠是转义字符。所以为了在模式中添加一个反斜杠，你需要在字符串字面量中转义它。/[a-z]\\s/i 和 new RegExp(\"[a-z]\\\\s\", \"i\") 创建了相同的正则表达式：一个用于搜索后面紧跟着空白字符（\\s 可看后文）并且在 a-z 范围内的任意字符的表达式。为了通过字符串字面量给 RegExp 构造函数创建包含反斜杠的表达式，你需要在字符串级别和正则表达式级别都对它进行转义。例如 /[a-z]:\\\\/i 和 new RegExp(\"[a-z]:\\\\\\\\\",\"i\") 会创建相同的表达式，即匹配类似 \"C:\\\" 字符串。     |\n",
    "| ^ | 匹配输入的开始。如果多行标志被设置为 true，那么也匹配换行符后紧跟的位置。      例如，/^A/ 并不会匹配 \"an A\" 中的 'A'，但是会匹配 \"An E\" 中的 'A'。      当 '^' 作为第一个字符出现在一个字符集合模式时，它将会有不同的含义。反向字符集合 一节有详细介绍和示例。|\n",
    "| \\$ | 匹配输入的结束。如果多行标志被设置为 true，那么也匹配换行符前的位置。      例如，/t$/ 并不会匹配 \"eater\" 中的 't'，但是会匹配 \"eat\" 中的 't'。     |\n",
    "| \\b | 匹配一个词的边界。一个词的边界就是一个词不被另外一个“字”字符跟随的位置或者前面跟其他“字”字符的位置，例如在字母和空格之间。注意，匹配中不包括匹配的字边界。换句话说，一个匹配的词的边界的内容的长度是0。（不要和[\\b]混淆了）      使用\"moon\"举例：       /\\bm/匹配“moon”中的‘m’；       /oo\\b/并不匹配\"moon\"中的'oo'，因为'oo'被一个“字”字符'n'紧跟着。       /oon\\b/匹配\"moon\"中的'oon'，因为'oon'是这个字符串的结束部分。这样他没有被一个“字”字符紧跟着。       /\\w\\b\\w/将不能匹配任何字符串，因为在一个单词中间的字符永远也不可能同时满足没有“字”字符跟随和有“字”字符跟随两种情况。           注意: JavaScript的正则表达式引擎将特定的字符集定义为“字”字符。不在该集合中的任何字符都被认为是一个断词。这组字符相当有限：它只包括大写和小写的罗马字母，十进制数字和下划线字符。不幸的是，重要的字符，例如“é”或“ü”，被视为断词。          |\n",
    "| \\B | 匹配一个非单词边界。匹配如下几种情况：            字符串第一个字符为非“字”字符      字符串最后一个字符为非“字”字符      两个单词字符之间      两个非单词字符之间      空字符串           例如，/\\B../匹配\"noonday\"中的'oo', 而/y\\B../匹配\"possibly yesterday\"中的’yes‘     |\n",
    "\n",
    "\n",
    "#### 常用字符\n",
    "| 字符 | 含义 |\n",
    "|:-----:|:-------- |\n",
    "| . | （小数点）默认匹配除换行符之外的任何单个字符。      例如，/.n/ 将会匹配 \"nay, an apple is on the tree\" 中的 'an' 和 'on'，但是不会匹配 'nay'。      如果 s (\"dotAll\") 标志位被设为 true，它也会匹配换行符。     |\n",
    "| \\d | 匹配一个数字。等价于[0-9]。      例如， /\\d/ 或者 /[0-9]/ 匹配\"B2 is the suite number.\"中的'2'。     |\n",
    "| \\D | 匹配一个非数字字符。等价于[^0-9]。      例如， /\\D/ 或者 /[^0-9]/ 匹配\"B2 is the suite number.\"中的'B' 。     |\n",
    "| \\s | 匹配一个空白字符，包括空格、制表符、换页符和换行符。等价于[ \\f\\n\\r\\t\\v\\u00a0\\u1680\\u180e\\u2000-\\u200a\\u2028\\u2029\\u202f\\u205f\\u3000\\ufeff]。      例如, /\\s\\w*/ 匹配\"foo bar.\"中的' bar'。     |\n",
    "| \\S | 匹配一个非空白字符。等价于 [^ \\f\\n\\r\\t\\v\\u00a0\\u1680\\u180e\\u2000-\\u200a\\u2028\\u2029\\u202f\\u205f\\u3000\\ufeff]。      例如，/\\S\\w*/ 匹配\"foo bar.\"中的'foo'。     |\n",
    "| \\w | 匹配一个单字字符（字母、数字或者下划线）。等价于 [A-Za-z0-9_]。      例如, /\\w/ 匹配 \"apple,\" 中的 'a'，\"$5.28,\"中的 '5' 和 \"3D.\" 中的 '3'。     |\n",
    "| \\W | 匹配一个非单字字符。等价于 [^A-Za-z0-9_]。      例如, /\\W/ 或者 /[^A-Za-z0-9_]/ 匹配 \"50%.\" 中的 '%'。     |\n",
    "| x|y | 匹配‘x’或者‘y’。      例如，/green|red/匹配“green apple”中的‘green’和“red apple”中的‘red’     |\n",
    "| [xyz] | 一个字符集合。匹配方括号中的任意字符，包括转义序列。你可以使用破折号（-）来指定一个字符范围。对于点（.）和星号（*）这样的特殊符号在一个字符集中没有特殊的意义。他们不必进行转义，不过转义也是起作用的。      例如，[abcd] 和[a-d]是一样的。他们都匹配\"brisket\"中的‘b’,也都匹配“city”中的‘c’。/[a-z.]+/ 和/[\\w.]+/与字符串“test.i.ng”匹配。 |\n",
    "| [^xyz] | 一个反向字符集。也就是说， 它匹配任何没有包含在方括号中的字符。你可以使用破折号（-）来指定一个字符范围。任何普通字符在这里都是起作用的。      例如，[^abc] 和 [^a-c] 是一样的。他们匹配\"brisket\"中的‘r’，也匹配“chop”中的‘h’。     |\n",
    "\n",
    "#### 量词\n",
    "| 字符 | 含义 |\n",
    "|:-----:|:-------- |\n",
    "| * | 匹配前一个表达式 0 次或多次。等价于 {0,}。      例如，/bo*/ 会匹配 \"A ghost boooooed\" 中的 'booooo' 和 \"A bird warbled\" 中的 'b'，但是在 \"A goat grunted\" 中不会匹配任何内容。     |\n",
    "| + | 匹配前面一个表达式 1 次或者多次。等价于 {1,}。      例如，/a+/ 会匹配 \"candy\" 中的 'a' 和 \"caaaaaaandy\" 中所有的 'a'，但是在 \"cndy\" 中不会匹配任何内容。     |\n",
    "| ? | 匹配前面一个表达式 0 次或者 1 次。等价于 {0,1}。      例如，/e?le?/ 匹配 \"angel\" 中的 'el'、\"angle\" 中的 'le' 以及 \"oslo' 中的 'l'。      如果紧跟在任何量词 *、 +、? 或 {} 的后面，将会使量词变为非贪婪（匹配尽量少的字符），和缺省使用的贪婪模式（匹配尽可能多的字符）正好相反。例如，对 \"123abc\" 使用 /\\d+/ 将会匹配 \"123\"，而使用 /\\d+?/ 则只会匹配到 \"1\"。      还用于先行断言中，如本表的 x(?=y) 和 x(?!y) 条目所述。     |\n",
    "| {n} | n 是一个正整数，匹配了前面一个字符刚好出现了 n 次。      比如， /a{2}/ 不会匹配“candy”中的'a',但是会匹配“caandy”中所有的 a，以及“caaandy”中的前两个'a'。 |\n",
    "| {n,} | n是一个正整数，匹配前一个字符至少出现了n次。      例如, /a{2,}/ 匹配 \"aa\", \"aaaa\" 和 \"aaaaa\" 但是不匹配 \"a\"。     |\n",
    "| {n,m} | n 和 m 都是整数。匹配前面的字符至少n次，最多m次。如果 n 或者 m 的值是0， 这个值被忽略。      例如，/a{1, 3}/ 并不匹配“cndy”中的任意字符，匹配“candy”中的a，匹配“caandy”中的前两个a，也匹配“caaaaaaandy”中的前三个a。注意，当匹配”caaaaaaandy“时，匹配的值是“aaa”，即使原始的字符串中有更多的a。     |\n",
    "\n",
    "#### 分组，\n",
    "| 字符 | 含义 |\n",
    "|:-----:|:-------- |\n",
    "| (x) | 像下面的例子展示的那样，它会匹配 'x' 并且记住匹配项。其中括号被称为捕获括号。      模式 /(foo) (bar) \\1 \\2/ 中的 '(foo)' 和 '(bar)' 匹配并记住字符串 \"foo bar foo bar\" 中前两个单词。模式中的 \\1 和 \\2 表示第一个和第二个被捕获括号匹配的子字符串，即 foo 和 bar，匹配了原字符串中的后两个单词。注意 \\1、\\2、...、\\n 是用在正则表达式的匹配环节，详情可以参阅后文的 \\n 条目。而在正则表达式的替换环节，则要使用像 $1、$2、...、$n 这样的语法，例如，'bar foo'.replace(/(...) (...)/, '$2 $1')。$& 表示整个用于匹配的原字符串。     |\n",
    "| (?:x) | 匹配 'x' 但是不记住匹配项。这种括号叫作非捕获括号，使得你能够定义与正则表达式运算符一起使用的子表达式。看看这个例子 /(?:foo){1,2}/。如果表达式是 /foo{1,2}/，{1,2} 将只应用于 'foo' 的最后一个字符 'o'。如果使用非捕获括号，则 {1,2} 会应用于整个 'foo' 单词。更多信息，可以参阅下文的 Using parentheses 条目.     |\n",
    "| x(?=y) | 匹配'x'仅仅当'x'后面跟着'y'.这种叫做先行断言。      例如，/Jack(?=Sprat)/会匹配到'Jack'仅当它后面跟着'Sprat'。/Jack(?=Sprat|Frost)/匹配‘Jack’仅当它后面跟着'Sprat'或者是‘Frost’。但是‘Sprat’和‘Frost’都不是匹配结果的一部分。     |\n",
    "| (?<=y)x | 匹配'x'仅当'x'前面是'y'.这种叫做后行断言。      例如，/(?<=Jack)Sprat/会匹配到' Sprat '仅仅当它前面是' Jack '。/(?<=Jack|Tom)Sprat/匹配‘ Sprat ’仅仅当它前面是'Jack'或者是‘Tom’。但是‘Jack’和‘Tom’都不是匹配结果的一部分。     |\n",
    "| x(?!y) | 仅仅当'x'后面不跟着'y'时匹配'x'，这被称为正向否定查找。      例如，仅仅当这个数字后面没有跟小数点的时候，/\\d+(?!\\.)/ 匹配一个数字。正则表达式/\\d+(?!\\.)/.exec(\"3.141\")匹配‘141’而不是‘3.141’     |\n",
    "| (?<!y)x | 仅仅当'x'前面不是'y'时匹配'x'，这被称为反向否定查找。      例如, 仅仅当这个数字前面没有负号的时候，/(?<!-)\\d+/ 匹配一个数字。       /(?<!-)\\d+/.exec('3') 匹配到 \"3\".       /(?<!-)\\d+/.exec('-3') 因为这个数字前有负号，所以没有匹配到。     |\n",
    "| \\n | 在正则表达式中，它返回最后的第n个子捕获匹配的子字符串(捕获的数目以左括号计数)。      比如 /apple(,)\\sorange\\1/ 匹配\"apple, orange, cherry, peach.\"中的'apple, orange,' 。     |\n",
    "\n",
    "#### 特殊字符\n",
    "| 字符 | 含义 |\n",
    "|:-----:|:-------- |\n",
    "| [\\b] |  匹配一个退格(U+0008)。（不要和\\b混淆了。）     |\n",
    "| \\cX | 当X是处于A到Z之间的字符的时候，匹配字符串中的一个控制符。      例如，/\\cM/ 匹配字符串中的 control-M (U+000D)。     |\n",
    "| \\f | 匹配一个换页符 (U+000C)。 |\n",
    "| \\n | 匹配一个换行符 (U+000A)。 |\n",
    "| \\r | 匹配一个回车符 (U+000D)。 |\n",
    "| \\t | 匹配一个水平制表符 (U+0009)。 |\n",
    "| \\v | 匹配一个垂直制表符 (U+000B)。 |\n",
    "\n",
    "\n",
    "\n",
    "#### unicode 代码\n",
    "| 字符 | 含义 |\n",
    "|:-----:|:-------- |\n",
    "| \\0 | 匹配 NULL（U+0000）字符， 不要在这后面跟其它小数，因为 \\0<digits> 是一个八进制转义序列。 |\n",
    "| \\xhh | 匹配一个两位十六进制数（\\x00-\\xFF）表示的字符。 |\n",
    "| \\uhhhh | 匹配一个四位十六进制数表示的 UTF-16 代码单元。 |\n",
    "| \\u{hhhh} | （仅当设置了u标志时）使用 Unicode 值 hhhh 匹配字符（十六进制数字）。 |"
   ]
  },
  {
   "cell_type": "markdown",
   "metadata": {},
   "source": [
    "# 2. Java正则表达式类\n",
    "\n",
    "`java.util.regex`是一个用正则表达式所订制的模式来对字符串进行匹配工作的类库包。它包括两个类：`Pattern`和`Matcher`, \n",
    "- `Pattern` pattern 对象是一个正则表达式的编译表示。Pattern 类没有公共构造方法。要创建一个 Pattern 对象，你必须首先调用其公共静态编译方法，它返回一个 Pattern 对象。该方法接受一个正则表达式作为它的第一个参数。 \n",
    "- `Matcher` Matcher 对象是对输入字符串进行解释和匹配操作的引擎。与Pattern 类一样，Matcher 也没有公共构造方法。你需要调用 Pattern 对象的 matcher 方法来获得一个 Matcher 对象。\n",
    "\n",
    "Pattern类用于创建一个正则表达式,也可以说创建一个匹配模式,它的构造方法是私有的,不可以直接创建,但可以通过Pattern.complie(String regex)简单工厂方法创建一个正则表达式, "
   ]
  },
  {
   "cell_type": "code",
   "execution_count": 2,
   "metadata": {},
   "outputs": [
    {
     "data": {
      "text/plain": [
       "\\w+"
      ]
     },
     "execution_count": 2,
     "metadata": {},
     "output_type": "execute_result"
    }
   ],
   "source": [
    "Pattern p=Pattern.compile(\"\\\\w+\"); \n",
    "p.pattern();//返回 \\w+ "
   ]
  },
  {
   "cell_type": "markdown",
   "metadata": {},
   "source": [
    "`pattern()` 返回正则表达式的字符串形式,其实就是返回`Pattern.complile(String regex)`的regex参数\n"
   ]
  },
  {
   "cell_type": "code",
   "execution_count": 4,
   "metadata": {},
   "outputs": [],
   "source": [
    "public class Lt1 {\n",
    "    public static void main(String[] args) {\n",
    "        String content = \"I am noob from runoob.com.\";\n",
    "        String pattern = \".*runoob.*\";\n",
    "\n",
    "        boolean isMatch = Pattern.matches(pattern, content);\n",
    "        System.out.println(\"字符串中是否包含了 'runoob' 子字符串? \" + isMatch);\n",
    "    }\n",
    "}"
   ]
  },
  {
   "cell_type": "code",
   "execution_count": 5,
   "metadata": {},
   "outputs": [
    {
     "name": "stdout",
     "output_type": "stream",
     "text": [
      "字符串中是否包含了 'runoob' 子字符串? true\n"
     ]
    }
   ],
   "source": [
    "// 执行\n",
    "Lt1.main(null);"
   ]
  },
  {
   "cell_type": "markdown",
   "metadata": {},
   "source": [
    "##  捕获组的概念\n",
    "\n",
    "捕获组可以通过从左到右计算其开括号来编号，编号是从1 开始的。例如，在表达式 ((A)(B(C)))中，存在四个这样的组：\n",
    "```\n",
    "    ((A)(B(C)))\n",
    "    (A)\n",
    "    (B(C))\n",
    "    (C)\n",
    "```\n",
    "组零始终代表整个表达式。 以 (?) 开头的组是纯的非捕获组，它不捕获文本，也不针对组合计进行计数。\n",
    "\n",
    "与组关联的捕获输入始终是与组最近匹配的子序列。如果由于量化的缘故再次计算了组，则在第二次计算失败时将保留其以前捕获的值（如果有的话）例如，将字符串\"aba\" 与表达式(a(b)?)+ 相匹配，会将第二组设置为 \"b\"。在每个匹配的开头，所有捕获的输入都会被丢弃。"
   ]
  },
  {
   "cell_type": "code",
   "execution_count": 6,
   "metadata": {},
   "outputs": [],
   "source": [
    "public class FindGroup {\n",
    "    public static void main( String args[] ){\n",
    "        // 按指定模式在字符串查找\n",
    "        String line = \"This order was placed for QT3000! OK?\";\n",
    "        String pattern = \"(\\\\D*)(\\\\d+)(.*)\";\n",
    "        // 创建 Pattern 对象\n",
    "        Pattern r = Pattern.compile(pattern);\n",
    "        // 现在创建 matcher 对象\n",
    "        Matcher m = r.matcher(line);\n",
    "        if (m.find( )) {\n",
    "            System.out.println(\"Found value: \" + m.group(0) );\n",
    "            System.out.println(\"Found value: \" + m.group(1) );\n",
    "            System.out.println(\"Found value: \" + m.group(2) );\n",
    "            System.out.println(\"Found value: \" + m.group(3) );\n",
    "        } else {\n",
    "            System.out.println(\"NO MATCH\");\n",
    "        }\n",
    "    }\n",
    "}"
   ]
  },
  {
   "cell_type": "code",
   "execution_count": 7,
   "metadata": {},
   "outputs": [
    {
     "name": "stdout",
     "output_type": "stream",
     "text": [
      "Found value: This order was placed for QT3000! OK?\n",
      "Found value: This order was placed for QT\n",
      "Found value: 3000\n",
      "Found value: ! OK?\n"
     ]
    }
   ],
   "source": [
    "// 执行\n",
    "FindGroup.main(null);"
   ]
  },
  {
   "cell_type": "markdown",
   "metadata": {},
   "source": [
    "## 详解Pattern类\n",
    "\n",
    "### 1.Pattern.split(CharSequence input)\n",
    "\n",
    "Pattern有一个split(CharSequence input)方法,用于分隔字符串,并返回一个String[],我猜String.split(String regex)就是通过Pattern.split(CharSequence input)来实现的. \n"
   ]
  },
  {
   "cell_type": "code",
   "execution_count": 9,
   "metadata": {},
   "outputs": [
    {
     "name": "stdout",
     "output_type": "stream",
     "text": [
      "我的QQ是:\n",
      "我的电话是:\n",
      "我的邮箱是:aaa@aaa.com\n"
     ]
    }
   ],
   "source": [
    "Pattern p=Pattern.compile(\"\\\\d+\"); \n",
    "String[] str=p.split(\"我的QQ是:456456我的电话是:0532214我的邮箱是:aaa@aaa.com\"); \n",
    "// 结果:str[0]=\"我的QQ是:\" str[1]=\"我的电话是:\" str[2]=\"我的邮箱是:aaa@aaa.com\"\n",
    "for (String s: str) {\n",
    "    System.out.println(s);\n",
    "}"
   ]
  },
  {
   "cell_type": "markdown",
   "metadata": {},
   "source": [
    "### 2.Pattern.matcher(String regex,CharSequence input)\n",
    "是一个静态方法,用于快速匹配字符串,该方法适合用于只匹配一次,且匹配全部字符串."
   ]
  },
  {
   "cell_type": "code",
   "execution_count": 10,
   "metadata": {},
   "outputs": [
    {
     "data": {
      "text/plain": [
       "false"
      ]
     },
     "execution_count": 10,
     "metadata": {},
     "output_type": "execute_result"
    }
   ],
   "source": [
    "Pattern.matches(\"\\\\d+\",\"2223\");  //返回true \n",
    "Pattern.matches(\"\\\\d+\",\"2223aa\");//返回false,需要匹配到所有字符串才能返回true,这里aa不能匹配到 \n",
    "Pattern.matches(\"\\\\d+\",\"22bb23\");//返回false,需要匹配到所有字符串才能返回true,这里bb不能匹配到 "
   ]
  },
  {
   "cell_type": "markdown",
   "metadata": {},
   "source": [
    "### 3.Pattern.matcher(CharSequence input)\n",
    "Pattern.matcher(CharSequence input)返回一个Matcher对象.    \n",
    "Matcher类的构造方法也是私有的,不能随意创建,只能通过Pattern.matcher(CharSequence input)方法得到该类的实例.    \n",
    "Pattern类只能做一些简单的匹配操作,要想得到更强更便捷的正则匹配操作,那就需要将Pattern与Matcher一起合作.Matcher类提供了对正则表达式的分组支持,以及对正则表达式的多次匹配支持. \n"
   ]
  },
  {
   "cell_type": "code",
   "execution_count": 11,
   "metadata": {},
   "outputs": [
    {
     "data": {
      "text/plain": [
       "\\d+"
      ]
     },
     "execution_count": 11,
     "metadata": {},
     "output_type": "execute_result"
    }
   ],
   "source": [
    "Pattern p=Pattern.compile(\"\\\\d+\"); \n",
    "Matcher m=p.matcher(\"22bb23\"); \n",
    "m.pattern();//返回p 也就是返回该Matcher对象是由哪个Pattern对象的创建的 "
   ]
  },
  {
   "cell_type": "markdown",
   "metadata": {},
   "source": [
    "### 4.Matcher.matches()/ Matcher.lookingAt()/ Matcher.find()\n",
    "\n",
    "Matcher类提供三个匹配操作方法,三个方法均返回boolean类型,当匹配到时返回true,没匹配到则返回false    \n",
    "matches()对整个字符串进行匹配,只有整个字符串都匹配了才返回true "
   ]
  },
  {
   "cell_type": "code",
   "execution_count": 15,
   "metadata": {},
   "outputs": [
    {
     "name": "stdout",
     "output_type": "stream",
     "text": [
      "false\n",
      "true\n"
     ]
    }
   ],
   "source": [
    "Pattern p = Pattern.compile(\"\\\\d+\"); \n",
    "Matcher m = p.matcher(\"22bb23\"); \n",
    "boolean b1 = m.matches();//返回false,因为bb不能被\\d+匹配,导致整个字符串匹配未成功. \n",
    "System.out.println(b1);\n",
    "Matcher m2 = p.matcher(\"2223\"); \n",
    "boolean b2 = m2.matches();//返回true,因为\\d+匹配到了整个字符串\n",
    "System.out.println(b2);"
   ]
  },
  {
   "cell_type": "markdown",
   "metadata": {},
   "source": [
    "### 5.  Matcher.lookingAt()\n",
    "\n",
    "lookingAt()对前面的字符串进行匹配,只有匹配到的字符串在最前面才返回true "
   ]
  },
  {
   "cell_type": "code",
   "execution_count": 16,
   "metadata": {},
   "outputs": [
    {
     "data": {
      "text/plain": [
       "true"
      ]
     },
     "execution_count": 16,
     "metadata": {},
     "output_type": "execute_result"
    }
   ],
   "source": [
    "Pattern p=Pattern.compile(\"\\\\d+\"); \n",
    "Matcher m=p.matcher(\"22bb23\"); \n",
    "m.lookingAt();//返回true,因为\\d+匹配到了前面的22 "
   ]
  },
  {
   "cell_type": "code",
   "execution_count": 17,
   "metadata": {},
   "outputs": [
    {
     "data": {
      "text/plain": [
       "false"
      ]
     },
     "execution_count": 17,
     "metadata": {},
     "output_type": "execute_result"
    }
   ],
   "source": [
    "Matcher m2=p.matcher(\"aa2223\"); \n",
    "m2.lookingAt();//返回false,因为\\d+不能匹配前面的aa "
   ]
  },
  {
   "cell_type": "markdown",
   "metadata": {},
   "source": [
    "### 6. Matcher.find()\n",
    "\n",
    "find()对字符串进行匹配,匹配到的字符串可以在任何位置. "
   ]
  },
  {
   "cell_type": "code",
   "execution_count": 18,
   "metadata": {},
   "outputs": [
    {
     "data": {
      "text/plain": [
       "true"
      ]
     },
     "execution_count": 18,
     "metadata": {},
     "output_type": "execute_result"
    }
   ],
   "source": [
    "Pattern p=Pattern.compile(\"\\\\d+\"); \n",
    "Matcher m=p.matcher(\"22bb23\"); \n",
    "m.find();//返回true "
   ]
  },
  {
   "cell_type": "code",
   "execution_count": 19,
   "metadata": {},
   "outputs": [
    {
     "data": {
      "text/plain": [
       "true"
      ]
     },
     "execution_count": 19,
     "metadata": {},
     "output_type": "execute_result"
    }
   ],
   "source": [
    "Matcher m2=p.matcher(\"aa2223\"); \n",
    "m2.find();//返回true "
   ]
  },
  {
   "cell_type": "code",
   "execution_count": 20,
   "metadata": {},
   "outputs": [
    {
     "data": {
      "text/plain": [
       "true"
      ]
     },
     "execution_count": 20,
     "metadata": {},
     "output_type": "execute_result"
    }
   ],
   "source": [
    "Matcher m3=p.matcher(\"aa2223bb\"); \n",
    "m3.find();//返回true "
   ]
  },
  {
   "cell_type": "code",
   "execution_count": 21,
   "metadata": {},
   "outputs": [
    {
     "data": {
      "text/plain": [
       "false"
      ]
     },
     "execution_count": 21,
     "metadata": {},
     "output_type": "execute_result"
    }
   ],
   "source": [
    "Matcher m4=p.matcher(\"aabb\"); \n",
    "m4.find();//返回false "
   ]
  },
  {
   "cell_type": "markdown",
   "metadata": {},
   "source": [
    "### 7.Mathcer.start()/ Matcher.end()/ Matcher.group()\n",
    "  当使用matches(),lookingAt(),find()执行匹配操作后,就可以利用以上三个方法得到更详细的信息. \n",
    "\n",
    "    start()返回匹配到的子字符串在字符串中的索引位置. \n",
    "    end()返回匹配到的子字符串的最后一个字符在字符串中的索引位置. \n",
    "    group()返回匹配到的子字符串 \n"
   ]
  },
  {
   "cell_type": "code",
   "execution_count": 25,
   "metadata": {},
   "outputs": [
    {
     "name": "stdout",
     "output_type": "stream",
     "text": [
      "f=true, s=3, e=7, g=2223\n"
     ]
    },
    {
     "data": {
      "text/plain": [
       "java.io.PrintStream@7682deb7"
      ]
     },
     "execution_count": 25,
     "metadata": {},
     "output_type": "execute_result"
    }
   ],
   "source": [
    "Pattern p=Pattern.compile(\"\\\\d+\"); \n",
    "Matcher m=p.matcher(\"aaa2223bb\"); \n",
    "boolean f = m.find();//匹配2223 \n",
    "int s = m.start();//返回3 \n",
    "int e = m.end();//返回7,返回的是2223后的索引号 \n",
    "String g = m.group();//返回2223 \n",
    "System.out.printf(\"f=%b, s=%d, e=%d, g=%s\\n\", f, s, e, g);"
   ]
  },
  {
   "cell_type": "code",
   "execution_count": 34,
   "metadata": {},
   "outputs": [
    {
     "name": "stdout",
     "output_type": "stream",
     "text": [
      "f=true, s=0, e=4, g=2223\n"
     ]
    },
    {
     "data": {
      "text/plain": [
       "java.io.PrintStream@7682deb7"
      ]
     },
     "execution_count": 34,
     "metadata": {},
     "output_type": "execute_result"
    }
   ],
   "source": [
    "Pattern p=Pattern.compile(\"\\\\d+\"); \n",
    "Matcher m = p.matcher(\"2223bb\"); \n",
    "boolean f = m.lookingAt();   //匹配2223 \n",
    "int s = m.start();   //返回0,由于lookingAt()只能匹配前面的字符串,所以当使用lookingAt()匹配时,start()方法总是返回0 \n",
    "int e = m.end();   //返回4 \n",
    "String g = m.group();   //返回2223 \n",
    "System.out.printf(\"f=%b, s=%d, e=%d, g=%s\\n\", f, s, e, g);"
   ]
  },
  {
   "cell_type": "code",
   "execution_count": 35,
   "metadata": {},
   "outputs": [
    {
     "name": "stdout",
     "output_type": "stream",
     "text": [
      "f = false\n"
     ]
    }
   ],
   "source": [
    "Pattern p = Pattern.compile(\"\\\\d+\"); \n",
    "Matcher m = p.matcher(\"2223bb\"); \n",
    "boolean f = m.matches();   //匹配整个字符串 \n",
    "System.out.println(\"f = \" + f);\n",
    "// 下面的代码会出错，因为不匹配, 把注释去掉，执行看看，报什么错误\n",
    "// int s = m.start();   \n",
    "// int e =m.end();   \n",
    "// String g = m.group();   \n"
   ]
  },
  {
   "cell_type": "markdown",
   "metadata": {},
   "source": [
    "## 作业1\n",
    "\n",
    "实现`regex.RegexTest`类中的所有方法，并能通过单元测试`UTRegexTest`"
   ]
  },
  {
   "cell_type": "markdown",
   "metadata": {},
   "source": [
    "## 常用的正则表达式：\n",
    "\n",
    "（1）    \"^\\d+$\"　　//非负整数（正整数 + 0）\n",
    "\n",
    "（2）    \"^[0-9]*[1-9][0-9]*$\"　　//正整数\n",
    "\n",
    "（3）    \"^((-\\d+)|(0+))$\"　　//非正整数（负整数 + 0）\n",
    "\n",
    "（4）    \"^-[0-9]*[1-9][0-9]*$\"　　//负整数\n",
    "\n",
    "（5）    \"^-?\\d+$\"　　　　//整数\n",
    "\n",
    "（6）    \"^\\d+(\\.\\d+)?$\"　　//非负浮点数（正浮点数 + 0）\n",
    "\n",
    "（7）    \"^(([0-9]+\\.[0-9]*[1-9][0-9]*)|([0-9]*[1-9][0-9]*\\.[0-9]+)|([0-9]*[1-9][0-9]*))$\"　　//正浮点数\n",
    "\n",
    "（8）    \"^((-\\d+(\\.\\d+)?)|(0+(\\.0+)?))$\"　　//非正浮点数（负浮点数 + 0）\n",
    "\n",
    "（9）    \"^(-(([0-9]+\\.[0-9]*[1-9][0-9]*)|([0-9]*[1-9][0-9]*\\.[0-9]+)|([0-9]*[1-9][0-9]*)))$\"　　//负浮点数\n",
    "\n",
    "（10）  \"^(-?\\d+)(\\.\\d+)?$\"　　//浮点数\n",
    "\n",
    "（11）  \"^[A-Za-z]+$\"　　//由26个英文字母组成的字符串\n",
    "\n",
    "（12）  \"^[A-Z]+$\"　　//由26个英文字母的大写组成的字符串\n",
    "\n",
    "（13）  \"^[a-z]+$\"　　//由26个英文字母的小写组成的字符串\n",
    "\n",
    "（14）  \"^[A-Za-z0-9]+$\"　　//由数字和26个英文字母组成的字符串\n",
    "\n",
    "（15）  \"^\\w+$\"　　//由数字、26个英文字母或者下划线组成的字符串\n",
    "\n",
    "（16）  \"^[\\w-]+(\\.[\\w-]+)*@[\\w-]+(\\.[\\w-]+)+$\"　　　　//email地址\n",
    "\n",
    "（17）  \"^[a-zA-z]+://(\\w+(-\\w+)*)(\\.(\\w+(-\\w+)*))*(\\?\\S*)?$\"　　//url\n",
    "\n",
    "（18）  /^(d{2}|d{4})-((0([1-9]{1}))|(1[1|2]))-(([0-2]([1-9]{1}))|(3[0|1]))$/   //  年-月-日\n",
    "\n",
    "（19）  /^((0([1-9]{1}))|(1[1|2]))/(([0-2]([1-9]{1}))|(3[0|1]))/(d{2}|d{4})$/   // 月/日/年\n",
    "\n",
    "（20）  \"^([w-.]+)@(([[0-9]{1,3}.[0-9]{1,3}.[0-9]{1,3}.)|(([w-]+.)+))([a-zA-Z]{2,4}|[0-9]{1,3})(]?)$\"   //Emil\n",
    "\n",
    "（21）  /^((\\+?[0-9]{2,4}\\-[0-9]{3,4}\\-)|([0-9]{3,4}\\-))?([0-9]{7,8})(\\-[0-9]+)?$/     //电话号码\n",
    "\n",
    "（22）  \"^(d{1,2}|1dd|2[0-4]d|25[0-5]).(d{1,2}|1dd|2[0-4]d|25[0-5]).(d{1,2}|1dd|2[0-4]d|25[0-5]).(d{1,2}|1dd|2[0-4]d|25[0-5])$\"   //IP地址\n",
    "\n",
    "（23）   \n",
    "\n",
    "（24）  匹配中文字符的正则表达式： [\\u4e00-\\u9fa5]\n",
    "\n",
    "（25）  匹配双字节字符(包括汉字在内)：[^\\x00-\\xff]\n",
    "\n",
    "（26）  匹配空行的正则表达式：\\n[\\s| ]*\\r\n",
    "\n",
    "（27）  匹配HTML标记的正则表达式：/<(.*)>.*<\\/\\1>|<(.*) \\/>/\n",
    "\n",
    "（28）  匹配首尾空格的正则表达式：(^\\s*)|(\\s*$)\n",
    "\n",
    "（29）  匹配Email地址的正则表达式：\\w+([-+.]\\w+)*@\\w+([-.]\\w+)*\\.\\w+([-.]\\w+)*\n",
    "\n",
    "（30）  匹配网址URL的正则表达式：^[a-zA-z]+://(\\\\w+(-\\\\w+)*)(\\\\.(\\\\w+(-\\\\w+)*))*(\\\\?\\\\S*)?$\n",
    "\n",
    "（31）  匹配帐号是否合法(字母开头，允许5-16字节，允许字母数字下划线)：^[a-zA-Z][a-zA-Z0-9_]{4,15}$\n",
    "\n",
    "（32）  匹配国内电话号码：(\\d{3}-|\\d{4}-)?(\\d{8}|\\d{7})?\n",
    "\n",
    "（33）  匹配腾讯QQ号：^[1-9]*[1-9][0-9]*$\n",
    "\n",
    "（34）  元字符及其在正则表达式上下文中的行为：\n",
    "\n",
    "（35）  \\ 将下一个字符标记为一个特殊字符、或一个原义字符、或一个后向引用、或一个八进制转义符。\n",
    "\n",
    "（36）  ^ 匹配输入字符串的开始位置。如果设置了 RegExp 对象的Multiline 属性，^ 也匹配 ’\\n’ 或 ’\\r’ 之后的位置。\n",
    "\n",
    "（37）  $ 匹配输入字符串的结束位置。如果设置了 RegExp 对象的Multiline 属性，$ 也匹配 ’\\n’ 或 ’\\r’ 之前的位置。\n",
    "\n",
    "（38）  * 匹配前面的子表达式零次或多次。\n",
    "\n",
    "（39）  + 匹配前面的子表达式一次或多次。+ 等价于 {1,}。\n",
    "\n",
    "（40）  ? 匹配前面的子表达式零次或一次。? 等价于 {0,1}。\n",
    "\n",
    "（41）  {n} n 是一个非负整数，匹配确定的n 次。\n",
    "\n",
    "（42）  {n,} n 是一个非负整数，至少匹配n 次。\n",
    "\n",
    "（43）  {n,m} m 和 n 均为非负整数，其中n <= m。最少匹配 n 次且最多匹配 m 次。在逗号和两个数之间不能有空格。\n",
    "\n",
    "（44）  ? 当该字符紧跟在任何一个其他限制符 (*, +, ?, {n}, {n,}, {n,m}) 后面时，匹配模式是非贪婪的。非贪婪模式尽可能少的匹配所搜索的字符串，而默认的贪婪模式则尽可能多的匹配所搜索的字符串。\n",
    "\n",
    "（45）  . 匹配除 \"\\n\" 之外的任何单个字符。要匹配包括 ’\\n’ 在内的任何字符，请使用象 ’[.\\n]’ 的模式。\n",
    "\n",
    "（46）  (pattern) 匹配pattern 并获取这一匹配。\n",
    "\n",
    "（47）  (?:pattern) 匹配pattern 但不获取匹配结果，也就是说这是一个非获取匹配，不进行存储供以后使用。\n",
    "\n",
    "（48）  (?=pattern) 正向预查，在任何匹配 pattern 的字符串开始处匹配查找字符串。这是一个非获取匹配，也就是说，该匹配不需要获取供以后使用。\n",
    "\n",
    "（49）  (?!pattern) 负向预查，与(?=pattern)作用相反\n",
    "\n",
    "（50）  x|y 匹配 x 或 y。\n",
    "\n",
    "（51）  [xyz] 字符集合。\n",
    "\n",
    "（52）  [^xyz] 负值字符集合。\n",
    "\n",
    "（53）  [a-z] 字符范围，匹配指定范围内的任意字符。\n",
    "\n",
    "（54）  [^a-z] 负值字符范围，匹配任何不在指定范围内的任意字符。\n",
    "\n",
    "（55）  \\b 匹配一个单词边界，也就是指单词和空格间的位置。\n",
    "\n",
    "（56）  \\B 匹配非单词边界。\n",
    "\n",
    "（57）  \\cx 匹配由x指明的控制字符。\n",
    "\n",
    "（58）  \\d 匹配一个数字字符。等价于 [0-9]。\n",
    "\n",
    "（59）  \\D 匹配一个非数字字符。等价于 [^0-9]。\n",
    "\n",
    "（60）  \\f 匹配一个换页符。等价于 \\x0c 和 \\cL。\n",
    "\n",
    "（61）  \\n 匹配一个换行符。等价于 \\x0a 和 \\cJ。\n",
    "\n",
    "（62）  \\r 匹配一个回车符。等价于 \\x0d 和 \\cM。\n",
    "\n",
    "（63）  \\s 匹配任何空白字符，包括空格、制表符、换页符等等。等价于[ \\f\\n\\r\\t\\v]。\n",
    "\n",
    "（64）  \\S 匹配任何非空白字符。等价于 [^ \\f\\n\\r\\t\\v]。\n",
    "\n",
    "（65）  \\t 匹配一个制表符。等价于 \\x09 和 \\cI。\n",
    "\n",
    "（66）  \\v 匹配一个垂直制表符。等价于 \\x0b 和 \\cK。\n",
    "\n",
    "（67）  \\w 匹配包括下划线的任何单词字符。等价于’[A-Za-z0-9_]’。\n",
    "\n",
    "（68）  \\W 匹配任何非单词字符。等价于 ’[^A-Za-z0-9_]’。\n",
    "\n",
    "（69）  \\xn 匹配 n，其中 n 为十六进制转义值。十六进制转义值必须为确定的两个数字长。\n",
    "\n",
    "（70）  \\num 匹配 num，其中num是一个正整数。对所获取的匹配的引用。\n",
    "\n",
    "（71）  \\n 标识一个八进制转义值或一个后向引用。如果 \\n 之前至少 n 个获取的子表达式，则 n 为后向引用。否则，如果 n 为八进制数字 (0-7)，则 n 为一个八进制转义值。\n",
    "\n",
    "（72）  \\nm 标识一个八进制转义值或一个后向引用。如果 \\nm 之前至少有is preceded by at least nm 个获取得子表达式，则 nm 为后向引用。如果 \\nm 之前至少有 n 个获取，则 n 为一个后跟文字 m 的后向引用。如果前面的条件都不满足，若 n 和 m 均为八进制数字 (0-7)，则 \\nm 将匹配八进制转义值 nm。\n",
    "\n",
    "（73）  \\nml 如果 n 为八进制数字 (0-3)，且 m 和 l 均为八进制数字 (0-7)，则匹配八进制转义值 nml。\n",
    "\n",
    "（74）  \\un 匹配 n，其中 n 是一个用四个十六进制数字表示的Unicode字符。\n",
    "\n",
    "（75）  匹配中文字符的正则表达式： [u4e00-u9fa5]\n",
    "\n",
    "（76）  匹配双字节字符(包括汉字在内)：[^x00-xff]\n",
    "\n",
    "（77）  匹配空行的正则表达式：n[s| ]*r\n",
    "\n",
    "（78）  匹配HTML标记的正则表达式：/<(.*)>.*</1>|<(.*) />/\n",
    "\n",
    "（79）  匹配首尾空格的正则表达式：(^s*)|(s*$)\n",
    "\n",
    "（80）  匹配Email地址的正则表达式：w+([-+.]w+)*@w+([-.]w+)*.w+([-.]w+)*\n",
    "\n",
    "（81）  匹配网址URL的正则表达式：http://([w-]+.)+[w-]+(/[w- ./?%&=]*)?\n",
    "\n",
    "（82）  利用正则表达式限制网页表单里的文本框输入内容：\n",
    "\n",
    "（83）  用正则表达式限制只能输入中文：οnkeyup=\"value=value.replace(/[^u4E00-u9FA5]/g,'')\" onbeforepaste=\"clipboardData.setData('text',clipboardData.getData('text').replace(/[^u4E00-u9FA5]/g,''))\"\n",
    "\n",
    "（84）  用正则表达式限制只能输入全角字符： οnkeyup=\"value=value.replace(/[^uFF00-uFFFF]/g,'')\" onbeforepaste=\"clipboardData.setData('text',clipboardData.getData('text').replace(/[^uFF00-uFFFF]/g,''))\"\n",
    "\n",
    "（85）  用正则表达式限制只能输入数字：οnkeyup=\"value=value.replace(/[^d]/g,'') \"onbeforepaste=\"clipboardData.setData('text',clipboardData.getData('text').replace(/[^d]/g,''))\"\n",
    "\n",
    "（86）  用正则表达式限制只能输入数字和英文：οnkeyup=\"value=value.replace(/[W]/g,'') \"onbeforepaste=\"clipboardData.setData('text',clipboardData.getData('text').replace(/[^d]/g,''))\"\n",
    "\n",
    "（87）  整理：\n",
    "\n",
    "（88）  匹配中文字符的正则表达式： [\\u4e00-\\u9fa5]\n",
    "\n",
    "（89）  匹配双字节字符(包括汉字在内)：[^\\x00-\\xff]\n",
    "\n",
    "（90）  匹配空行的正则表达式：\\n[\\s| ]*\\r\n",
    "\n",
    "（91）  匹配HTML标记的正则表达式：/<(.*)>.*<\\/\\1>|<(.*) \\/>/\n",
    "\n",
    "（92）  匹配首尾空格的正则表达式：(^\\s*)|(\\s*$)\n",
    "\n",
    "（93）  匹配IP地址的正则表达式：/(\\d+)\\.(\\d+)\\.(\\d+)\\.(\\d+)/g //\n",
    "\n",
    "（94）  匹配Email地址的正则表达式：\\w+([-+.]\\w+)*@\\w+([-.]\\w+)*\\.\\w+([-.]\\w+)*\n",
    "\n",
    "（95）  匹配网址URL的正则表达式：http://(/[\\w-]+\\.)+[\\w-]+(/[\\w- ./?%&=]*)?\n",
    "\n",
    "（96）  sql语句：^(select|drop|delete|create|update|insert).*$\n",
    "\n",
    "（97）  非负整数：^\\d+$\n",
    "\n",
    "（98）  正整数：^[0-9]*[1-9][0-9]*$\n",
    "\n",
    "（99）  非正整数：^((-\\d+)|(0+))$\n",
    "\n",
    "（100）  负整数：^-[0-9]*[1-9][0-9]*$\n",
    "\n",
    "（101）  整数：^-?\\d+$\n",
    "\n",
    "（102）  非负浮点数：^\\d+(\\.\\d+)?$\n",
    "\n",
    "（103）  正浮点数：^((0-9)+\\.[0-9]*[1-9][0-9]*)|([0-9]*[1-9][0-9]*\\.[0-9]+)|([0-9]*[1-9][0-9]*))$\n",
    "\n",
    "（104）  非正浮点数：^((-\\d+\\.\\d+)?)|(0+(\\.0+)?))$\n",
    "\n",
    "（105）  负浮点数：^(-((正浮点数正则式)))$\n",
    "\n",
    "（106）  英文字符串：^[A-Za-z]+$\n",
    "\n",
    "（107）  英文大写串：^[A-Z]+$\n",
    "\n",
    "（108）  英文小写串：^[a-z]+$\n",
    "\n",
    "（109）  英文字符数字串：^[A-Za-z0-9]+$\n",
    "\n",
    "（110）  英数字加下划线串：^\\w+$\n",
    "\n",
    "（111）  E-mail地址：^[\\w-]+(\\.[\\w-]+)*@[\\w-]+(\\.[\\w-]+)+$\n",
    "\n",
    "（112）  URL：^[a-zA-Z]+://(\\w+(-\\w+)*)(\\.(\\w+(-\\w+)*))*(\\?\\s*)?$ 或：^http:\\/\\/[A-Za-z0-9]+\\.[A-Za-z0-9]+[\\/=\\?%\\-&_~`@[\\]\\':+!]*([^<>\\\"\\\"])*$\n",
    "\n",
    "（113）  邮政编码：^[1-9]\\d{5}$\n",
    "\n",
    "（114）  中文：^[\\u0391-\\uFFE5]+$\n",
    "\n",
    "（115）  电话号码：^((\\d2,3)|(\\d{3}\\-))?(0\\d2,3|0\\d{2,3}-)?[1-9]\\d{6,7}(\\-\\d{1,4})?$\n",
    "\n",
    "（116）  手机号码：^((\\d2,3)|(\\d{3}\\-))?13\\d{9}$\n",
    "\n",
    "（117）  双字节字符(包括汉字在内)：^\\x00-\\xff\n",
    "\n",
    "（118）  匹配首尾空格：(^\\s*)|(\\s*$)（像vbscript那样的trim函数）\n",
    "\n",
    "（119）  匹配HTML标记：<(.*)>.*<\\/\\1>|<(.*) \\/>\n",
    "\n",
    "（120）  匹配空行：\\n[\\s| ]*\\r\n",
    "\n",
    "（121）  提取信息中的网络链接：(h|H)(r|R)(e|E)(f|F) *= *('|\")?(\\w|\\\\|\\/|\\.)+('|\"| *|>)?\n",
    "\n",
    "（122）  提取信息中的邮件地址：\\w+([-+.]\\w+)*@\\w+([-.]\\w+)*\\.\\w+([-.]\\w+)*\n",
    "\n",
    "（123）  提取信息中的图片链接：(s|S)(r|R)(c|C) *= *('|\")?(\\w|\\\\|\\/|\\.)+('|\"| *|>)?\n",
    "\n",
    "（124）  提取信息中的IP地址：(\\d+)\\.(\\d+)\\.(\\d+)\\.(\\d+)\n",
    "\n",
    "（125）  提取信息中的中国手机号码：(86)*0*13\\d{9}\n",
    "\n",
    "（126）  提取信息中的中国固定电话号码：(\\d3,4|\\d{3,4}-|\\s)?\\d{8}\n",
    "\n",
    "（127）  提取信息中的中国电话号码（包括移动和固定电话）：(\\d3,4|\\d{3,4}-|\\s)?\\d{7,14}\n",
    "\n",
    "（128）  提取信息中的中国邮政编码：[1-9]{1}(\\d+){5}\n",
    "\n",
    "（129）  提取信息中的浮点数（即小数）：(-?\\d*)\\.?\\d+\n",
    "\n",
    "（130）  提取信息中的任何数字 ：(-?\\d*)(\\.\\d+)?\n",
    "\n",
    "（131）  IP：(\\d+)\\.(\\d+)\\.(\\d+)\\.(\\d+)\n",
    "\n",
    "（132）  电话区号：/^0\\d{2,3}$/\n",
    "\n",
    "（133）  腾讯QQ号：^[1-9]*[1-9][0-9]*$\n",
    "\n",
    "（134）  帐号(字母开头，允许5-16字节，允许字母数字下划线)：^[a-zA-Z][a-zA-Z0-9_]{4,15}$\n",
    "\n",
    "（135）  中文、英文、数字及下划线：^[\\u4e00-\\u9fa5_a-zA-Z0-9]+$ \n"
   ]
  }
 ],
 "metadata": {
  "kernelspec": {
   "display_name": "Java",
   "language": "java",
   "name": "java"
  },
  "language_info": {
   "codemirror_mode": "java",
   "file_extension": ".jshell",
   "mimetype": "text/x-java-source",
   "name": "Java",
   "pygments_lexer": "java",
   "version": "11.0.6+8-LTS"
  }
 },
 "nbformat": 4,
 "nbformat_minor": 4
}
