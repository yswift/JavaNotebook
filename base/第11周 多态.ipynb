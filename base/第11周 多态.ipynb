{
 "cells": [
  {
   "cell_type": "markdown",
   "metadata": {},
   "source": [
    "# 多态\n",
    "\n",
    " 面向对象编程有三大特性：封装、继承、多态。\n",
    "\n",
    "封装隐藏了类的内部实现机制，可以在不影响使用的情况下改变类的内部结构，同时也保护了数据。对外界而已它的内部细节是隐藏的，暴露给外界的只是它的访问方法。\n",
    "\n",
    "继承是为了重用父类代码。两个类若存在IS-A的关系就可以使用继承，同时继承也为实现多态做了铺垫。\n",
    "\n",
    "多态就是指程序中定义的引用变量所指向的具体类型和通过该引用变量发出的方法调用在编程时并不确定，而是在程序运行期间才确定，即一个引用变量倒底会指向哪个类的实例对象，该引用变量发出的方法调用到底是哪个类中实现的方法，必须在由程序运行期间才能决定。因为在程序运行时才确定具体的类，这样，不用修改源程序代码，就可以让引用变量绑定到各种不同的类实现上，从而导致该引用调用的具体方法随之改变，即不修改程序代码就可以改变程序运行时所绑定的具体代码，让程序可以选择多个运行状态，这就是多态性。\n",
    "\n",
    "比如你是一个酒神，对酒情有独钟。某日回家发现桌上有几个杯子里面都装了白酒，从外面看我们是不可能知道这是些什么酒，只有喝了之后才能够猜出来是何种酒。你一喝，这是剑南春、再喝这是五粮液、再喝这是酒鬼酒….在这里我们可以描述成如下：\n",
    "\n",
    "      酒 a = 剑南春\n",
    "\n",
    "      酒 b = 五粮液\n",
    "\n",
    "      酒 c = 酒鬼酒\n",
    "\n",
    "      …\n",
    "\n",
    "这里所表现的的就是多态。剑南春、五粮液、酒鬼酒都是酒的子类，我们只是通过酒这一个父类就能够引用不同的子类，这就是多态——我们只有在运行的时候才会知道引用变量所指向的具体实例对象。\n",
    "\n",
    "## 多态的实现\n",
    "\n",
    "### 实现条件\n",
    "\n",
    "在刚刚开始就提到了继承在为多态的实现做了准备。子类Child继承父类Father，我们可以编写一个指向子类的父类类型引用，该引用既可以处理父类Father对象，也可以处理子类Child对象，当相同的消息发送给子类或者父类对象时，该对象就会根据自己所属的引用而执行不同的行为，这就是多态。即多态性就是相同的消息使得不同的类做出不同的响应。\n",
    "\n",
    "Java实现多态有三个必要条件：继承、重写、向上转型。\n",
    "\n",
    "- 继承：在多态中必须存在有继承关系的子类和父类。\n",
    "- 方法改写（覆盖）：子类对父类中某些方法进行重新定义，在调用这些方法时就会调用子类的方法。\n",
    "- 向上转型：在多态中需要将子类对象的赋给父类引用，只有这样该引用才能够具备技能调用父类的方法和子类的方法。\n",
    "\n",
    "只有满足了上述三个条件，我们才能够在同一个继承结构中使用统一的逻辑实现代码处理不同的对象，从而达到执行不同的行为。\n",
    "\n",
    "对于Java而言，它多态的实现机制遵循一个原则：当超类对象引用变量引用子类对象时，被引用对象的类型而不是引用变量的类型决定了调用谁的成员方法，但是这个被调用的方法必须是在超类中定义过的，也就是说被子类覆盖的方法。\n",
    "\n",
    "回顾上周大野狼的例子"
   ]
  },
  {
   "cell_type": "code",
   "execution_count": 1,
   "metadata": {},
   "outputs": [],
   "source": [
    "// 动物\n",
    "public class Animal {\n",
    "\tString picture;// 代表该动物性食物JPEG的文件名\n",
    "\tString food; // 该动物食用的食物类型。 目前，只能有两个值：肉或草。\n",
    "\tint hunger; // 表示动物饥饿程度的整数。 它的变化取决于动物的进食时间（和进食量）。\n",
    "\tString boundaires; // 代表动物活动范围的高度和宽度的值（例如640 x 480）。\n",
    "\tString location; // X和Y坐标 关于动物在区域中的位置。\n",
    "\t\n",
    "\tpublic void makeNoise() {\n",
    "\t\tSystem.out.println(\"animal make noise\");\n",
    "\t}\n",
    "\t\n",
    "\tpublic void eat() {\n",
    "\t\tSystem.out.println(\"animal eat\");\n",
    "\t}\n",
    "\t\n",
    "\tpublic void sleep() {\n",
    "\t\tSystem.out.println(\"animal sleep\");\n",
    "\t}\n",
    "\t\n",
    "\tpublic void roam() {\n",
    "\t\tSystem.out.println(\"animal roam\");\n",
    "\t}\n",
    "}\n",
    "\n",
    "// 犬科\n",
    "public class Canine extends Animal {\n",
    "    // 方法改写（覆盖）：覆盖了父类的roam方法\n",
    "\tpublic void roam() {\n",
    "\t\tSystem.out.println(\"canine roam\");\n",
    "\t}\n",
    "}\n",
    "\n",
    "// 狼\n",
    "public class Wolf extends Canine {\n",
    "    // 方法改写（覆盖）：覆盖了父类的makeNoise方法\n",
    "\tpublic void makeNoise() {\n",
    "\t\tSystem.out.println(\"wolf make noise\");\n",
    "\t}\n",
    "\t\n",
    "    // 方法改写（覆盖）：覆盖了父类的eat方法\n",
    "\tpublic void eat() {\n",
    "\t\tSystem.out.println(\"wolf eat\");\n",
    "\t}\n",
    "}"
   ]
  },
  {
   "cell_type": "code",
   "execution_count": 2,
   "metadata": {},
   "outputs": [
    {
     "name": "stdout",
     "output_type": "stream",
     "text": [
      "wolf make noise\n",
      "canine roam\n",
      "wolf eat\n",
      "animal sleep\n"
     ]
    }
   ],
   "source": [
    "// 不使用多态\n",
    "public class AnimalTest {\n",
    "\tpublic static void main(String[] args) {\n",
    "\t\tWolf w = new Wolf();\n",
    "\t\t\n",
    "\t\tw.makeNoise();\n",
    "\t\tw.roam();\n",
    "\t\tw.eat();\n",
    "\t\tw.sleep();\n",
    "\t}\n",
    "}\n",
    "// 执行测试\n",
    "AnimalTest.main(null);"
   ]
  },
  {
   "cell_type": "code",
   "execution_count": 3,
   "metadata": {},
   "outputs": [
    {
     "name": "stdout",
     "output_type": "stream",
     "text": [
      "wolf make noise\n",
      "canine roam\n",
      "wolf eat\n",
      "animal sleep\n"
     ]
    }
   ],
   "source": [
    "// 使用多态\n",
    "public class AnimalTest2 {\n",
    "\tpublic static void main(String[] args) {\n",
    "\t\tAnimal w = new Wolf();\n",
    "\t\t\n",
    "\t\tw.makeNoise();\n",
    "\t\tw.roam();\n",
    "\t\tw.eat();\n",
    "\t\tw.sleep();\n",
    "\t}\n",
    "}\n",
    "// 执行测试\n",
    "AnimalTest2.main(null);"
   ]
  },
  {
   "cell_type": "markdown",
   "metadata": {},
   "source": [
    "注意：上面的代码\n",
    "```Java\n",
    "Animal w = new Wolf();\n",
    "```\n",
    "声明`Animal`类型的变量`w`，但把`Wolf`类型的对象赋值给`w`，这时`w`就是多态的，它可以引用`Wolf`类型的对象，也可以引用`Dog`类型的对象。"
   ]
  },
  {
   "cell_type": "code",
   "execution_count": 4,
   "metadata": {},
   "outputs": [],
   "source": [
    "// 添加Dog类\n",
    "public class Dog extends Canine {\n",
    "\tpublic void makeNoise() {\n",
    "\t\tSystem.out.println(\"dog make noise\");\n",
    "\t}\n",
    "\t\n",
    "\tpublic void eat() {\n",
    "\t\tSystem.out.println(\"dog eat\");\n",
    "\t}\n",
    "}"
   ]
  },
  {
   "cell_type": "code",
   "execution_count": 5,
   "metadata": {},
   "outputs": [
    {
     "name": "stdout",
     "output_type": "stream",
     "text": [
      "a = new Wolf()\n",
      "wolf make noise\n",
      "canine roam\n",
      "wolf eat\n",
      "animal sleep\n",
      "\n",
      "a = new Dog()\n",
      "dog make noise\n",
      "canine roam\n",
      "dog eat\n",
      "animal sleep\n"
     ]
    }
   ],
   "source": [
    "// 使用多态2\n",
    "public class AnimalTest3 {\n",
    "\tpublic static void main(String[] args) {\n",
    "\t\tAnimal a = new Wolf();\n",
    "\t\tSystem.out.println(\"a = new Wolf()\");\n",
    "\t\ta.makeNoise();\n",
    "\t\ta.roam();\n",
    "\t\ta.eat();\n",
    "\t\ta.sleep();\n",
    "\t\t\n",
    "\t\tSystem.out.println(\"\\na = new Dog()\");\n",
    "\t\ta = new Dog();\n",
    "\t\ta.makeNoise();\n",
    "\t\ta.roam();\n",
    "\t\ta.eat();\n",
    "\t\ta.sleep();\n",
    "\t}\n",
    "}\n",
    "// 执行测试\n",
    "AnimalTest3.main(null);"
   ]
  },
  {
   "cell_type": "markdown",
   "metadata": {},
   "source": [
    "## 作业1\n",
    "\n",
    "观察上面代码的输出结果, 比较`a = new Wolf()`和`a = new Dog()`时，相同的方法，输出了不同的结果，这是为什么？"
   ]
  },
  {
   "cell_type": "markdown",
   "metadata": {},
   "source": [
    "在上面的代码中变量`a`是多态的，它可以引用Wolf，也可以引用Dog，   \n",
    "`makeNoise`和`eat`方法也是多态的，不同的对象输出不同的结果。\n",
    "\n",
    "思考下，这样做有什么好处？"
   ]
  },
  {
   "cell_type": "markdown",
   "metadata": {},
   "source": [
    "### 多态的优点\n",
    "\n",
    "    1. 消除类型之间的耦合关系\n",
    "    2. 可替换性\n",
    "    3. 可扩充性\n",
    "    4. 接口性\n",
    "    5. 灵活性\n",
    "    6. 简化性\n",
    "\n",
    "### 多态存在的三个必要条件\n",
    "\n",
    "    继承\n",
    "    改写写\n",
    "    父类的变量引用子类对象"
   ]
  },
  {
   "cell_type": "markdown",
   "metadata": {},
   "source": [
    "## 作业2 \n",
    "\n",
    "在动物的继承关系中，子类都改写（覆盖）父类`Animal`中的`eat`和`makeNoise`方法，既然在子类中要改写这些方法，为什么在父类`Animal`中还要定义这些方法？是否可以从父类`Animal`中删除这些方法的定义？"
   ]
  },
  {
   "cell_type": "markdown",
   "metadata": {},
   "source": [
    "### 多态案例\n",
    "\n",
    "考虑兽医类`Vet`, 用`giveShot`方法，如果没有多态，代码要如下\n",
    "```\n",
    "public class Vet {\n",
    "\tpublic void giveShot(Wolf w) {\n",
    "\t\t// do something\n",
    "\t}\n",
    "\tpublic void giveShot(Dog d) {\n",
    "\t\t// do something\n",
    "\t}\n",
    "}\n",
    "```\n",
    "如果还要增加动物呢？   \n",
    "那就还需要编写新的方法，如果有多态，我们就可以这样"
   ]
  },
  {
   "cell_type": "code",
   "execution_count": 6,
   "metadata": {},
   "outputs": [],
   "source": [
    "public class Vet {\n",
    "\tpublic void giveShot(Animal a) {\n",
    "\t\t// do horrible things to the Animal at\n",
    "\t\t// the other end of the ‘a’ parameter\n",
    "\t\ta.makeNoise();\n",
    "\t}\n",
    "}"
   ]
  },
  {
   "cell_type": "code",
   "execution_count": 7,
   "metadata": {},
   "outputs": [],
   "source": [
    "class PetOwner {\n",
    "\tpublic void start() {\n",
    "\t\tVet v = new Vet();\n",
    "\t\tDog d = new Dog();\n",
    "\t\tWolf w = new Wolf();\n",
    "\t\tv.giveShot(d);\n",
    "\t\tv.giveShot(w);\n",
    "\t}\n",
    "}"
   ]
  },
  {
   "cell_type": "code",
   "execution_count": 8,
   "metadata": {},
   "outputs": [
    {
     "name": "stdout",
     "output_type": "stream",
     "text": [
      "dog make noise\n",
      "wolf make noise\n"
     ]
    }
   ],
   "source": [
    "public class PetOwnerTest {\n",
    "\tpublic static void main(String[] args) {\n",
    "\t\tPetOwner petOwner = new PetOwner();\n",
    "\t\tpetOwner.start();\n",
    "\t}\n",
    "}\n",
    "\n",
    "PetOwnerTest.main(null);"
   ]
  },
  {
   "cell_type": "markdown",
   "metadata": {},
   "source": [
    "上面的代码中，方法头声明为`public void giveShot(Animal a)`,接收Animal类型的参数，   \n",
    "在使用时我们就可以向这个方法传递`Wolf`,`Dog`类型的变量，而不用为每个动物类型都写一个`giveShot`方法。    \n",
    "**并且**，如果**增加了其它的动物类型**，`Vet`类也**不需要做修改**，这就是多态的好处。"
   ]
  }
 ],
 "metadata": {
  "kernelspec": {
   "display_name": "Java",
   "language": "java",
   "name": "java"
  },
  "language_info": {
   "codemirror_mode": "java",
   "file_extension": ".jshell",
   "mimetype": "text/x-java-source",
   "name": "Java",
   "pygments_lexer": "java",
   "version": "11.0.6+8-LTS"
  }
 },
 "nbformat": 4,
 "nbformat_minor": 4
}
