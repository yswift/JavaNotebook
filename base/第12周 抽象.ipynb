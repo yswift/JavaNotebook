{
 "cells": [
  {
   "cell_type": "markdown",
   "metadata": {},
   "source": [
    "# 抽象\n",
    "\n",
    "java中的抽象有两种：\n",
    "- 抽象类\n",
    "- 抽象方法\n",
    "\n",
    "## 抽象类\n",
    "\n",
    "在面向对象的概念中，所有的对象都是通过类来描绘的，但是反过来，并不是所有的类都是用来描绘对象的，如果一个类中没有包含足够的信息来描绘一个具体的对象，这样的类就是抽象类。 \n",
    "\n",
    "考虑前面例子中的`Animal`类，有`Animal`对象吗？，下面中的哪一个是`Animal`对象？\n",
    "![AnimalObject](img/AnimalOjbect.png)\n",
    "\n",
    "这里就可以把Animal声明为抽象类，抽象类没有对应的对象，不能被实例化（即：用来创建对象）    \n",
    "\n",
    "定义抽象类非常简单，在`class`关键字前加上`abstract`关键字即可"
   ]
  },
  {
   "cell_type": "code",
   "execution_count": 1,
   "metadata": {},
   "outputs": [],
   "source": [
    "// 例1：抽象的Animal类\n",
    "public abstract class Animal {\n",
    "\n",
    "}"
   ]
  },
  {
   "cell_type": "code",
   "execution_count": 2,
   "metadata": {},
   "outputs": [
    {
     "ename": "CompilationException",
     "evalue": "",
     "output_type": "error",
     "traceback": [
      "\u001b[1m\u001b[30m|   \u001b[1m\u001b[30m\t\tAnimal a = \u001b[0m\u001b[1m\u001b[30m\u001b[41mnew Animal()\u001b[0m\u001b[1m\u001b[30m; // 编译错误: 抽象类不能被实例化\u001b[0m",
      "\u001b[1m\u001b[31mAnimal是抽象的; 无法实例化\u001b[0m",
      ""
     ]
    }
   ],
   "source": [
    "// 抽象类不能被实例化（即：用来创建对象），如果创建对象，你会得到一个编译错误   \n",
    "public class AnimalTest1 {\n",
    "\tpublic static void main(String[] args) {\n",
    "        // 下面这行代码错误，注释或删除后可以执行\n",
    "\t\tAnimal a = new Animal(); // 编译错误: 抽象类不能被实例化\n",
    "\t}\n",
    "}\n"
   ]
  },
  {
   "cell_type": "markdown",
   "metadata": {},
   "source": [
    "## 抽象方法\n",
    "\n",
    "某些方法是没有通用实现，并且一定会被覆盖（改写）的，我们就可以把这些方法声明为抽象的，即只有方法头部，没有方法体。\n",
    "\n",
    "例如：`Animal`类中的`eat,roam,makeNoise`就一定会被子类的方法覆盖，这时可以把这些方法声明为抽象的。\n"
   ]
  },
  {
   "cell_type": "code",
   "execution_count": null,
   "metadata": {},
   "outputs": [],
   "source": [
    "// 例2：抽象的Animal类, 以及抽象方法\n",
    "public abstract class Animal {\n",
    "\tString picture;// 代表该动物性食物JPEG的文件名\n",
    "\tString food; // 该动物食用的食物类型。 目前，只能有两个值：肉或草。\n",
    "\tint hunger; // 表示动物饥饿程度的整数。 它的变化取决于动物的进食时间（和进食量）。\n",
    "\tString boundaires; // 代表动物活动范围的高度和宽度的值（例如640 x 480）。\n",
    "\tString location; // X和Y坐标 关于动物在区域中的位置。\n",
    "\t\n",
    "\tpublic abstract void makeNoise();\n",
    "\t\n",
    "\tpublic abstract void eat();\n",
    "\t\n",
    "\tpublic void sleep() {\n",
    "\t\tSystem.out.println(\"animal sleep\");\n",
    "\t}\n",
    "\t\n",
    "\tpublic abstract void roam();\n",
    "}"
   ]
  },
  {
   "cell_type": "markdown",
   "metadata": {},
   "source": [
    "上面代码中，`makeNoise`方法有`abstract`修饰，没有方法体，以分号结束，这样的方法就是抽象方法。"
   ]
  },
  {
   "cell_type": "markdown",
   "metadata": {},
   "source": [
    "## 继承抽象类\n",
    "\n",
    "继承抽象类和继承普通的类是一样的，但如果抽象类中有抽象方法，你必须：\n",
    "1. 实现所有的抽象方法\n",
    "2. 自己也是抽象的"
   ]
  },
  {
   "cell_type": "code",
   "execution_count": 3,
   "metadata": {},
   "outputs": [],
   "source": [
    "// Canine类，实现了roam方法，但没有实现 eat，makeNoise，所以Canine也是抽象的\n",
    "// 试试去掉abstract, 是否能通过编译，错误信息是什么？\n",
    "public abstract class Canine extends Animal {\n",
    "\tpublic void roam() {\n",
    "\t\tSystem.out.println(\"canine roam\");\n",
    "\t}\n",
    "}"
   ]
  },
  {
   "cell_type": "code",
   "execution_count": 4,
   "metadata": {},
   "outputs": [],
   "source": [
    "// Wolf类，实现了所有抽象方法\n",
    "public class Wolf extends Canine {\n",
    "\tpublic void makeNoise() {\n",
    "\t\tSystem.out.println(\"wolf make noise\");\n",
    "\t}\n",
    "\t\n",
    "\tpublic void eat() {\n",
    "\t\tSystem.out.println(\"wolf eat\");\n",
    "\t}\n",
    "}"
   ]
  },
  {
   "cell_type": "markdown",
   "metadata": {},
   "source": [
    "## 作业1\n",
    "\n",
    "1、把第10周作业中的`Animal`，`Canine`,`Feline`类声明为抽象的。\n",
    "\n",
    "## 作业2\n",
    "回答下面的问题：\n",
    "1. 抽象类可以有抽象方法吗？\n",
    "2. 抽象类可以有非抽象方法吗？\n",
    "3. 非抽象类可以有抽象方法吗？\n",
    "4. 抽象类可以被实例化吗？\n",
    "5. 抽象方法可以有方法体吗？\n",
    "6. 抽象类可以被实例化吗？\n",
    "7. 既然抽象方法只有方法头，没有方法体，为什么还要定义他们呢？是否可以删除抽象方法？\n"
   ]
  },
  {
   "cell_type": "code",
   "execution_count": null,
   "metadata": {},
   "outputs": [],
   "source": []
  }
 ],
 "metadata": {
  "kernelspec": {
   "display_name": "Java",
   "language": "java",
   "name": "java"
  },
  "language_info": {
   "codemirror_mode": "java",
   "file_extension": ".jshell",
   "mimetype": "text/x-java-source",
   "name": "Java",
   "pygments_lexer": "java",
   "version": "11.0.6+8-LTS"
  }
 },
 "nbformat": 4,
 "nbformat_minor": 4
}
