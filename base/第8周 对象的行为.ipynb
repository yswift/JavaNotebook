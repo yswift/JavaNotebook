{
 "cells": [
  {
   "cell_type": "markdown",
   "metadata": {},
   "source": [
    "# 对象的行为（方法）\n",
    "\n",
    "**状态影响行为 ，行为影响状态**. 我们已经知道对象有状态和行为两种属性纱 则由实例变量与方法来表示。但我们还没有看到两者之间的关联. 我们已经知道类的每个实例(也就是用类创建的每个对象) 可以维持自己的实例变量。回顾PersonTest, p1对象的name是“张三”, p2对象的name是“李四” \n",
    "\n",
    "### 一个类描述一个对象知道什么以及执行什么\n",
    "类是对象的蓝图。 编写类时，您在描述JVM应该如何制作该类型的对象。 您已经知道该类型的每个对象都可以具有不同的实例变量值。 但是方法呢？\n",
    "\n",
    "#### 该类型的每个对象都可以具有不同的方法行为吗？\n",
    "是，差不多...    \n",
    "特定类的每个实例都具有相同的方法，但是根据实例变量的值，这些方法的行为可能有所不同。    \n",
    "回顾`Person`的`tell`方法, 调用`p1.tell()`得到的结果是  \n",
    "`姓名：张三，年龄：20`   \n",
    "调用`p2.tell()`得到的结果是  \n",
    "`姓名：李四，年龄：22`  \n",
    "\n",
    "例1：狗的大小影响叫声  \n",
    "小型犬吠与大型犬吠不同。 `Dog`类具有实例变量大小，`bark()`方法使用该变量来确定发出哪种类型的吠声。\n",
    "![dog](img/dog.png)\n"
   ]
  },
  {
   "cell_type": "code",
   "execution_count": 3,
   "metadata": {},
   "outputs": [],
   "source": [
    "public class Dog {\n",
    "\t// 定义实例变量，代表对象的属性\n",
    "\tint size;\n",
    "\tString name;\n",
    "\n",
    "\t// 定义方法，代表对象的行为\n",
    "\tpublic void bark() {\n",
    "\t\t// 对象的方法都相同，但受到实例变量的影响\n",
    "\t\t// 即受size的影响，叫声不同\n",
    "\t\tif (size > 60) {\n",
    "\t\t\tSystem.out.println(\"Wooof! Wooof!\");\n",
    "\t\t} else if (size > 14) {\n",
    "\t\t\tSystem.out.println(\"Ruff!  Ruff!\");\n",
    "\t\t} else {\n",
    "\t\t\tSystem.out.println(\"Yip! Yip!\");\n",
    "\t\t}\n",
    "\t}\n",
    "}"
   ]
  },
  {
   "cell_type": "code",
   "execution_count": 4,
   "metadata": {},
   "outputs": [
    {
     "name": "stdout",
     "output_type": "stream",
     "text": [
      "Wooof! Wooof!\n",
      "Yip! Yip!\n",
      "Ruff!  Ruff!\n"
     ]
    }
   ],
   "source": [
    "public class DogTest {\n",
    "\tpublic static void main(String[] args) {\n",
    "\t\tDog one = new Dog();\n",
    "\t\tone.size = 70;\n",
    "\t\t\n",
    "\t\tDog two = new Dog();\n",
    "\t\ttwo.size = 8;\n",
    "\t\t\n",
    "\t\tDog three = new Dog();\n",
    "\t\tthree.size = 35;\n",
    "\t\t\n",
    "\t\tone.bark();\n",
    "\t\ttwo.bark();\n",
    "\t\tthree.bark();\n",
    "\t}\n",
    "}\n",
    "DogTest.main(null);"
   ]
  },
  {
   "cell_type": "markdown",
   "metadata": {},
   "source": [
    "#### 注意：我们现在都把`main`方法写在`Test`类中，我们区分了`Dog`类和Dog的测试类`DogTest`\n",
    "从上面的例子可以看出，不同大小的狗叫声是不一样的。"
   ]
  },
  {
   "cell_type": "markdown",
   "metadata": {},
   "source": [
    "## 要点\n",
    "- 类定义对象知道什么以及对象做什么。 \n",
    "- 对象知道的是其实例变量（状态）。 \n",
    "- 对象所做的事情就是其方法（行为）。 \n",
    "- 方法可以使用实例变量，以便同一类型的对象可以表现不同。 \n",
    "- 方法可以具有参数，这意味着您可以将一个或多个值传递给该方法。 \n",
    "- 您传递的值的数量和类型必须与方法声明的参数的顺序和类型相匹配。 \n",
    "- 传入和传出方法的值可以隐式的放大或缩小\n",
    "- 作为方法的参数传递的值可以是文字或数字（2，“ c”等）或声明的参数类型的变量（例如x，其中x是int变量）。 （您可以将其他东西作为参数传递，但现在我们还没有用到）\n",
    "- 方法必须声明一个返回类型。void返回类型表示该方法不返回任何内容。 \n",
    "- 如果方法声明了非void返回类型，则它必须返回与声明的返回类型兼容的值。"
   ]
  },
  {
   "cell_type": "markdown",
   "metadata": {},
   "source": [
    "# 封装\n",
    "\n",
    "在此之前，我们一直在犯下最糟糕的错误，将我们的数据留给任何人看甚至修改。您可能已经体验到了暴露实例变量带来的那种令人不安的感觉。点运算符可修改实例变量，例如：\n",
    "```Java\n",
    "p1.age = 30;\n",
    "```\n",
    "考虑一下使用点运算符直接更改`Person`对象的`age`实例变量的危险。在坏人手中，直接修改实例变量是非常危险的。因为要防止的是：\n",
    "```Java\n",
    "p1.age = 300; // 非法的年龄\n",
    "```\n",
    "这将是一件坏事。我们需要为所有实例变量构建setter方法，并找到一种方法来强制其他代码调用setter，而不是直接访问数据。\n",
    "\n",
    "### 隐藏数据（封装）\n",
    "\n",
    "我们要保护数据，还能让你修改值的方法很简单：\n",
    "1. 将实例变量标记为私有\n",
    "2. 并为实例变量提供公共的getter和setter   \n",
    "\n",
    "当您对Java的设计和编码有了更多的了解时，您可能会做一些不同的事情，但是就目前而言，这种方法将使您安全。\n",
    "\n",
    "例题2：封装Dog\n"
   ]
  },
  {
   "cell_type": "code",
   "execution_count": 5,
   "metadata": {},
   "outputs": [],
   "source": [
    "public class GoodDog {\n",
    "\tprivate int size;\n",
    "\n",
    "\tpublic int getSize() {\n",
    "\t\treturn size;\n",
    "\t}\n",
    "\n",
    "\tpublic void setSize(int s) {\n",
    "\t\t// 判断参数是否合法\n",
    "\t\tif (s > 1 && s < 100) {\n",
    "\t\t\t// 合法，给实例变量赋值\n",
    "\t\t\tsize = s;\n",
    "\t\t} else {\n",
    "\t\t\t// 不合法，抛出异常（异常在后面介绍）\n",
    "\t\t\tthrow new IllegalArgumentException(\"错误的size参数:\" + s);\n",
    "\t\t}\n",
    "\t}\n",
    "\n",
    "\t// 定义方法，代表对象的行为\n",
    "\tpublic void bark() {\n",
    "\t\t// 对象的方法都相同，但受到实例变量的影响\n",
    "\t\t// 即受size的影响，叫声不同\n",
    "\t\tif (size > 60) {\n",
    "\t\t\tSystem.out.println(\"Wooof! Wooof!\");\n",
    "\t\t} else if (size > 14) {\n",
    "\t\t\tSystem.out.println(\"Ruff!  Ruff!\");\n",
    "\t\t} else {\n",
    "\t\t\tSystem.out.println(\"Yip! Yip!\");\n",
    "\t\t}\n",
    "\t}\n",
    "}"
   ]
  },
  {
   "cell_type": "code",
   "execution_count": 6,
   "metadata": {},
   "outputs": [
    {
     "name": "stdout",
     "output_type": "stream",
     "text": [
      "Wooof! Wooof!\n",
      "Yip! Yip!\n",
      "Ruff!  Ruff!\n"
     ]
    }
   ],
   "source": [
    "public class GoodDogTest {\n",
    "\tpublic static void main(String[] args) {\n",
    "\t\tGoodDog one = new GoodDog();\n",
    "\t\tone.setSize(70);\n",
    "\t\t\n",
    "\t\tGoodDog two = new GoodDog();\n",
    "\t\ttwo.setSize(8);\n",
    "\t\t\n",
    "\t\tGoodDog three = new GoodDog();\n",
    "\t\tthree.setSize(35);\n",
    "\t\t\n",
    "\t\tone.bark();\n",
    "\t\ttwo.bark();\n",
    "\t\tthree.bark();\n",
    "\t}\n",
    "}\n",
    "GoodDogTest.main(null);"
   ]
  },
  {
   "cell_type": "markdown",
   "metadata": {},
   "source": [
    "对比`Dog`和`GoodDog`    \n",
    "- `GoodDog` 的实例变量被声明为`private`的\n",
    "- `GoodDog` 添加了获取实例变量`size`的方法`getSize()`\n",
    "- `GoodDog` 添加了设置实例变量`size`的方法`setSize(int s)`, 并在方法中检查了参数值，参数合法才赋值，不合法就抛异常\n",
    "\n",
    "对比`DogTest`和`GoodDogTest`    \n",
    "- `DogTest` 直接给对象的实例变量赋值`one.size = 70;`\n",
    "- `GoodDogTest` 使用`setSize(int s)`方法给实例变量赋值`one.setSize(70);`\n"
   ]
  },
  {
   "cell_type": "markdown",
   "metadata": {},
   "source": [
    "#### 作业1\n",
    "修改`GoodDogTest`中调用`setSize(int s)`方法的实际参数，设置一个不合法的值，如:`one.setSize(700);` 观察程序的执行结果有什么不同。"
   ]
  },
  {
   "cell_type": "markdown",
   "metadata": {},
   "source": [
    "例题3：封装上周定义的类`Person`\n",
    "还记得封装的步骤吗？\n",
    "1. 把实例变量加上访问权限的声明`private`\n",
    "2. 为实例变量提供`getter`和`setter`\n"
   ]
  },
  {
   "cell_type": "code",
   "execution_count": 7,
   "metadata": {},
   "outputs": [],
   "source": [
    "public class Person {\n",
    "\t// 封装，实例变量声明为私有的(加上private)\n",
    "\tprivate String name;\n",
    "\tprivate int age;\n",
    "\tprivate double height;\n",
    "\t\n",
    "\t// 为实例变量提供getter和setter，\n",
    "\t// 现阶段，我们不检查参数的合法性\n",
    "\tpublic String getName() {\n",
    "\t\treturn name;\n",
    "\t}\n",
    "\n",
    "\tpublic void setName(String name) {\n",
    "\t\tthis.name = name;\n",
    "\t}\n",
    "\n",
    "\tpublic int getAge() {\n",
    "\t\treturn age;\n",
    "\t}\n",
    "\n",
    "\tpublic void setAge(int age) {\n",
    "\t\tthis.age = age;\n",
    "\t}\n",
    "\n",
    "\tpublic double getHeight() {\n",
    "\t\treturn height;\n",
    "\t}\n",
    "\n",
    "\tpublic void setHeight(double height) {\n",
    "\t\tthis.height = height;\n",
    "\t}\n",
    "\n",
    "\t// 没有static\n",
    "\tpublic void tell() {\n",
    "\t\tSystem.out.println(\"姓名：\" + name + \"，年龄：\" + age);\n",
    "\t}\n",
    "}"
   ]
  },
  {
   "cell_type": "markdown",
   "metadata": {},
   "source": [
    "### 注意getter和setter的写法\n",
    "1. `getter`的命名规则：getXxx, get小写，后面的单词首字母大写，如：`getName()`\n",
    "2. `setter`的命名规则：setXxx, set小写，后面的单词首字母大写，如：`setName(String name)`\n",
    "3. `getter`有返回值，没有参数，因为`getter`是用来获得实例变量值的，并且`getter`的返回类型和它对应的实例类型一致，如:`public String getName()`\n",
    "4. `setter`没有返回值，有参数，因为`setter`是用来给实例变量赋值的，并且`setter`的参数类型和它对应的实例类型一致，如:`public void setName(String name)`    \n",
    "\n",
    "再次观察另一个实例变量`age`的封装方法，我增加了必要的注释，下面的代码中省略了其它实例变量和方法\n",
    "```Java\n",
    "public class Person {\n",
    "\t// 封装，实例变量声明为私有的(加上private)\n",
    "\tprivate int age;\n",
    "\t\n",
    "    // 1. 命名规则: 实例变量age, 方法命名为：getAge\n",
    "    // 2. 有返回值：返回类型为int, 因为实例变量age的类型为int\n",
    "    // 3. 无参数\n",
    "\tpublic int getAge() {\n",
    "\t\treturn age;\n",
    "\t}\n",
    "\n",
    "    // 1. 命名规则: 实例变量age, 方法命名为：setAge\n",
    "    // 2. 无返回值\n",
    "    // 3. 有参数：参数类型为int, 因为实例变量age的类型为int\n",
    "\tpublic void setAge(int age) {\n",
    "\t\tthis.age = age;\n",
    "\t}\n",
    "\n",
    "```"
   ]
  },
  {
   "cell_type": "code",
   "execution_count": 8,
   "metadata": {},
   "outputs": [
    {
     "name": "stdout",
     "output_type": "stream",
     "text": [
      "姓名：张三，年龄：20\n",
      "姓名：李四，年龄：22\n"
     ]
    }
   ],
   "source": [
    "public class PersonTest {\n",
    "\tpublic static void main(String[] args) {\n",
    "\t\t// 创建对象，赋值给变量p1\n",
    "\t\tPerson p1 = new Person();\n",
    "\t\t// 向p1中的实例变量赋值\n",
    "\t\t// 用setter给变量赋值，即用p1.setName(\"张三\"),代替p1.name = \"张三\";\n",
    "\t\tp1.setName(\"张三\");\n",
    "\t\tp1.setAge(20);\n",
    "\t\t// 调用p1的方法\n",
    "\t\tp1.tell();\n",
    "\n",
    "\t\t// 创建对象，赋值给变量p2\n",
    "\t\tPerson p2 = new Person();\n",
    "\t\t// 向p2中的实例变量赋值\n",
    "\t\tp2.setName(\"李四\");\n",
    "\t\tp2.setAge(22);\n",
    "\t\t// 调用p2的方法\n",
    "\t\tp2.tell();\n",
    "\t}\n",
    "}\n",
    "PersonTest.main(null);"
   ]
  },
  {
   "cell_type": "markdown",
   "metadata": {},
   "source": [
    "### 注意：封装后，要用setter给实例变量赋值，如\n",
    "```Java\n",
    "p1.setName(\"张三\");\n",
    "```\n",
    "代替\n",
    "```Java\n",
    "p1.name = \"张三\";\n",
    "```"
   ]
  },
  {
   "cell_type": "markdown",
   "metadata": {},
   "source": [
    "#### 作业2\n",
    "1. 修改第7周作业1的`Student`类，封装`Student`类，即：1）实例变量声明为私有的；2）提供实例变量的getter和setter。\n",
    "2. 修改第7周作业1的`StudentTest`类，用`setter`替换赋值语句给实例变量赋值   \n",
    "\n",
    "**注意:** \n",
    "1. getter/setter的命名规则\n",
    "2. 是否有返回值，及返回值类型\n",
    "3. 是否有参数，及参数类型"
   ]
  }
 ],
 "metadata": {
  "kernelspec": {
   "display_name": "Java",
   "language": "java",
   "name": "java"
  },
  "language_info": {
   "codemirror_mode": "java",
   "file_extension": ".jshell",
   "mimetype": "text/x-java-source",
   "name": "Java",
   "pygments_lexer": "java",
   "version": "11.0.6+8-LTS"
  }
 },
 "nbformat": 4,
 "nbformat_minor": 4
}
