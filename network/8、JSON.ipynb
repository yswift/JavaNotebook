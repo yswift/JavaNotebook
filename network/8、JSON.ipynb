{
 "cells": [
  {
   "cell_type": "markdown",
   "metadata": {},
   "source": [
    "# 1. JSON\n",
    "\n",
    "## 1.1 什么是 JSON ？\n",
    "\n",
    "JSON(JavaScript Object Notation) 是一种轻量级的数据交换格式。 易于人阅读和编写。同时也易于机器解析和生成。 它基于JavaScript Programming Language, Standard ECMA-262 3rd Edition - December 1999的一个子集。 JSON采用完全独立于语言的文本格式，但是也使用了类似于C语言家族的习惯（包括C, C++, C#, Java, JavaScript, Perl, Python等）。 这些特性使JSON成为理想的数据交换语言。\n",
    "\n",
    "## 1.2 特点\n",
    "\n",
    "- JSON 是轻量级的文本数据交换格式\n",
    "- JSON 独立于语言：JSON 使用 Javascript语法来描述数据对象，但是 JSON 仍然独立于语言和平台。JSON 解析器和 JSON 库支持许多不同的编程语言。 目前非常多的动态（PHP，JSP，.NET）编程语言都支持JSON。\n",
    "- JSON 具有自我描述性，更易理解\n",
    "\n",
    "## 1.3 JSON优点：\n",
    "\n",
    "1. 数据格式比较简单，易于读写，格式都是压缩的，占用带宽小；\n",
    "2. 易于解析，客户端JavaScript可以简单的通过eval()进行JSON数据的读取；　　\n",
    "3. 支持多种语言，包括ActionScript, C, C#, ColdFusion, Java, JavaScript, Perl, PHP, Python, Ruby等服务器端语言，便于服务器端的解析；　　\n",
    "4. 因为JSON格式能直接为服务器端代码使用，大大简化了服务器端和客户端的代码开发量，且完成任务不变，并且易于维护。\n",
    "\n",
    "## 1.4 JSON 语法规则\n",
    "\n",
    "- 数据在名称/值对中\n",
    "- 数据由逗号分隔\n",
    "- 大括号保存对象\n",
    "- 中括号保存数组\n",
    "\n",
    "### 1) JSON 名称/值对\n",
    "\n",
    "JSON 数据的书写格式是：名称/值对。\n",
    "名称/值对包括字段名称（在双引号中），后面写一个冒号，然后是值\n",
    "```Json\n",
    "\"name\" : \"张三\",\n",
    "\"age\": 20\n",
    "```\n",
    "\n",
    "### 2) JSON 值\n",
    "\n",
    "JSON 值可以是：\n",
    "- 数字（整数或浮点数）\n",
    "- 字符串（在双引号中）\n",
    "- 逻辑值（true 或 false）\n",
    "- 数组（在中括号中）\n",
    "- 对象（在大括号中）\n",
    "- null\n",
    "\n",
    "### 3) JSON 数字\n",
    "JSON 数字可以是整型或者浮点型：\n",
    "```JSON\n",
    "{ \"age\":30 }\n",
    "```\n",
    "\n",
    "### 4) JSON 对象\n",
    "\n",
    "JSON 对象在大括号（{}）中书写：\n",
    "\n",
    "对象可以包含多个名称/值对：\n",
    "```JSON\n",
    "{ \n",
    "    \"name\": \"张三\" , \n",
    "    \"age\": 22 \n",
    "}\n",
    "```\n",
    "\n",
    "### 5) JSON 数组\n",
    "\n",
    "JSON 数组在中括号中书写：\n",
    "\n",
    "数组可包含多个对象：\n",
    "```JSON\n",
    "{\n",
    "    \"book\": [\n",
    "        {\n",
    "            \"id\":\"01\",\n",
    "            \"language\": \"Java\",\n",
    "            \"edition\": \"third\",\n",
    "            \"author\": \"Herbert Schildt\"\n",
    "        },\n",
    "        {\n",
    "            \"id\":\"07\",\n",
    "            \"language\": \"C++\",\n",
    "            \"edition\": \"second\"\n",
    "            \"author\": \"E.Balagurusamy\"\n",
    "    }]\n",
    "}\n",
    "```\n",
    "\n",
    "### 6) JSON 布尔值\n",
    "\n",
    "JSON 布尔值可以是 true 或者 false：\n",
    "```JSON\n",
    "{ \"flag\":true }\n",
    "```\n",
    "\n",
    "### 7) JSON null\n",
    "\n",
    "JSON 可以设置 null 值：\n",
    "```JSON\n",
    "{ \"runoob\":null }\n",
    "```\n",
    "\n",
    "## 1.5 JSON 文件\n",
    "\n",
    "- JSON 文件的文件类型是 \".json\"\n",
    "- JSON 文本的 MIME 类型是 \"application/json\"\n"
   ]
  },
  {
   "cell_type": "markdown",
   "metadata": {},
   "source": [
    "# 2. JSON in Java\n",
    "\n",
    "使用Java操作JSON对象比较容易，常见的工具有下面两个\n",
    "- Jackson (https://github.com/FasterXML/jackson)\n",
    "- Gson （https://github.com/google/gson）\n",
    "\n",
    "注意：不推荐使用 Fastjson，很多人在坑里。\n"
   ]
  },
  {
   "cell_type": "markdown",
   "metadata": {},
   "source": [
    "# 3 Gson\n",
    "\n",
    "Gson is a Java library that can be used to convert Java Objects into their JSON representation. It can also be used to convert a JSON string to an equivalent Java object.\n",
    "\n",
    "Gson can work with arbitrary Java objects including pre-existing objects that you do not have source code of.\n",
    "\n",
    "## 3.1 引入Jar 包\n",
    "\n",
    "下载Jar包或引入\n",
    "### Using Gson with Gradle/Android\n",
    "```Groovy\n",
    "dependencies {\n",
    "    implementation 'com.google.code.gson:gson:2.8.6'\n",
    "}\n",
    "```\n",
    "### Using Gson with Maven\n",
    "```XML\n",
    "<dependencies>\n",
    "    <!--  Gson: Java to Json conversion -->\n",
    "    <dependency>\n",
    "      <groupId>com.google.code.gson</groupId>\n",
    "      <artifactId>gson</artifactId>\n",
    "      <version>2.8.6</version>\n",
    "      <scope>compile</scope>\n",
    "    </dependency>\n",
    "</dependencies>\n",
    "```\n",
    "\n"
   ]
  },
  {
   "cell_type": "code",
   "execution_count": 1,
   "metadata": {},
   "outputs": [],
   "source": [
    "// jupyter 准备工作：引入gson包\n",
    "// 必须先执行这个代码块，才能执行其它的Java代码\n",
    "\n",
    "%maven com.google.code.gson:gson:2.8.6\n",
    "    \n",
    "import com.google.gson.Gson;\n",
    "import com.google.gson.GsonBuilder;\n",
    "import com.google.gson.reflect.TypeToken;\n",
    "\n",
    "import java.lang.reflect.Type;"
   ]
  },
  {
   "cell_type": "markdown",
   "metadata": {},
   "source": [
    "## 3.2 类准备\n",
    "\n",
    "使用前面定义过的Person和Pair类，代码如下："
   ]
  },
  {
   "cell_type": "code",
   "execution_count": 2,
   "metadata": {},
   "outputs": [],
   "source": [
    "// Person 类，为了方便，不把实例变量声明为private的\n",
    "public class Person {\n",
    "    // 姓名\n",
    "    String name;\n",
    "    // 性别\n",
    "    String gender;\n",
    "    // 所属部门\n",
    "    String department;\n",
    "    // 年龄\n",
    "    int age;\n",
    "    // 身高\n",
    "    double height;\n",
    "    // 体重\n",
    "    double weight;\n",
    "\n",
    "    public Person(String name, String gender, String department, int age, double height, double weight) {\n",
    "        this.name = name;\n",
    "        this.gender = gender;\n",
    "        this.department = department;\n",
    "        this.age = age;\n",
    "        this.height = height;\n",
    "        this.weight = weight;\n",
    "    }\n",
    "    \n",
    "    @Override\n",
    "    public String toString() {\n",
    "        return \"\\nPerson{\" +\n",
    "                \"name='\" + name + '\\'' +\n",
    "                \", gender='\" + gender + '\\'' +\n",
    "                \", department='\" + department + '\\'' +\n",
    "                \", age=\" + age +\n",
    "                \", height=\" + height +\n",
    "                \", weight=\" + weight +\n",
    "                '}';\n",
    "    }\n",
    "}\n",
    "// 泛型类Pair<T>，为了方便，不把实例变量声明为private的\n",
    "public class Pair<T> {\n",
    "    T first;\n",
    "    T second;\n",
    "\n",
    "    public Pair() {\n",
    "    }\n",
    "\n",
    "    public Pair(T first, T second) {\n",
    "        this.first = first;\n",
    "        this.second = second;\n",
    "    }\n",
    "    \n",
    "    @Override\n",
    "    public String toString() {\n",
    "        return \"\\nPair{\" +\n",
    "                \"first=\" + first +\n",
    "                \", second=\" + second +\n",
    "                '}';\n",
    "    }\n",
    "}"
   ]
  },
  {
   "cell_type": "markdown",
   "metadata": {},
   "source": [
    "## 3.2 对象转Json字符串\n",
    "\n",
    "Gson 把对象转Json字符串非常简单，直接使用toJson方法即可，参考源码：`gson.GsonDemo`"
   ]
  },
  {
   "cell_type": "code",
   "execution_count": 3,
   "metadata": {},
   "outputs": [
    {
     "name": "stdout",
     "output_type": "stream",
     "text": [
      "{\n",
      "  \"name\": \"赵一\",\n",
      "  \"gender\": \"男\",\n",
      "  \"department\": \"计科\",\n",
      "  \"age\": 30,\n",
      "  \"height\": 1.7,\n",
      "  \"weight\": 55.0\n",
      "}\n"
     ]
    }
   ],
   "source": [
    "// 对象转Json字符串\n",
    "Person p = new Person(\"赵一\", \"男\", \"计科\", 30, 1.7, 55);\n",
    "// 创建Gson对象\n",
    "// 为了格式化输出字符串，使用如下方法创建 Gson 对象。\n",
    "// 一般情况，直接用构造函数即可，如：Gson gson = new Gson()\n",
    "Gson gson = new GsonBuilder().setPrettyPrinting().create();\n",
    "// 转换\n",
    "String json = gson.toJson(p);\n",
    "System.out.println(json);"
   ]
  },
  {
   "cell_type": "markdown",
   "metadata": {},
   "source": [
    "## 3.3 数组转Json字符串\n",
    "\n",
    "类似对象转Json字符串，但输出格式是Json数组格式。"
   ]
  },
  {
   "cell_type": "code",
   "execution_count": 4,
   "metadata": {},
   "outputs": [
    {
     "name": "stdout",
     "output_type": "stream",
     "text": [
      "[\n",
      "  {\n",
      "    \"name\": \"赵一\",\n",
      "    \"gender\": \"男\",\n",
      "    \"department\": \"计科\",\n",
      "    \"age\": 30,\n",
      "    \"height\": 1.7,\n",
      "    \"weight\": 55.0\n",
      "  },\n",
      "  {\n",
      "    \"name\": \"钱二\",\n",
      "    \"gender\": \"女\",\n",
      "    \"department\": \"计科\",\n",
      "    \"age\": 33,\n",
      "    \"height\": 1.77,\n",
      "    \"weight\": 65.0\n",
      "  },\n",
      "  {\n",
      "    \"name\": \"孙三\",\n",
      "    \"gender\": \"女\",\n",
      "    \"department\": \"计科\",\n",
      "    \"age\": 34,\n",
      "    \"height\": 1.73,\n",
      "    \"weight\": 75.0\n",
      "  }\n",
      "]\n"
     ]
    }
   ],
   "source": [
    "// 数组转Json字符串\n",
    "Person[] ps = {\n",
    "        new Person(\"赵一\", \"男\", \"计科\", 30, 1.7, 55),\n",
    "        new Person(\"钱二\", \"女\", \"计科\", 33, 1.77, 65),\n",
    "        new Person(\"孙三\", \"女\", \"计科\", 34, 1.73, 75)\n",
    "};\n",
    "// 创建Gson对象\n",
    "// 为了格式化输出字符串，使用如下方法创建 Gson 对象。\n",
    "// 一般情况，直接用构造函数即可，如：Gson gson = new Gson()\n",
    "Gson gson = new GsonBuilder().setPrettyPrinting().create();\n",
    "String json = gson.toJson(ps);\n",
    "System.out.println(json);"
   ]
  },
  {
   "cell_type": "markdown",
   "metadata": {},
   "source": [
    "## 3.4 List转Json字符串\n",
    "\n",
    "类似数组转Json字符串，转换成Json数组格式。"
   ]
  },
  {
   "cell_type": "code",
   "execution_count": 5,
   "metadata": {},
   "outputs": [
    {
     "name": "stdout",
     "output_type": "stream",
     "text": [
      "[\n",
      "  {\n",
      "    \"name\": \"赵一\",\n",
      "    \"gender\": \"男\",\n",
      "    \"department\": \"计科\",\n",
      "    \"age\": 30,\n",
      "    \"height\": 1.7,\n",
      "    \"weight\": 55.0\n",
      "  },\n",
      "  {\n",
      "    \"name\": \"钱二\",\n",
      "    \"gender\": \"女\",\n",
      "    \"department\": \"计科\",\n",
      "    \"age\": 33,\n",
      "    \"height\": 1.77,\n",
      "    \"weight\": 65.0\n",
      "  },\n",
      "  {\n",
      "    \"name\": \"孙三\",\n",
      "    \"gender\": \"女\",\n",
      "    \"department\": \"计科\",\n",
      "    \"age\": 34,\n",
      "    \"height\": 1.73,\n",
      "    \"weight\": 75.0\n",
      "  }\n",
      "]\n"
     ]
    }
   ],
   "source": [
    "// list转Json字符串\n",
    "List<Person> ps = Arrays.asList(\n",
    "        new Person(\"赵一\", \"男\", \"计科\", 30, 1.7, 55),\n",
    "        new Person(\"钱二\", \"女\", \"计科\", 33, 1.77, 65),\n",
    "        new Person(\"孙三\", \"女\", \"计科\", 34, 1.73, 75)\n",
    ");\n",
    "// 创建Gson对象\n",
    "// 为了格式化输出字符串，使用如下方法创建 Gson 对象。\n",
    "// 一般情况，直接用构造函数即可，如：Gson gson = new Gson()\n",
    "Gson gson = new GsonBuilder().setPrettyPrinting().create();\n",
    "String json = gson.toJson(ps);\n",
    "System.out.println(json);"
   ]
  },
  {
   "cell_type": "markdown",
   "metadata": {},
   "source": [
    "## 3.5 Json字符串 -> 对象\n",
    "\n",
    "使用`gson.fromJson`方法转换。"
   ]
  },
  {
   "cell_type": "code",
   "execution_count": 6,
   "metadata": {},
   "outputs": [
    {
     "name": "stdout",
     "output_type": "stream",
     "text": [
      "\n",
      "Person{name='赵一', gender='男', department='计科', age=30, height=1.7, weight=55.0}\n"
     ]
    }
   ],
   "source": [
    "String json = \"{\\n\" +\n",
    "        \"  \\\"name\\\": \\\"赵一\\\",\\n\" +\n",
    "        \"  \\\"gender\\\": \\\"男\\\",\\n\" +\n",
    "        \"  \\\"department\\\": \\\"计科\\\",\\n\" +\n",
    "        \"  \\\"age\\\": 30,\\n\" +\n",
    "        \"  \\\"height\\\": 1.7,\\n\" +\n",
    "        \"  \\\"weight\\\": 55.0\\n\" +\n",
    "        \"}\";\n",
    "Gson gson = new Gson();\n",
    "Person p = gson.fromJson(json, Person.class);\n",
    "System.out.println(p);"
   ]
  },
  {
   "cell_type": "markdown",
   "metadata": {},
   "source": [
    "## 3.6 Json字符串 -> 数组\n",
    "\n",
    "类似数组转Json字符串，转换成Json数组格式。"
   ]
  },
  {
   "cell_type": "code",
   "execution_count": 7,
   "metadata": {},
   "outputs": [
    {
     "name": "stdout",
     "output_type": "stream",
     "text": [
      "[\n",
      "Person{name='赵一', gender='男', department='计科', age=30, height=1.7, weight=55.0}, \n",
      "Person{name='孙三', gender='女', department='计科', age=34, height=1.73, weight=75.0}]\n"
     ]
    }
   ],
   "source": [
    "String json = \"[\\n\" +\n",
    "        \"  {\\n\" +\n",
    "        \"    \\\"name\\\": \\\"赵一\\\",\\n\" +\n",
    "        \"    \\\"gender\\\": \\\"男\\\",\\n\" +\n",
    "        \"    \\\"department\\\": \\\"计科\\\",\\n\" +\n",
    "        \"    \\\"age\\\": 30,\\n\" +\n",
    "        \"    \\\"height\\\": 1.7,\\n\" +\n",
    "        \"    \\\"weight\\\": 55.0\\n\" +\n",
    "        \"  },\\n\" +\n",
    "        \"  {\\n\" +\n",
    "        \"    \\\"name\\\": \\\"孙三\\\",\\n\" +\n",
    "        \"    \\\"gender\\\": \\\"女\\\",\\n\" +\n",
    "        \"    \\\"department\\\": \\\"计科\\\",\\n\" +\n",
    "        \"    \\\"age\\\": 34,\\n\" +\n",
    "        \"    \\\"height\\\": 1.73,\\n\" +\n",
    "        \"    \\\"weight\\\": 75.0\\n\" +\n",
    "        \"  }\\n\" +\n",
    "        \"]\";\n",
    "Gson gson = new Gson();\n",
    "Person[] p = gson.fromJson(json, Person[].class);\n",
    "System.out.println(Arrays.asList(p));"
   ]
  },
  {
   "cell_type": "markdown",
   "metadata": {},
   "source": [
    "## 3.7 Json字符串 -> List\n",
    "\n",
    "类似数组转Json字符串，转换成Json数组格式。"
   ]
  },
  {
   "cell_type": "code",
   "execution_count": 8,
   "metadata": {},
   "outputs": [
    {
     "name": "stdout",
     "output_type": "stream",
     "text": [
      "[\n",
      "Person{name='赵一', gender='男', department='计科', age=30, height=1.7, weight=55.0}, \n",
      "Person{name='孙三', gender='女', department='计科', age=34, height=1.73, weight=75.0}]\n"
     ]
    }
   ],
   "source": [
    "String json = \"[\\n\" +\n",
    "        \"  {\\n\" +\n",
    "        \"    \\\"name\\\": \\\"赵一\\\",\\n\" +\n",
    "        \"    \\\"gender\\\": \\\"男\\\",\\n\" +\n",
    "        \"    \\\"department\\\": \\\"计科\\\",\\n\" +\n",
    "        \"    \\\"age\\\": 30,\\n\" +\n",
    "        \"    \\\"height\\\": 1.7,\\n\" +\n",
    "        \"    \\\"weight\\\": 55.0\\n\" +\n",
    "        \"  },\\n\" +\n",
    "        \"  {\\n\" +\n",
    "        \"    \\\"name\\\": \\\"孙三\\\",\\n\" +\n",
    "        \"    \\\"gender\\\": \\\"女\\\",\\n\" +\n",
    "        \"    \\\"department\\\": \\\"计科\\\",\\n\" +\n",
    "        \"    \\\"age\\\": 34,\\n\" +\n",
    "        \"    \\\"height\\\": 1.73,\\n\" +\n",
    "        \"    \\\"weight\\\": 75.0\\n\" +\n",
    "        \"  }\\n\" +\n",
    "        \"]\";\n",
    "Gson gson = new Gson();\n",
    "// 因为List是泛型类，不能直接使用List<Person>.class作为类型， 因为编译后类型被擦除，\n",
    "// 要使用下面的Type类型\n",
    "Type type = new TypeToken<ArrayList<Person>>() {}.getType();\n",
    "List<Person> p = gson.fromJson(json, type);\n",
    "System.out.println(p);"
   ]
  },
  {
   "cell_type": "markdown",
   "metadata": {},
   "source": [
    "## 3.8 泛型对象 -> Json字符串\n",
    "\n",
    "泛型类对象转Json时，与普通对象一样，不需要做特殊处理。"
   ]
  },
  {
   "cell_type": "code",
   "execution_count": 9,
   "metadata": {},
   "outputs": [
    {
     "name": "stdout",
     "output_type": "stream",
     "text": [
      "{\n",
      "  \"first\": \"one\",\n",
      "  \"second\": \"two\"\n",
      "}\n"
     ]
    }
   ],
   "source": [
    "Pair<String> pair = new Pair<>(\"one\", \"two\");\n",
    "// 创建Gson对象\n",
    "// 为了格式化输出字符串，使用如下方法创建 Gson 对象。\n",
    "// 一般情况，直接用构造函数即可，如：Gson gson = new Gson()\n",
    "Gson gson = new GsonBuilder().setPrettyPrinting().create();\n",
    "String json = gson.toJson(pair);\n",
    "System.out.println(json);"
   ]
  },
  {
   "cell_type": "markdown",
   "metadata": {},
   "source": [
    "## 3.9 泛型对象数组 -> Json字符串\n",
    "\n",
    "不能定义泛型对象数组，所以，没有这个功能。"
   ]
  },
  {
   "cell_type": "markdown",
   "metadata": {},
   "source": [
    "## 3.10 泛型对象List -> Json字符串\n",
    "\n",
    "泛型类对象List转Json时，与普通对象List一样，不需要做特殊处理。"
   ]
  },
  {
   "cell_type": "code",
   "execution_count": 10,
   "metadata": {},
   "outputs": [
    {
     "name": "stdout",
     "output_type": "stream",
     "text": [
      "[\n",
      "  {\n",
      "    \"first\": \"one\",\n",
      "    \"second\": \"two\"\n",
      "  },\n",
      "  {\n",
      "    \"first\": \"three\",\n",
      "    \"second\": \"four\"\n",
      "  }\n",
      "]\n"
     ]
    }
   ],
   "source": [
    "List<Pair<String>> pairs = Arrays.asList(\n",
    "        new Pair<>(\"one\", \"two\"),\n",
    "        new Pair<>(\"three\", \"four\")\n",
    ");\n",
    "// 创建Gson对象\n",
    "// 为了格式化输出字符串，使用如下方法创建 Gson 对象。\n",
    "// 一般情况，直接用构造函数即可，如：Gson gson = new Gson()\n",
    "Gson gson = new GsonBuilder().setPrettyPrinting().create();\n",
    "String json = gson.toJson(pairs);\n",
    "System.out.println(json);"
   ]
  },
  {
   "cell_type": "markdown",
   "metadata": {},
   "source": [
    "## 3.11 Json字符串 -> 泛型对象\n",
    "\n",
    "因为Pair是泛型类，不能直接使用Pair<String>.class作为类型， 因为编译后类型被擦除，\n",
    "要使用下面的Type类型：    \n",
    "`Type type = new TypeToken<Pair<String>>() {}.getType();`\n",
    "    "
   ]
  },
  {
   "cell_type": "code",
   "execution_count": 11,
   "metadata": {},
   "outputs": [
    {
     "name": "stdout",
     "output_type": "stream",
     "text": [
      "\n",
      "Pair{first=one, second=two}\n"
     ]
    }
   ],
   "source": [
    "String json = \"{\\n\" +\n",
    "        \"  \\\"first\\\": \\\"one\\\",\\n\" +\n",
    "        \"  \\\"second\\\": \\\"two\\\"\\n\" +\n",
    "        \"}\";\n",
    "Gson gson = new Gson();\n",
    "// 因为Pair是泛型类，不能直接使用Pair<String>.class作为类型， 因为编译后类型被擦除，\n",
    "// 要使用下面的Type类型\n",
    "Type type = new TypeToken<Pair<String>>() {}.getType();\n",
    "Pair<String> p = gson.fromJson(json, type);\n",
    "System.out.println(p);"
   ]
  },
  {
   "cell_type": "markdown",
   "metadata": {},
   "source": [
    "## 3.12 Json字符串 -> 泛型对象数组\n",
    "\n",
    "不能定义泛型对象数组，所以，没有这个功能。"
   ]
  },
  {
   "cell_type": "markdown",
   "metadata": {},
   "source": [
    "## 3.13 Json字符串 -> 泛型对象List\n",
    "\n",
    "Type类型：    \n",
    "```Java\n",
    "Type type = new TypeToken<List<Pair<String>>>() {}.getType();\n",
    "```"
   ]
  },
  {
   "cell_type": "code",
   "execution_count": 12,
   "metadata": {},
   "outputs": [
    {
     "name": "stdout",
     "output_type": "stream",
     "text": [
      "[\n",
      "Pair{first=one, second=two}, \n",
      "Pair{first=three, second=four}]\n"
     ]
    }
   ],
   "source": [
    "String json = \"[\\n\" +\n",
    "        \"  {\\n\" +\n",
    "        \"    \\\"first\\\": \\\"one\\\",\\n\" +\n",
    "        \"    \\\"second\\\": \\\"two\\\"\\n\" +\n",
    "        \"  },\\n\" +\n",
    "        \"  {\\n\" +\n",
    "        \"    \\\"first\\\": \\\"three\\\",\\n\" +\n",
    "        \"    \\\"second\\\": \\\"four\\\"\\n\" +\n",
    "        \"  }\\n\" +\n",
    "        \"]\";\n",
    "Gson gson = new Gson();\n",
    "// 因为Pair是泛型类，不能直接使用Pair<String>.class作为类型， 因为编译后类型被擦除，\n",
    "// 要使用下面的Type类型\n",
    "Type type = new TypeToken<List<Pair<String>>>() {}.getType();\n",
    "List<Pair<String>> p = gson.fromJson(json, type);\n",
    "System.out.println(p);"
   ]
  },
  {
   "cell_type": "markdown",
   "metadata": {},
   "source": [
    "## 3.14 Map对象 -> Json字符串"
   ]
  },
  {
   "cell_type": "code",
   "execution_count": 13,
   "metadata": {},
   "outputs": [
    {
     "name": "stdout",
     "output_type": "stream",
     "text": [
      "{\n",
      "  \"name\": \"张三\",\n",
      "  \"age\": 30,\n",
      "  \"height\": 1.7\n",
      "}\n"
     ]
    }
   ],
   "source": [
    "HashMap<String, Object> map = new HashMap<>();\n",
    "map.put(\"name\", \"张三\");\n",
    "map.put(\"age\", 30);\n",
    "map.put(\"height\", 1.7);\n",
    "// 创建Gson对象\n",
    "// 为了格式化输出字符串，使用如下方法创建 Gson 对象。\n",
    "// 一般情况，直接用构造函数即可，如：Gson gson = new Gson()\n",
    "Gson gson = new GsonBuilder().setPrettyPrinting().create();\n",
    "String json = gson.toJson(map);\n",
    "System.out.println(json);"
   ]
  },
  {
   "cell_type": "markdown",
   "metadata": {},
   "source": [
    "## 3.15 Json字符串 -> Map对象"
   ]
  },
  {
   "cell_type": "code",
   "execution_count": 14,
   "metadata": {},
   "outputs": [
    {
     "name": "stdout",
     "output_type": "stream",
     "text": [
      "张三\n",
      "30.0\n",
      "1.7\n"
     ]
    }
   ],
   "source": [
    "String json = \"{\\n\" +\n",
    "        \"  \\\"name\\\": \\\"张三\\\",\\n\" +\n",
    "        \"  \\\"age\\\": 30,\\n\" +\n",
    "        \"  \\\"height\\\": 1.7\\n\" +\n",
    "        \"}\";\n",
    "Gson gson = new Gson();\n",
    "\n",
    "HashMap<String, Object> map = gson.fromJson(json, HashMap.class);\n",
    "System.out.println(map.get(\"name\"));\n",
    "System.out.println(map.get(\"age\"));\n",
    "System.out.println(map.get(\"height\"));"
   ]
  },
  {
   "cell_type": "markdown",
   "metadata": {},
   "source": [
    "# 4. 提醒\n",
    "\n",
    "如果从网络获得一个json字符串，要编写对应的Java类，推荐使用GsonFormat插件，可以用json字符串生成Java类。   \n",
    "插件安装、使用方法参考：https://www.cnblogs.com/1024zy/p/6370305.html\n",
    "\n",
    "### 4.1 案例\n",
    "在`io.webapi.eol`包中，`SchoolInfo`就是用GsonFormat生成的，`SchoolInfoTools`可以根据学校代码获取学校信息，   \n",
    "使用的URL是 https://static-data.eol.cn/www/school/355/info.json   \n",
    "355 是红河学院的代码，你可以试试其它代码。"
   ]
  },
  {
   "cell_type": "markdown",
   "metadata": {},
   "source": [
    "### 作业1\n",
    "\n",
    "在网络中查找任意一个以JSON作为数据交换格式的免费API, 调用该API，得到相应的数据。   \n",
    "提示：\n",
    "    1. 先通过API的URL在浏览器中访问，得到结果JSON字符串\n",
    "    2. 使用 GsonFormat 创建JSON字符串对应的java类\n",
    "    3. 从网络获取JSON字符串的方法，参考：io.webapi.eol.SchoolInfoTools, io.webapi.java11api.SchoolInfoForNewApi (都在我提供的源码里)\n",
    "    4. 免费的API参考： https://github.com/fangzesheng/free-api"
   ]
  },
  {
   "cell_type": "markdown",
   "metadata": {},
   "source": [
    "# 5. 参考\n",
    "\n",
    "1. JSON 官网 \n",
    "1. json格式化校验工具 http://www.kjson.com/\n",
    "1. JSON代码格式化高亮美化 | 格式校验工具 https://www.w3cschool.cn/tools/index?name=jsonparse\n",
    "1. 插件GsonFormat快速生成JSon实体类 https://www.cnblogs.com/1024zy/p/6370305.html"
   ]
  }
 ],
 "metadata": {
  "kernelspec": {
   "display_name": "Java",
   "language": "java",
   "name": "java"
  },
  "language_info": {
   "codemirror_mode": "java",
   "file_extension": ".jshell",
   "mimetype": "text/x-java-source",
   "name": "Java",
   "pygments_lexer": "java",
   "version": "11.0.6+8-LTS"
  }
 },
 "nbformat": 4,
 "nbformat_minor": 4
}
