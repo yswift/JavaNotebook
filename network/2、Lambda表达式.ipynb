{
 "cells": [
  {
   "cell_type": "markdown",
   "metadata": {},
   "source": [
    "# Lambda表达式\n",
    "\n",
    "## 目标\n",
    "\n",
    "1. 理解Lambda的含义  \n",
    "1. 会使用Lambda表达式简化代码\n",
    "\n",
    "## 简介\n",
    "Lambda 表达式，它是 Java 8 的重大改进。  \n",
    "Lambda 允许把函数作为一个方法的参数（函数作为参数传递进方法中）。  \n",
    "使用 Lambda 表达式可以使代码变的更加简洁紧凑。  \n",
    "\n",
    "> 实质：Lambda表达式的本质只是一个\"语法糖\",由编译器推断并帮你转换包装为常规的代码,因此你可以使用更少的代码来实现同样的功能。\n",
    "\n",
    "Lambda 表达式为 Java 添加了缺失的函数式编程特点，使我们能将函数当做一等公民看待。尽管不完全正确，我们很快就会见识到 Lambda 与闭包的不同之处，但是又无限地接近闭包。在支持一类函数的语言中，Lambda 表达式的类型将是函数。但是，在 Java 中，Lambda 表达式是对象，他们必须依附于一类特别的对象类型——函数式接口(functional interface)。我们会在后文详细介绍函数式接口。\n",
    "\n",
    "## 语法\n",
    "\n",
    "lambda 表达式的语法格式如下：\n",
    "```Java\n",
    "(parameters) -> expression\n",
    "或\n",
    "(parameters) ->{ statements; }\n",
    "```\n",
    "lambda表达式语法说明:\n",
    " - 可选类型声明：不需要声明参数类型，编译器可以统一识别参数值。  \n",
    " - 选的参数圆括号：一个参数无需定义圆括号，但多个参数需要定义圆括号。  \n",
    " - 可选的大括号：如果主体包含了一个语句，就不需要使用大括号。  \n",
    " - 可选的返回关键字：如果主体只有一个表达式返回值则编译器会自动返回值，大括号需要指定明表达式返回了一个值。\n",
    "\n",
    "## Lambda 表达式实例\n",
    "```Java\n",
    "// 1. 不需要参数,返回值为 5  \n",
    "() -> 5  \n",
    "    \n",
    "// 2. 接收一个参数(数字类型),返回其2倍的值  \n",
    "x -> 2 * x  \n",
    "\n",
    "// 3. 接受2个参数(数字),并返回他们的差值  \n",
    "(x, y) -> x – y  \n",
    "\n",
    "// 4. 接收2个int型整数,返回他们的和  \n",
    "(int x, int y) -> x + y  \n",
    "\n",
    "// 5. 接受一个 string 对象,并在控制台打印,不返回任何值(看起来像是返回void)  \n",
    "(String s) -> System.out.print(s)\n",
    "```\n",
    "\n",
    "## Lambda 表达式的结构\n",
    "由上面的例子可以看出，Lambda 表达式的结构如下：\n",
    "- 一个 Lambda 表达式可以有零个或多个参数\n",
    "- 参数的类型既可以明确声明，也可以根据上下文来推断。例如：`(int a)`与`(a)`效果相同\n",
    "- 所有参数需包含在圆括号内，参数之间用逗号相隔。例如：`(a, b)` 或 `(int a, int b)` 或 `(String a, int b, float c)`\n",
    "- 空圆括号代表参数集为空。例如：`( ) -> 42`\n",
    "- 当只有一个参数，且其类型可推导时，圆括号`( )`可省略。例如：`a -> return a*a`\n",
    "- Lambda 表达式的主体可包含零条或多条语句\n",
    "- 如果 Lambda 表达式的主体只有一条语句，花括号`{ }`可省略。匿名函数的返回类型与该主体表达式一致\n",
    "- 如果 Lambda 表达式的主体包含一条以上语句，则表达式必须包含在花括号`{ }`中（形成代码块）。匿名函数的返回类型与代码块的返回类型一致，若没有返回则为空\n"
   ]
  },
  {
   "cell_type": "markdown",
   "metadata": {},
   "source": [
    "## 基本的Lambda例子"
   ]
  },
  {
   "cell_type": "code",
   "execution_count": 1,
   "metadata": {},
   "outputs": [
    {
     "name": "stdout",
     "output_type": "stream",
     "text": [
      "[92, 25, 51, 26, 8, 81, 35, 80, 2, 74]\n"
     ]
    }
   ],
   "source": [
    "import java.util.stream.*;\n",
    "import java.util.*;\n",
    "\n",
    "// 生成10个100内的随机数\n",
    "Random random = new Random();\n",
    "List<Integer> numbers = Stream.generate(()->random.nextInt(100))\n",
    "    .limit(10).collect(Collectors.toList());\n",
    "// 输出这10个数\n",
    "System.out.println(numbers);"
   ]
  },
  {
   "cell_type": "markdown",
   "metadata": {},
   "source": [
    "如果我需要对这个`list`排序，没有lambda表达式前，我需要这么做"
   ]
  },
  {
   "cell_type": "code",
   "execution_count": 5,
   "metadata": {},
   "outputs": [
    {
     "name": "stdout",
     "output_type": "stream",
     "text": [
      "[2, 8, 25, 26, 35, 51, 74, 80, 81, 92]\n"
     ]
    }
   ],
   "source": [
    "Collections.sort(numbers, new Comparator<Integer>() {\n",
    "    @Override\n",
    "    public int compare(Integer n1, Integer n2) {\n",
    "        return Integer.compare(n1, n2);\n",
    "    }\n",
    "});\n",
    "// 输出排序结果\n",
    "System.out.println(numbers);"
   ]
  },
  {
   "cell_type": "markdown",
   "metadata": {},
   "source": [
    "上面的例子可以看出，真正实现比较功能的代码是`Integer.compare(n1, n2)`，  \n",
    "但为了使用`Integer.compare(n1, n2)`，需要创建匿名内部类，继承`Comparator<Integer>`接口，并实现`compare`方法，  \n",
    "使用不方便，而lambda表达式可以简化上述的代码。\n",
    "使用lambda表达式实现排序的代码如下："
   ]
  },
  {
   "cell_type": "code",
   "execution_count": 8,
   "metadata": {},
   "outputs": [
    {
     "name": "stdout",
     "output_type": "stream",
     "text": [
      "[2, 8, 25, 26, 35, 51, 74, 80, 81, 92]\n"
     ]
    }
   ],
   "source": [
    "Collections.sort(numbers, (n1, n2) -> Integer.compare(n1, n2));\n",
    "// 输出排序结果\n",
    "System.out.println(numbers);"
   ]
  },
  {
   "cell_type": "markdown",
   "metadata": {},
   "source": [
    "对比原来的\n",
    "```Java\n",
    "new Comparator<Integer>() {\n",
    "    @Override\n",
    "    public int compare(Integer n1, Integer n2) {\n",
    "        return Integer.compare(n1, n2);\n",
    "    }\n",
    "});\n",
    "```\n",
    "和使用lambda后\n",
    "```Java\n",
    "(n1, n2) -> Integer.compare(n1, n2)\n",
    "```\n",
    "使用lambda可以极大的简化代码   \n",
    "原本，我们需要传递一个对象`new Comparator<Integer>()`给方法`sort`, \n",
    "现在传递一个lambda表达式`(n1, n2) -> Integer.compare(n1, n2)`，用lambda简化了原有的匿名内部类创建，和方法覆盖。\n",
    "\n",
    "#### lambda 表达式的主要用途：代替原来的匿名内部类，简化编程"
   ]
  },
  {
   "cell_type": "markdown",
   "metadata": {},
   "source": [
    "---\n",
    "## Java 函数式接口\n",
    "函数式接口是具有一个方法的接口，用作lambda表达式的类型。\n",
    "```Java\n",
    "@FunctionalInterface\n",
    "public interface Consumer<T> {\n",
    "    void accept(T t);\n",
    "}\n",
    "```\n",
    "`Consumer<T>`只有一个方法`accept`。它是一个函数式接口。无论调用什么单一方法，只要Java编译器具有兼容的方法签名，Java编译器就会将其匹配到您的lambda表达式。  \n",
    "lambda表达式表示函数式接口的实例。  \n",
    "lambda表达式的类型是一个函数式接口类型。  \n",
    "\n",
    "@FunctionalInterface注释  \n",
    "\n",
    "`@FunctionalInterface` 注释在`java.lang`包中定义。我们可以选择使用它来标记一个函数式接口。\n",
    "如果注释 `@FunctionalInterface` 在非函数式接口或其他类型（如类）上注释，则会发生编译时错误。\n",
    "具有一个抽象方法的接口仍然是一个功能接口，即使我们不用 `@FunctionalInterface` 注释。\n",
    "\n",
    "## Java 中的函数式接口\n",
    "\n",
    "Java 8在包java.util.function中定义常用的函数式接口\n",
    "\n",
    "#### 函数 Function\n",
    "表示接受类型`T`的参数并返回类型`R`的结果的函数。\n",
    "```Java\n",
    "public interface Function<T,R>{\n",
    "   public R apply(T t);\n",
    "}\n",
    "```\n",
    "\n",
    "#### 二元函数 BiFunction\n",
    "表示一个函数，它接受类型`T`和`U`的两个参数，并返回类型R的结果。\n",
    "```Java\n",
    "public interface BiFunction<T,U,R>{\n",
    "   ...\n",
    "   public R apply(T t, U u);\n",
    "   ...\n",
    "}         \n",
    "```\n",
    "\n",
    "#### 谓词\n",
    "表示为指定参数返回 `true` 或 `false` 的布尔函数。\n",
    "```Java\n",
    "public Predicate<T> {\n",
    "   ...\n",
    "   public boolean test(T  t);\n",
    "   ...\n",
    "}\n",
    "```\n",
    "\n",
    "#### 二元谓词 BiPredicate\n",
    "表示为两个指定的参数返回 `true` 或 `false` 的布尔函数。\n",
    "```Java\n",
    "public interface BiPredicate<T,U>{\n",
    "   ...\n",
    "   public boolean test(T t, U u);\n",
    "   ...   \n",
    "}\n",
    "```\n",
    "\n",
    "#### 消费者 Consumer\n",
    "表示接受参数并且不返回结果的操作。\n",
    "```Java\n",
    "public interface Consumer<T>{\n",
    "   ...\n",
    "   public void accept(T t);\n",
    "   ...\n",
    "}\n",
    "```\n",
    "\n",
    "#### 二元消费者 BiConsumer\n",
    "表示接受两个参数并且不返回结果的操作。\n",
    "```Java\n",
    "public interface BiConsumer<T,U>{\n",
    "   ...   \n",
    "   public void accept(T t, U  u);\n",
    "   ...   \n",
    "}\n",
    "```\n",
    "\n",
    "#### 生产者 Supplier\n",
    "表示返回类型T的值的函数。\n",
    "```Java\n",
    "public interface Supplier<T>{\n",
    "   ...\n",
    "    public T get();\n",
    "   ...\n",
    "}\n",
    "```\n",
    "\n",
    "#### UnaryOperator\n",
    "表示接受参数并返回相同类型的结果的函数。\n",
    "```Java\n",
    "public interface UnaryOperator<T>{\n",
    "   ...\n",
    "   public T  apply(T t);\n",
    "   ...\n",
    "}\n",
    "```\n",
    "\n",
    "#### BinaryOperator\n",
    "表示一个函数，它接受两个参数并返回相同类型的结果。\n",
    "```Java\n",
    "public interface BinaryOperator<T>{\n",
    "   ...\n",
    "   public T apply(T t1, T t2);\n",
    "   ...\n",
    "}           \n",
    "```\n",
    "\n",
    "##### 注意2\n",
    "上述通用函数式接口都是更专用的函数式接口的通用版本。\n",
    "例如， `IntConsumer` 是 `Consumer<T>` 的专用版本。`IntConsumer` 专门用于处理int类型数据，避免了装箱，拆箱操作。"
   ]
  },
  {
   "cell_type": "markdown",
   "metadata": {},
   "source": [
    "---\n",
    "### 函数接口\n",
    "表示接受类型`T`的参数并返回类型`R`的结果的函数。`Function<T, R>` 接口有六个特殊化：\n",
    "\n",
    "- `IntFunction<R>`\n",
    "- `LongFunction<R>`\n",
    "- `DoubleFunction<R>`\n",
    "- `ToIntFunction<T>`\n",
    "- `ToLongFunction<T>`\n",
    "- `ToDoubleFunction<T>`\n",
    "\n",
    "`IntFunction<R>, LongFunction<R>`, 和 `DoubleFunction<R>`分别以`int，long`和`double`作为参数，它们的返回值在类型`R`中。`ToIntFunction<T>, ToLongFunction<T>`, 和 `ToDoubleFunction<T>` 取`T`类型的参数，并分别返回`int，long`和`double`。\n",
    "\n"
   ]
  },
  {
   "cell_type": "code",
   "execution_count": 4,
   "metadata": {},
   "outputs": [
    {
     "name": "stdout",
     "output_type": "stream",
     "text": [
      "1, 4, 9, 16, 25, 36, 49, 64, 81, 100, \n",
      "1.0, 1.4142135623730951, 1.7320508075688772, 2.0, 2.23606797749979, 2.449489742783178, 2.6457513110645907, 2.8284271247461903, 3.0, 3.1622776601683795, "
     ]
    }
   ],
   "source": [
    "import java.util.stream.IntStream;\n",
    "\n",
    "// 初始化1-10的int数组\n",
    "int[] ns = {1,2,3,4,5,6,7,8,9,10};\n",
    "// 计算各个数的平方，并输出\n",
    "// n-> n*n 即使用了IntFunction<int>函数接口,接收int类型数据，返回int类型数据。\n",
    "IntStream.of(ns).map(n -> n*n).forEach(n -> System.out.print(n + \", \"));\n",
    "System.out.println();\n",
    "\n",
    "// 计算各个数的平方根，并输出\n",
    "// n-> n*n 即使用了IntFunction<double>函数接口,接收int类型数据，返回double类型数据。 \n",
    "IntStream.of(ns).mapToDouble(n -> Math.sqrt(n)).forEach(n -> System.out.print(n + \", \"));"
   ]
  },
  {
   "cell_type": "markdown",
   "metadata": {},
   "source": [
    "---\n",
    "### Java 谓词接口\n",
    "Java Lambda - Java谓词接口  \n",
    "谓词接口包含以下默认和静态方法。  \n",
    "我们可以使用NOT，AND和OR方法来创建基于其他谓词的谓词。\n",
    "```Java\n",
    "default  Predicate<T> negate()\n",
    "default  Predicate<T> and(Predicate<? super T> other)\n",
    "default  Predicate<T> or(Predicate<?  super T> other)\n",
    "static <T> Predicate<T> isEqual(Object  targetRef)\n",
    "```\n",
    "- `negate()`否定原始谓词的谓词。\n",
    "- `and()`组合两个具有短路逻辑AND的谓词。\n",
    "- `or()`组合了具有短路逻辑或的两个谓词。\n",
    "- `isEqual()`返回一个谓词，根据`Objects.equals(Object，Object)`测试两个参数是否相等。\n",
    "\n",
    "我们可以链接上述方法来创建复杂谓词。"
   ]
  },
  {
   "cell_type": "code",
   "execution_count": 9,
   "metadata": {},
   "outputs": [
    {
     "name": "stdout",
     "output_type": "stream",
     "text": [
      "2, 4, 6, 8, 10, "
     ]
    }
   ],
   "source": [
    "// 初始化1-10的int数组\n",
    "int[] ns = {1,2,3,4,5,6,7,8,9,10};\n",
    "// 输出ns中的偶数, filter(n -> n%2 == 0)即使用了谓词接口，输入int数据，返回boolean类型\n",
    "IntStream.of(ns).filter(n -> n%2 == 0).forEach(n -> System.out.print(n + \", \"));"
   ]
  },
  {
   "cell_type": "markdown",
   "metadata": {},
   "source": [
    "---\n",
    "### Java 静态方法引用\n",
    "\n",
    "lambda表达式表示在函数接口中定义的匿名函数。  \n",
    "方法引用使用现有方法创建lambda表达式。\n",
    "\n",
    "方法引用的一般语法是\n",
    "`Qualifier::MethodName`\n",
    "两个连续的冒号充当分隔符。\n",
    "`Qualifier` 限定符告诉在哪里找到方法引用。\n",
    "`MethodName` 是方法的名称。\n",
    "\n",
    "例子\n",
    "例如，我们可以使用 `String::length` 从 `String` 类引用`length`方法。这里 `String` 是限定符， `length` 是方法名。\n",
    "\n",
    "我们只需要指定方法名。\n",
    "无需指定方法的参数类型和返回类型。\n",
    "方法引用的目标类型是功能接口。它确定方法的签名并在必要时解析重载的方法。\n",
    "\n",
    "方法引用类型\n",
    "有六种类型的方法引用。\n",
    "\n",
    "- `TypeName::staticMethod` - 引用类的静态方法，接口或枚举\n",
    "- `objectRef::instanceMethod` - 引用实例方法\n",
    "- `ClassName::instanceMethod` - 从类中引用实例方法\n",
    "- `TypeName.super::instanceMethod` - 从对象的父类型引用实例方法\n",
    "- `ClassName::new` - 引用一个类的构造函数\n",
    "- `ArrayTypeName::new` - 对指定数组类型的构造函数的引用"
   ]
  },
  {
   "cell_type": "code",
   "execution_count": 14,
   "metadata": {},
   "outputs": [
    {
     "name": "stdout",
     "output_type": "stream",
     "text": [
      "1.0, 1.4142135623730951, 1.7320508075688772, 2.0, 2.23606797749979, \n",
      "1.0, 1.4142135623730951, 1.7320508075688772, 2.0, 2.23606797749979, "
     ]
    }
   ],
   "source": [
    "// 初始化1-10的int数组\n",
    "int[] ns = {1,2,3,4,5};\n",
    "// 计算，输出ns中各个数的平方根\n",
    "IntStream.of(ns).mapToDouble(n->Math.sqrt(n)).forEach(n -> System.out.print(n + \", \"));\n",
    "System.out.println();\n",
    "\n",
    "// 计算，输出ns中各个数的平方根\n",
    "IntStream.of(ns).mapToDouble(Math::sqrt).forEach(n -> System.out.print(n + \", \"));"
   ]
  },
  {
   "cell_type": "markdown",
   "metadata": {},
   "source": [
    "---\n",
    "### Java 实例方法引用\n",
    "\n",
    "我们可以通过两种方式获得一个实例方法引用，从对象实例或从类名。  \n",
    "基本上我们有以下两种形式。  \n",
    "```Java\n",
    "    instance::MethodName\n",
    "    ClassName::MethodName\n",
    "```\n",
    "这里实例表示任何对象实例。 `ClassName` 是的名称类，例如 `String` ， `Integer` 。\n",
    "实例和 `ClassName` 称为接收器。更具体地说， `instance` 被称为有界接收器，而 `ClassName` 被称为无界接收器。\n",
    "我们称为实例有界接收器，因为接收器被限制到实例。\n",
    "`ClassName` 是未经过排队的接收器，因为接收器以后有界。\n",
    "\n",
    "绑定实例方法引用\n",
    "\n",
    "绑定接收器接收器具有以下形式：\n",
    "`instance::MethodName`"
   ]
  },
  {
   "cell_type": "code",
   "execution_count": 15,
   "metadata": {},
   "outputs": [
    {
     "name": "stdout",
     "output_type": "stream",
     "text": [
      "12345\n",
      "12345"
     ]
    }
   ],
   "source": [
    "// 初始化1-10的int数组\n",
    "int[] ns = {1,2,3,4,5};\n",
    "// 输出ns中各个数\n",
    "IntStream.of(ns).forEach(n -> System.out.print(n));\n",
    "System.out.println();\n",
    "\n",
    "// 输出ns中各个数\n",
    "IntStream.of(ns).forEach(System.out::print);"
   ]
  },
  {
   "cell_type": "markdown",
   "metadata": {},
   "source": [
    "---\n",
    "### 泛型方法引用\n",
    "\n",
    "我们可以通过指定实际的类型参数来在方法引用中使用泛型方法。\n",
    "\n",
    "语法如下：\n",
    "`ClassName::<TypeName>methodName`\n",
    "\n",
    "通用构造函数引用的语法：\n",
    "`ClassName<TypeName>::new`"
   ]
  },
  {
   "cell_type": "code",
   "execution_count": 17,
   "metadata": {},
   "outputs": [
    {
     "name": "stdout",
     "output_type": "stream",
     "text": [
      "words type is class [Ljava.lang.String;\n",
      "wordList type is class java.util.Arrays$ArrayList\n",
      "[class, method, function, type, public]\n"
     ]
    }
   ],
   "source": [
    "import java.util.function.Function;\n",
    "// 字符串数组 -> 字符串列表 TODO 修改示例\n",
    "String[] words = {\"class\", \"method\", \"function\", \"type\", \"public\"};\n",
    "Function<String[],List<String>> toList = Arrays::<String>asList;\n",
    "List<String> wordList = toList.apply(words);\n",
    "System.out.println(\"words type is \" + words.getClass());\n",
    "System.out.println(\"wordList type is \" + wordList.getClass());\n",
    "System.out.println(wordList);\n"
   ]
  },
  {
   "cell_type": "markdown",
   "metadata": {},
   "source": [
    "---\n",
    "### Java Lambda表达式作用域\n",
    "\n",
    "1. lambda表达式不定义自己的范围。\n",
    "如果我们在lambda中使用关键字 this 和 super 表达式在方法中，它们的行为与我们在该方法中使用它们一样。\n",
    "\n",
    "2. lambda表达式可以访问最终局部变量或局部非最终初始化只有一次的变量。\n"
   ]
  },
  {
   "cell_type": "markdown",
   "metadata": {},
   "source": [
    "---\n",
    "## 小节\n",
    "### 1. lambda 表达式用在何处\n",
    "lambda 表达式主要用于替换以前广泛使用的内部匿名类，各种回调，比如事件响应器、传入Thread类的Runnable等。回顾排序的例子\n",
    "### 2. lambda 表达式与集合类批处理操作（或者叫块操作）\n",
    "在下一小节，我们将使用lambda表达式，改写“Java 容器，数据处理”中的代码。\n"
   ]
  }
 ],
 "metadata": {
  "kernelspec": {
   "display_name": "Java",
   "language": "java",
   "name": "java"
  },
  "language_info": {
   "codemirror_mode": "java",
   "file_extension": ".jshell",
   "mimetype": "text/x-java-source",
   "name": "Java",
   "pygments_lexer": "java",
   "version": "11.0.6+8-LTS"
  }
 },
 "nbformat": 4,
 "nbformat_minor": 4
}
